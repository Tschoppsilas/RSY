{
 "cells": [
  {
   "cell_type": "code",
   "id": "initial_id",
   "metadata": {
    "collapsed": true,
    "jupyter": {
     "outputs_hidden": true
    },
    "ExecuteTime": {
     "end_time": "2025-05-07T12:33:41.418267Z",
     "start_time": "2025-05-07T12:33:41.402591Z"
    }
   },
   "source": [
    "import pandas as pd\n",
    "from pathlib import Path\n",
    "import numpy as np\n",
    "import os\n",
    "import pprint\n",
    "import matplotlib.pyplot as plt\n",
    "import seaborn as sns\n",
    "import random\n",
    "from collections import defaultdict\n",
    "from sklearn.metrics.pairwise import cosine_similarity\n",
    "from surprise import Dataset, Reader, SVD\n",
    "from surprise.model_selection import train_test_split\n",
    "from surprise import accuracy"
   ],
   "outputs": [],
   "execution_count": 29
  },
  {
   "cell_type": "code",
   "execution_count": 3,
   "id": "9b49b48ed39f612e",
   "metadata": {
    "ExecuteTime": {
     "end_time": "2025-05-07T12:14:02.576022Z",
     "start_time": "2025-05-07T12:14:02.397050Z"
    }
   },
   "outputs": [],
   "source": [
    "#Gefilterte Datensätze wieder den Variablen zuweisen:\n",
    "output_dir = Path(\"Data/filtered_data\")\n",
    "csv_path_links = output_dir / \"links_cleaned.csv\"\n",
    "csv_path_movies = output_dir / \"movies_cleaned.csv\"\n",
    "csv_path_ratings = output_dir / \"ratings_cleaned.csv\"\n",
    "csv_path_tags = output_dir / \"tags_cleaned.csv\"\n",
    "links = pd.read_csv(csv_path_links)\n",
    "movies = pd.read_csv(csv_path_movies)\n",
    "ratings = pd.read_csv(csv_path_ratings)\n",
    "tags = pd.read_csv(csv_path_tags)"
   ]
  },
  {
   "cell_type": "code",
   "execution_count": 4,
   "id": "815501dd987d98e1",
   "metadata": {
    "ExecuteTime": {
     "end_time": "2025-05-07T12:14:03.733408Z",
     "start_time": "2025-05-07T12:14:03.561400Z"
    }
   },
   "outputs": [],
   "source": [
    "output_dir = Path(\"Data/Train_Test_Validate\")\n",
    "csv_path_train = output_dir / \"train_df.csv\"\n",
    "csv_path_test = output_dir / \"test_df.csv\"\n",
    "training = pd.read_csv(csv_path_train)\n",
    "test = pd.read_csv(csv_path_test)\n",
    "csv_path_test_masked = output_dir / \"test_df_masked.csv\"\n",
    "test_masked = pd.read_csv(csv_path_test_masked)"
   ]
  },
  {
   "cell_type": "markdown",
   "id": "dd17baaba12397f6",
   "metadata": {},
   "source": [
    "# Aufgabe 2"
   ]
  },
  {
   "cell_type": "code",
   "execution_count": 11,
   "id": "1bd76d682375a71",
   "metadata": {
    "ExecuteTime": {
     "end_time": "2025-05-07T12:16:51.285285Z",
     "start_time": "2025-05-07T12:16:34.914967Z"
    }
   },
   "outputs": [
    {
     "name": "stderr",
     "output_type": "stream",
     "text": [
      "\n",
      "KeyboardInterrupt\n",
      "\n"
     ]
    }
   ],
   "source": [
    "def calculate_biases(df, beta_u=20, beta_i=20, iteration=10):\n",
    "    #erstellt einen Key, wenn der aufgerufene Key nicht existiert\n",
    "    b_i = defaultdict(float)\n",
    "    b_u = defaultdict(float)\n",
    "    #Globalen Durchschnitt berechnen\n",
    "    mu = df[\"rating\"].mean()\n",
    "\n",
    "    # Vorab gruppieren nach User und Movie\n",
    "    user_groups = df.groupby(\"userId\")\n",
    "    movie_groups = df.groupby(\"movieId\")\n",
    "\n",
    "    for _ in range(iteration):\n",
    "        # Update b_u\n",
    "        for user_id, group in user_groups:\n",
    "            numer = (group[\"rating\"] - mu - group[\"movieId\"].map(b_i)).sum()#Summe der Abweichung für den nutzer\n",
    "            denom = beta_u + len(group) #Filme mit weniger bewertungen sollen damit stärker reguliert werden\n",
    "            b_u[user_id] = numer / denom #berechneter user bias\n",
    "\n",
    "        # Update b_i\n",
    "        for movie_id, group in movie_groups:\n",
    "            numer = (group[\"rating\"] - mu - group[\"userId\"].map(b_u)).sum()#Summe der Abweichung für den Film\n",
    "            denom = beta_i + len(group)\n",
    "            b_i[movie_id] = numer / denom #berechneter item bias\n",
    "\n",
    "    return mu, dict(b_u), dict(b_i)\n",
    "\n",
    "mu_baseline, b_u_baseline, b_i_baseline = calculate_biases(ratings)"
   ]
  },
  {
   "cell_type": "code",
   "execution_count": null,
   "id": "27c138856df8fc93",
   "metadata": {},
   "outputs": [],
   "source": [
    "#Vorhersagen für die nicht bewerteten Filme eines Users\n",
    "def predict(mu, b_u, b_i, user_ID, unrated_Itmes):\n",
    "    prediction = []\n",
    "    for item_ID in unrated_Itmes:\n",
    "        predicted_rating = mu + b_u[user_ID] + b_i[item_ID]\n",
    "        prediction.append((item_ID, predicted_rating))\n",
    "    prediction.sort(key=lambda x: x[1], reverse=True)\n",
    "    return prediction\n",
    "\n",
    "#Vorhersagen für Top-N Empfehlungen\n",
    "def get_top_n_reco(df,mu, b_u, b_i, user_ID, N = 20):\n",
    "    #Filtern nach welche Filme bereits von User bewertet wurden\n",
    "    rated = df[df[\"userId\"] == user_ID][\"movieId\"]\n",
    "    #Liste erstellen für alle nicht bertetetn Filme\n",
    "    unrated_prod = [item for item in df[\"movieId\"].unique() if item not in rated]\n",
    "    #Vorhersage berechnen wie der Nutzer den Film finden würde\n",
    "    top_n_pred = predict(mu, b_u, b_i,user_ID, unrated_prod)[:N]\n",
    "    print(f\"\\n Top {N} Empfehlungen für Benutzer {user_ID} sind:\")\n",
    "    for rank, (movie_id, score) in enumerate(top_n_pred, start=1):\n",
    "        movie_title = movies.loc[movies['movieId'] == movie_id, 'title'].values[0]\n",
    "        print(f\"{rank}. {movie_title} - Vorhergesagter Wert: {score:.2f}\")\n",
    "\n",
    "\n",
    "get_top_n_reco(ratings,mu_baseline, b_u_baseline, b_i_baseline, 1)\n",
    "get_top_n_reco(ratings,mu_baseline, b_u_baseline, b_i_baseline, 3)\n",
    "get_top_n_reco(ratings,mu_baseline, b_u_baseline, b_i_baseline, 7)"
   ]
  },
  {
   "cell_type": "code",
   "execution_count": null,
   "id": "9d206bc1126c2c5c",
   "metadata": {},
   "outputs": [],
   "source": [
    "def random_recom(df, user_ID, mu, b_u, b_i, movies, N=20):\n",
    "    # Filme, die der User schon gesehen hat\n",
    "    rated = df[df['userId'] == user_ID]['movieId']\n",
    "    \n",
    "    # Alle anderen Filme\n",
    "    unrated_prod = [item for item in df[\"movieId\"].unique() if item not in rated.values]\n",
    "    \n",
    "    # Zufällige Auswahl\n",
    "    random_recommendations = random.sample(unrated_prod, min(N, len(unrated_prod)))\n",
    "    \n",
    "    print(f\"\\nZufällige Empfehlungen für User {user_ID} mit vorhergesagtem Score:\")\n",
    "    \n",
    "    for rank, movie_id in enumerate(random_recommendations, start=1):\n",
    "        title = movies.loc[movies['movieId'] == movie_id, 'title'].values[0]\n",
    "        \n",
    "        # Vorhersage berechnen, wenn User- oder Item-Bias fehlen, nutze 0\n",
    "        bu = b_u.get(user_ID, 0)\n",
    "        bi = b_i.get(movie_id, 0)\n",
    "        pred_score = mu + bu + bi\n",
    "        \n",
    "        print(f\"{rank}. {title} — Vorhergesagter Score: {pred_score:.2f}\")\n",
    "        \n",
    "random_recom(ratings, user_ID=1, mu=mu_baseline, b_u=b_u_baseline, b_i=b_i_baseline, movies=movies, N=20)\n",
    "random_recom(ratings, user_ID=3, mu=mu_baseline, b_u=b_u_baseline, b_i=b_i_baseline, movies=movies, N=20)\n",
    "random_recom(ratings, user_ID=7, mu=mu_baseline, b_u=b_u_baseline, b_i=b_i_baseline, movies=movies, N=20)"
   ]
  },
  {
   "cell_type": "markdown",
   "id": "787f23be49e63106",
   "metadata": {},
   "source": [
    "# Aufgabe 3"
   ]
  },
  {
   "metadata": {
    "ExecuteTime": {
     "end_time": "2025-05-07T15:49:34.649619Z",
     "start_time": "2025-05-07T15:49:33.690535Z"
    }
   },
   "cell_type": "code",
   "source": [
    "def mask_test_all_but_percent(test_df, user_col=\"userId\", rating_col=\"rating\", percent_keep=0.3, random_seed=42):\n",
    "    np.random.seed(random_seed)\n",
    "    masked_list = []\n",
    "\n",
    "    for user_id in test_df[user_col].unique():\n",
    "        user_data = test_df[test_df[user_col] == user_id]\n",
    "\n",
    "        if len(user_data) > 1:  # Nur maskieren, wenn der Nutzer mehr als eine Bewertung hat\n",
    "            n_keep = int(len(user_data) * percent_keep)  # Anzahl der Bewertungen, die behalten werden sollen (prozentual)\n",
    "            keep = user_data.sample(n=n_keep, random_state=random_seed)  # Zufällige Auswahl der Bewertungen\n",
    "            mask = user_data.drop(keep.index).copy()  # Die Bewertungen, die nicht behalten werden\n",
    "            mask[rating_col] = np.nan  # Setze Rating auf NaN für die maskierten Bewertungen\n",
    "            user_masked = pd.concat([keep, mask])  # Kombiniere behaltene und maskierte Bewertungen\n",
    "        else:\n",
    "            user_masked = user_data  # Keine Maskierung, wenn nur eine Bewertung vorhanden ist\n",
    "\n",
    "        masked_list.append(user_masked)\n",
    "\n",
    "    test_masked = pd.concat(masked_list).reset_index(drop=True)\n",
    "    return test_masked\n",
    "\n",
    "# Test mit einer beispielhaften DataFrame\n",
    "df_test_masked = mask_test_all_but_percent(test, percent_keep=0.3)\n",
    "\n",
    "# In CSV abspeichern\n",
    "output_dir = Path(\"Data/Train_Test_Validate\")\n",
    "df_test_masked.to_csv(os.path.join(output_dir, f\"test_df_masked.csv\"), index=False)"
   ],
   "id": "294f250b63c71c1f",
   "outputs": [],
   "execution_count": 106
  },
  {
   "cell_type": "code",
   "id": "97cd86553e52059c",
   "metadata": {
    "ExecuteTime": {
     "end_time": "2025-05-07T16:04:59.278811Z",
     "start_time": "2025-05-07T16:04:59.247311Z"
    }
   },
   "source": [
    "#debug_TEST\n",
    "def cross_validation(dataset, parts=5, keep_frac=0.2, random_state=42):\n",
    "    user_unique = dataset[\"userId\"].unique()\n",
    "    user_shuffled = pd.Series(user_unique).sample(frac=1, random_state=random_state).values\n",
    "    user_folds = np.array_split(user_shuffled, parts)\n",
    "\n",
    "    train_sets = []\n",
    "    validation_visible_sets = []\n",
    "    validation_ground_truth_sets = []\n",
    "\n",
    "    for fold_users in user_folds:\n",
    "        is_validation = dataset[\"userId\"].isin(fold_users)\n",
    "        train_set = dataset[~is_validation].copy()\n",
    "        validation_set = dataset[is_validation].copy()\n",
    "\n",
    "        # Sichtbare Bewertungen (All-but-X%)\n",
    "        validation_visible = mask_test_all_but_percent(validation_set, percent_keep=keep_frac)\n",
    "\n",
    "        # Maskierte Bewertungen = Ground Truth\n",
    "        validation_ground_truth = validation_set.merge(\n",
    "            validation_visible,\n",
    "            how=\"outer\",\n",
    "            on=[\"userId\", \"movieId\", \"rating\", \"timestamp\"],\n",
    "            indicator=True\n",
    "        )\n",
    "        validation_ground_truth = validation_ground_truth[\n",
    "            validation_ground_truth[\"_merge\"] == \"left_only\"\n",
    "        ].drop(columns=[\"_merge\"])\n",
    "\n",
    "        train_sets.append(train_set)\n",
    "        validation_visible_sets.append(validation_visible)\n",
    "        validation_ground_truth_sets.append(validation_ground_truth)\n",
    "\n",
    "    return train_sets, validation_visible_sets, validation_ground_truth_sets\n"
   ],
   "outputs": [],
   "execution_count": 120
  },
  {
   "cell_type": "code",
   "id": "7ae56a798aea4ff5",
   "metadata": {
    "ExecuteTime": {
     "end_time": "2025-05-07T16:05:15.473911Z",
     "start_time": "2025-05-07T16:05:00.431901Z"
    }
   },
   "source": [
    "#Versuch\n",
    "df_train, df_val_visible, df_val_ground = cross_validation(training, parts=5, keep_frac=0.2)\n",
    "\n",
    "output_dir = Path(\"Data/Train_Test_Validate/Versuch\")\n",
    "output_dir.mkdir(parents=True, exist_ok=True)\n",
    "\n",
    "for idx in range(5):\n",
    "    df_train[idx].to_csv(output_dir / f\"train_set_{idx+1}.csv\", index=False)\n",
    "    df_val_visible[idx].to_csv(output_dir / f\"validate_masked_{idx+1}.csv\", index=False)\n",
    "    df_val_ground[idx].to_csv(output_dir / f\"validate_groundtruth_{idx+1}.csv\", index=False)"
   ],
   "outputs": [],
   "execution_count": 121
  },
  {
   "cell_type": "code",
   "id": "201f2fa35ae15c85",
   "metadata": {
    "ExecuteTime": {
     "end_time": "2025-05-07T15:53:56.556569Z",
     "start_time": "2025-05-07T15:53:56.299259Z"
    }
   },
   "source": [
    "#Versuch\n",
    "output_dir = Path(\"Data/Train_Test_validate/Versuch\")\n",
    "\n",
    "# Trainingssets\n",
    "train_set_1 = pd.read_csv(output_dir / \"train_set_1.csv\")\n",
    "train_set_2 = pd.read_csv(output_dir / \"train_set_2.csv\")\n",
    "train_set_3 = pd.read_csv(output_dir / \"train_set_3.csv\")\n",
    "train_set_4 = pd.read_csv(output_dir / \"train_set_4.csv\")\n",
    "train_set_5 = pd.read_csv(output_dir / \"train_set_5.csv\")\n",
    "\n",
    "# Validierungssätze (sichtbare Ratings, All-but-X%)\n",
    "validate_masked_1 = pd.read_csv(output_dir / \"validate_masked_1.csv\")\n",
    "validate_masked_2 = pd.read_csv(output_dir / \"validate_masked_2.csv\")\n",
    "validate_masked_3 = pd.read_csv(output_dir / \"validate_masked_3.csv\")\n",
    "validate_masked_4 = pd.read_csv(output_dir / \"validate_masked_4.csv\")\n",
    "validate_masked_5 = pd.read_csv(output_dir / \"validate_masked_5.csv\")\n",
    "\n",
    "# Ground Truths (maskierte Bewertungen, zum Auswerten)\n",
    "validate_groundtruth_1 = pd.read_csv(output_dir / \"validate_groundtruth_1.csv\")\n",
    "validate_groundtruth_2 = pd.read_csv(output_dir / \"validate_groundtruth_2.csv\")\n",
    "validate_groundtruth_3 = pd.read_csv(output_dir / \"validate_groundtruth_3.csv\")\n",
    "validate_groundtruth_4 = pd.read_csv(output_dir / \"validate_groundtruth_4.csv\")\n",
    "validate_groundtruth_5 = pd.read_csv(output_dir / \"validate_groundtruth_5.csv\")"
   ],
   "outputs": [],
   "execution_count": 114
  },
  {
   "cell_type": "code",
   "execution_count": 15,
   "id": "ecbc48e975eaa5d2",
   "metadata": {
    "ExecuteTime": {
     "end_time": "2025-05-07T12:18:28.441240Z",
     "start_time": "2025-05-07T12:18:28.409178Z"
    }
   },
   "outputs": [],
   "source": [
    "# Mean Absolute Error (MAE)\n",
    "def mean_absolute_error(y_true, y_pred):\n",
    "    return np.mean(np.abs(np.array(y_true) - np.array(y_pred)))\n",
    "\n",
    "# Root Mean Square Error (RMSE)\n",
    "def root_mean_square_error(y_true, y_pred):\n",
    "    return np.sqrt(np.mean((np.array(y_true) - np.array(y_pred))**2))\n",
    "\n",
    "# Precision@N berechnen\n",
    "def precision_at_n(predictions, relevant_items, N=15, threshold=4.0):\n",
    "    # Filtere relevante Items\n",
    "    relevant_items = [item for item in relevant_items if item[1] >= threshold]\n",
    "    \n",
    "    # Berechne die Top-N Empfehlungen\n",
    "    top_n_predictions = sorted(predictions, key=lambda x: x[1], reverse=True)[:N]\n",
    "    \n",
    "    # Berechne Precision\n",
    "    relevant_in_top_n = sum(1 for item in top_n_predictions if item[0] in [x[0] for x in relevant_items])\n",
    "    return relevant_in_top_n / N if N > 0 else 0\n",
    "\n",
    "# Recall@N berechnen\n",
    "def recall_at_n(predictions, relevant_items, N=15, threshold=4.0):\n",
    "    # Filtere relevante Items\n",
    "    relevant_items = [item for item in relevant_items if item[1] >= threshold]\n",
    "    \n",
    "    # Berechne die Top-N Empfehlungen\n",
    "    top_n_predictions = sorted(predictions, key=lambda x: x[1], reverse=True)[:N]\n",
    "    \n",
    "    # Berechne Recall\n",
    "    relevant_in_top_n = sum(1 for item in top_n_predictions if item[0] in [x[0] for x in relevant_items])\n",
    "    return relevant_in_top_n / len(relevant_items) if len(relevant_items) > 0 else 0\n",
    "\n",
    "def precision_recall_at_n(predicted_list, true_list, N=15, threshold=4.0):\n",
    "    precisions = []\n",
    "    recalls = []\n",
    "\n",
    "    for uid in predicted_list:\n",
    "        if uid not in true_list:\n",
    "            continue\n",
    "\n",
    "        preds = predicted_list[uid]\n",
    "        truths = true_list[uid]\n",
    "\n",
    "        # Relevante Items im Ground Truth\n",
    "        true_relevant = set(iid for iid, rating in truths if rating >= threshold)\n",
    "        if not true_relevant:\n",
    "            continue\n",
    "\n",
    "        # Top-N vorhergesagte Items\n",
    "        top_n = sorted(preds, key=lambda x: x[1], reverse=True)[:N]\n",
    "        recommended = set(iid for iid, rating in top_n if rating >= threshold)\n",
    "\n",
    "        # Schnittmenge\n",
    "        rel_and_rec = recommended & true_relevant\n",
    "\n",
    "        precision = len(rel_and_rec) / len(recommended) if recommended else 0\n",
    "        recall = len(rel_and_rec) / len(true_relevant)\n",
    "\n",
    "        precisions.append(precision)\n",
    "        recalls.append(recall)\n",
    "\n",
    "    return np.mean(precisions), np.mean(recalls)"
   ]
  },
  {
   "cell_type": "markdown",
   "id": "7870a65b775aa78a",
   "metadata": {},
   "source": [
    "# Aufgabe 4"
   ]
  },
  {
   "cell_type": "code",
   "execution_count": 8,
   "id": "4311b5de77c89abd",
   "metadata": {
    "ExecuteTime": {
     "end_time": "2025-05-07T12:15:47.254438Z",
     "start_time": "2025-05-07T12:15:41.530360Z"
    }
   },
   "outputs": [],
   "source": [
    "#Anpassung, da ich true und prediction am besten direkt hier berechne deshalb compute_rmse\n",
    "from sklearn.metrics import mean_squared_error\n",
    "def compute_rmse(mu, b_u, b_i, test_df):\n",
    "    preds = []   # Liste zur Speicherung der vorhergesagten Bewertungen\n",
    "    actuals = [] # Liste zur Speicherung der tatsächlichen Bewertungen\n",
    "    \n",
    "    # Iteration über alle Zeilen des Test-Datensatzes\n",
    "    for _, row in test_df.iterrows():\n",
    "        # Extrahiere Nutzer-ID, Film-ID und tatsächliche Bewertung aus der aktuellen Zeile\n",
    "        u, i, true_rating = row[\"userId\"], row[\"movieId\"], row[\"rating\"]\n",
    "        \n",
    "        # Berechne die vorhergesagte Bewertung:\n",
    "        # globale Durchschnittsbewertung + Nutzer-Bias + Item-Bias\n",
    "        # Falls kein Bias vorhanden ist, verwende 0 als Standardwert\n",
    "        pred_rating = mu + b_u.get(u, 0) + b_i.get(i, 0)\n",
    "        \n",
    "        # Speichere die Vorhersage und die tatsächliche Bewertung\n",
    "        preds.append(pred_rating)\n",
    "        actuals.append(true_rating)\n",
    "    \n",
    "    # Berechne und gib die RMSE zwischen den tatsächlichen und vorhergesagten Bewertungen zurück\n",
    "    return np.sqrt(mean_squared_error(actuals, preds))"
   ]
  },
  {
   "cell_type": "code",
   "id": "b7c1b1d29d37b086",
   "metadata": {
    "ExecuteTime": {
     "end_time": "2025-05-07T12:33:12.042506Z",
     "start_time": "2025-05-07T12:27:14.536051Z"
    }
   },
   "source": [
    "# === Parameter und Ergebnis-Speicher ===\n",
    "beta_values = [1, 5, 10, 20]\n",
    "rmse_list, mae_values, precision_values, recall_values = [], [], [], []\n",
    "\n",
    "train_sets = [pd.read_csv(output_dir / f\"train_set_{i}.csv\") for i in range(1, 6)]\n",
    "validate_masked_sets = [pd.read_csv(output_dir / f\"validate_masked_{i}.csv\") for i in range(1, 6)]\n",
    "validate_groundtruth_sets = [pd.read_csv(output_dir / f\"validate_groundtruth_{i}.csv\") for i in range(1, 6)]\n",
    "\n",
    "# === Hauptschleife über alle Betas & Folds ===\n",
    "for beta_u in beta_values:\n",
    "    for beta_i in beta_values:\n",
    "        all_rmse, all_mae, all_prec, all_rec = [], [], [], []\n",
    "\n",
    "        for fold in range(5):\n",
    "            train_set = train_sets[fold]\n",
    "            val_masked = validate_masked_sets[fold]\n",
    "            val_groundtruth = validate_groundtruth_sets[fold]\n",
    "\n",
    "            mu, b_u, b_i = calculate_biases(train_set, beta_u=beta_u, beta_i=beta_i, iteration=3)\n",
    "\n",
    "            # Vorhersagen auf Groundtruth\n",
    "            predictions = [mu + b_u.get(u, 0) + b_i.get(i, 0)\n",
    "                           for u, i in zip(val_groundtruth[\"userId\"], val_groundtruth[\"movieId\"])]\n",
    "            true_ratings = val_groundtruth[\"rating\"].values\n",
    "\n",
    "            rmse = compute_rmse(mu, b_u, b_i, val_groundtruth)\n",
    "            mae = mean_absolute_error(true_ratings, predictions)\n",
    "\n",
    "            user_preds = defaultdict(list)\n",
    "            user_truths = defaultdict(list)\n",
    "\n",
    "            for u, i, true_r, pred_r in zip(val_groundtruth[\"userId\"], val_groundtruth[\"movieId\"], val_groundtruth[\"rating\"], predictions):\n",
    "                user_preds[u].append((i, pred_r))\n",
    "                user_truths[u].append((i, true_r))\n",
    "\n",
    "            precision, recall = precision_recall_at_n(user_preds, user_truths, N=15, threshold=4.0)\n",
    "\n",
    "            all_rmse.append(rmse)\n",
    "            all_mae.append(mae)\n",
    "            all_prec.append(precision)\n",
    "            all_rec.append(recall)\n",
    "\n",
    "        rmse_list.append((beta_u, beta_i, np.mean(all_rmse)))\n",
    "        mae_values.append((beta_u, beta_i, np.mean(all_mae)))\n",
    "        precision_values.append((beta_u, beta_i, np.mean(all_prec)))\n",
    "        recall_values.append((beta_u, beta_i, np.mean(all_rec)))\n",
    "\n",
    "        print(f\"β_u: {beta_u}, β_i: {beta_i}, RMSE: {np.mean(all_rmse):.4f}, MAE: {np.mean(all_mae):.4f}, \"\n",
    "              f\"Precision@N: {np.mean(all_prec):.4f}, Recall@N: {np.mean(all_rec):.4f}\")\n",
    "\n",
    "# === Heatmaps erzeugen ===\n",
    "def plot_heatmap(df, metric_name, cmap=\"viridis\"):\n",
    "    pivot = df.pivot(index=\"beta_u\", columns=\"beta_i\", values=metric_name)\n",
    "    plt.figure(figsize=(10, 8))\n",
    "    sns.heatmap(pivot, annot=True, fmt=\".3f\", cmap=cmap)\n",
    "    plt.title(f\"{metric_name} Heatmap für verschiedene β-Werte\")\n",
    "    plt.xlabel(\"β_i\")\n",
    "    plt.ylabel(\"β_u\")\n",
    "    plt.show()\n",
    "\n",
    "df_results = pd.DataFrame(rmse_list, columns=[\"beta_u\", \"beta_i\", \"rmse\"])\n",
    "df_mae = pd.DataFrame(mae_values, columns=[\"beta_u\", \"beta_i\", \"mae\"])\n",
    "df_precision = pd.DataFrame(precision_values, columns=[\"beta_u\", \"beta_i\", \"precision\"])\n",
    "df_recall = pd.DataFrame(recall_values, columns=[\"beta_u\", \"beta_i\", \"recall\"])\n",
    "\n",
    "plot_heatmap(df_results, \"rmse\")\n",
    "plot_heatmap(df_mae, \"mae\")\n",
    "plot_heatmap(df_precision, \"precision\")\n",
    "plot_heatmap(df_recall, \"recall\")"
   ],
   "outputs": [
    {
     "name": "stdout",
     "output_type": "stream",
     "text": [
      "β_u: 1, β_i: 1, RMSE: 0.9561, MAE: 0.7399, Precision@N: 0.7314, Recall@N: 0.2016\n",
      "β_u: 1, β_i: 5, RMSE: 0.9619, MAE: 0.7442, Precision@N: 0.7425, Recall@N: 0.1837\n"
     ]
    },
    {
     "ename": "KeyboardInterrupt",
     "evalue": "",
     "output_type": "error",
     "traceback": [
      "\u001B[1;31m---------------------------------------------------------------------------\u001B[0m",
      "\u001B[1;31mKeyboardInterrupt\u001B[0m                         Traceback (most recent call last)",
      "Cell \u001B[1;32mIn[22], line 26\u001B[0m\n\u001B[0;32m     22\u001B[0m predictions \u001B[38;5;241m=\u001B[39m [mu \u001B[38;5;241m+\u001B[39m b_u\u001B[38;5;241m.\u001B[39mget(u, \u001B[38;5;241m0\u001B[39m) \u001B[38;5;241m+\u001B[39m b_i\u001B[38;5;241m.\u001B[39mget(i, \u001B[38;5;241m0\u001B[39m)\n\u001B[0;32m     23\u001B[0m                \u001B[38;5;28;01mfor\u001B[39;00m u, i \u001B[38;5;129;01min\u001B[39;00m \u001B[38;5;28mzip\u001B[39m(val_groundtruth[\u001B[38;5;124m\"\u001B[39m\u001B[38;5;124muserId\u001B[39m\u001B[38;5;124m\"\u001B[39m], val_groundtruth[\u001B[38;5;124m\"\u001B[39m\u001B[38;5;124mmovieId\u001B[39m\u001B[38;5;124m\"\u001B[39m])]\n\u001B[0;32m     24\u001B[0m true_ratings \u001B[38;5;241m=\u001B[39m val_groundtruth[\u001B[38;5;124m\"\u001B[39m\u001B[38;5;124mrating\u001B[39m\u001B[38;5;124m\"\u001B[39m]\u001B[38;5;241m.\u001B[39mvalues\n\u001B[1;32m---> 26\u001B[0m rmse \u001B[38;5;241m=\u001B[39m \u001B[43mcompute_rmse\u001B[49m\u001B[43m(\u001B[49m\u001B[43mmu\u001B[49m\u001B[43m,\u001B[49m\u001B[43m \u001B[49m\u001B[43mb_u\u001B[49m\u001B[43m,\u001B[49m\u001B[43m \u001B[49m\u001B[43mb_i\u001B[49m\u001B[43m,\u001B[49m\u001B[43m \u001B[49m\u001B[43mval_groundtruth\u001B[49m\u001B[43m)\u001B[49m\n\u001B[0;32m     27\u001B[0m mae \u001B[38;5;241m=\u001B[39m mean_absolute_error(true_ratings, predictions)\n\u001B[0;32m     29\u001B[0m user_preds \u001B[38;5;241m=\u001B[39m defaultdict(\u001B[38;5;28mlist\u001B[39m)\n",
      "Cell \u001B[1;32mIn[8], line 8\u001B[0m, in \u001B[0;36mcompute_rmse\u001B[1;34m(mu, b_u, b_i, test_df)\u001B[0m\n\u001B[0;32m      5\u001B[0m actuals \u001B[38;5;241m=\u001B[39m [] \u001B[38;5;66;03m# Liste zur Speicherung der tatsächlichen Bewertungen\u001B[39;00m\n\u001B[0;32m      7\u001B[0m \u001B[38;5;66;03m# Iteration über alle Zeilen des Test-Datensatzes\u001B[39;00m\n\u001B[1;32m----> 8\u001B[0m \u001B[38;5;28;01mfor\u001B[39;00m _, row \u001B[38;5;129;01min\u001B[39;00m test_df\u001B[38;5;241m.\u001B[39miterrows():\n\u001B[0;32m      9\u001B[0m     \u001B[38;5;66;03m# Extrahiere Nutzer-ID, Film-ID und tatsächliche Bewertung aus der aktuellen Zeile\u001B[39;00m\n\u001B[0;32m     10\u001B[0m     u, i, true_rating \u001B[38;5;241m=\u001B[39m row[\u001B[38;5;124m\"\u001B[39m\u001B[38;5;124muserId\u001B[39m\u001B[38;5;124m\"\u001B[39m], row[\u001B[38;5;124m\"\u001B[39m\u001B[38;5;124mmovieId\u001B[39m\u001B[38;5;124m\"\u001B[39m], row[\u001B[38;5;124m\"\u001B[39m\u001B[38;5;124mrating\u001B[39m\u001B[38;5;124m\"\u001B[39m]\n\u001B[0;32m     12\u001B[0m     \u001B[38;5;66;03m# Berechne die vorhergesagte Bewertung:\u001B[39;00m\n\u001B[0;32m     13\u001B[0m     \u001B[38;5;66;03m# globale Durchschnittsbewertung + Nutzer-Bias + Item-Bias\u001B[39;00m\n\u001B[0;32m     14\u001B[0m     \u001B[38;5;66;03m# Falls kein Bias vorhanden ist, verwende 0 als Standardwert\u001B[39;00m\n",
      "File \u001B[1;32m~\\miniconda3\\envs\\RSY\\lib\\site-packages\\pandas\\core\\frame.py:1411\u001B[0m, in \u001B[0;36mDataFrame.iterrows\u001B[1;34m(self)\u001B[0m\n\u001B[0;32m   1409\u001B[0m klass \u001B[38;5;241m=\u001B[39m \u001B[38;5;28mself\u001B[39m\u001B[38;5;241m.\u001B[39m_constructor_sliced\n\u001B[0;32m   1410\u001B[0m \u001B[38;5;28;01mfor\u001B[39;00m k, v \u001B[38;5;129;01min\u001B[39;00m \u001B[38;5;28mzip\u001B[39m(\u001B[38;5;28mself\u001B[39m\u001B[38;5;241m.\u001B[39mindex, \u001B[38;5;28mself\u001B[39m\u001B[38;5;241m.\u001B[39mvalues):\n\u001B[1;32m-> 1411\u001B[0m     s \u001B[38;5;241m=\u001B[39m \u001B[43mklass\u001B[49m\u001B[43m(\u001B[49m\u001B[43mv\u001B[49m\u001B[43m,\u001B[49m\u001B[43m \u001B[49m\u001B[43mindex\u001B[49m\u001B[38;5;241;43m=\u001B[39;49m\u001B[43mcolumns\u001B[49m\u001B[43m,\u001B[49m\u001B[43m \u001B[49m\u001B[43mname\u001B[49m\u001B[38;5;241;43m=\u001B[39;49m\u001B[43mk\u001B[49m\u001B[43m)\u001B[49m\u001B[38;5;241m.\u001B[39m__finalize__(\u001B[38;5;28mself\u001B[39m)\n\u001B[0;32m   1412\u001B[0m     \u001B[38;5;28;01myield\u001B[39;00m k, s\n",
      "File \u001B[1;32m~\\miniconda3\\envs\\RSY\\lib\\site-packages\\pandas\\core\\series.py:483\u001B[0m, in \u001B[0;36mSeries.__init__\u001B[1;34m(self, data, index, dtype, name, copy, fastpath)\u001B[0m\n\u001B[0;32m    481\u001B[0m     \u001B[38;5;28mobject\u001B[39m\u001B[38;5;241m.\u001B[39m\u001B[38;5;21m__setattr__\u001B[39m(\u001B[38;5;28mself\u001B[39m, \u001B[38;5;124m\"\u001B[39m\u001B[38;5;124m_name\u001B[39m\u001B[38;5;124m\"\u001B[39m, name)\n\u001B[0;32m    482\u001B[0m \u001B[38;5;28;01melse\u001B[39;00m:\n\u001B[1;32m--> 483\u001B[0m     \u001B[38;5;28;43mself\u001B[39;49m\u001B[38;5;241;43m.\u001B[39;49m\u001B[43mname\u001B[49m \u001B[38;5;241m=\u001B[39m name\n\u001B[0;32m    484\u001B[0m     \u001B[38;5;28mself\u001B[39m\u001B[38;5;241m.\u001B[39m_set_axis(\u001B[38;5;241m0\u001B[39m, index)\n",
      "File \u001B[1;32m~\\miniconda3\\envs\\RSY\\lib\\site-packages\\pandas\\core\\generic.py:5924\u001B[0m, in \u001B[0;36mNDFrame.__setattr__\u001B[1;34m(self, name, value)\u001B[0m\n\u001B[0;32m   5922\u001B[0m     \u001B[38;5;28mobject\u001B[39m\u001B[38;5;241m.\u001B[39m\u001B[38;5;21m__setattr__\u001B[39m(\u001B[38;5;28mself\u001B[39m, name, value)\n\u001B[0;32m   5923\u001B[0m \u001B[38;5;28;01melif\u001B[39;00m name \u001B[38;5;129;01min\u001B[39;00m \u001B[38;5;28mself\u001B[39m\u001B[38;5;241m.\u001B[39m_metadata:\n\u001B[1;32m-> 5924\u001B[0m     \u001B[38;5;28;43mobject\u001B[39;49m\u001B[38;5;241;43m.\u001B[39;49m\u001B[38;5;21;43m__setattr__\u001B[39;49m\u001B[43m(\u001B[49m\u001B[38;5;28;43mself\u001B[39;49m\u001B[43m,\u001B[49m\u001B[43m \u001B[49m\u001B[43mname\u001B[49m\u001B[43m,\u001B[49m\u001B[43m \u001B[49m\u001B[43mvalue\u001B[49m\u001B[43m)\u001B[49m\n\u001B[0;32m   5925\u001B[0m \u001B[38;5;28;01melse\u001B[39;00m:\n\u001B[0;32m   5926\u001B[0m     \u001B[38;5;28;01mtry\u001B[39;00m:\n",
      "File \u001B[1;32m~\\miniconda3\\envs\\RSY\\lib\\site-packages\\pandas\\core\\series.py:663\u001B[0m, in \u001B[0;36mSeries.name\u001B[1;34m(self, value)\u001B[0m\n\u001B[0;32m    661\u001B[0m \u001B[38;5;129m@name\u001B[39m\u001B[38;5;241m.\u001B[39msetter\n\u001B[0;32m    662\u001B[0m \u001B[38;5;28;01mdef\u001B[39;00m\u001B[38;5;250m \u001B[39m\u001B[38;5;21mname\u001B[39m(\u001B[38;5;28mself\u001B[39m, value: Hashable) \u001B[38;5;241m-\u001B[39m\u001B[38;5;241m>\u001B[39m \u001B[38;5;28;01mNone\u001B[39;00m:\n\u001B[1;32m--> 663\u001B[0m     \u001B[43mvalidate_all_hashable\u001B[49m\u001B[43m(\u001B[49m\u001B[43mvalue\u001B[49m\u001B[43m,\u001B[49m\u001B[43m \u001B[49m\u001B[43merror_name\u001B[49m\u001B[38;5;241;43m=\u001B[39;49m\u001B[38;5;124;43mf\u001B[39;49m\u001B[38;5;124;43m\"\u001B[39;49m\u001B[38;5;132;43;01m{\u001B[39;49;00m\u001B[38;5;28;43mtype\u001B[39;49m\u001B[43m(\u001B[49m\u001B[38;5;28;43mself\u001B[39;49m\u001B[43m)\u001B[49m\u001B[38;5;241;43m.\u001B[39;49m\u001B[38;5;18;43m__name__\u001B[39;49m\u001B[38;5;132;43;01m}\u001B[39;49;00m\u001B[38;5;124;43m.name\u001B[39;49m\u001B[38;5;124;43m\"\u001B[39;49m\u001B[43m)\u001B[49m\n\u001B[0;32m    664\u001B[0m     \u001B[38;5;28mobject\u001B[39m\u001B[38;5;241m.\u001B[39m\u001B[38;5;21m__setattr__\u001B[39m(\u001B[38;5;28mself\u001B[39m, \u001B[38;5;124m\"\u001B[39m\u001B[38;5;124m_name\u001B[39m\u001B[38;5;124m\"\u001B[39m, value)\n",
      "File \u001B[1;32m~\\miniconda3\\envs\\RSY\\lib\\site-packages\\pandas\\core\\dtypes\\common.py:1744\u001B[0m, in \u001B[0;36mvalidate_all_hashable\u001B[1;34m(error_name, *args)\u001B[0m\n\u001B[0;32m   1725\u001B[0m \u001B[38;5;28;01mdef\u001B[39;00m\u001B[38;5;250m \u001B[39m\u001B[38;5;21mvalidate_all_hashable\u001B[39m(\u001B[38;5;241m*\u001B[39margs, error_name: \u001B[38;5;28mstr\u001B[39m \u001B[38;5;241m|\u001B[39m \u001B[38;5;28;01mNone\u001B[39;00m \u001B[38;5;241m=\u001B[39m \u001B[38;5;28;01mNone\u001B[39;00m) \u001B[38;5;241m-\u001B[39m\u001B[38;5;241m>\u001B[39m \u001B[38;5;28;01mNone\u001B[39;00m:\n\u001B[0;32m   1726\u001B[0m \u001B[38;5;250m    \u001B[39m\u001B[38;5;124;03m\"\"\"\u001B[39;00m\n\u001B[0;32m   1727\u001B[0m \u001B[38;5;124;03m    Return None if all args are hashable, else raise a TypeError.\u001B[39;00m\n\u001B[0;32m   1728\u001B[0m \n\u001B[1;32m   (...)\u001B[0m\n\u001B[0;32m   1742\u001B[0m \u001B[38;5;124;03m    None\u001B[39;00m\n\u001B[0;32m   1743\u001B[0m \u001B[38;5;124;03m    \"\"\"\u001B[39;00m\n\u001B[1;32m-> 1744\u001B[0m     \u001B[38;5;28;01mif\u001B[39;00m \u001B[38;5;129;01mnot\u001B[39;00m \u001B[38;5;28;43mall\u001B[39;49m(is_hashable(arg) \u001B[38;5;28;01mfor\u001B[39;00m arg \u001B[38;5;129;01min\u001B[39;00m args):\n\u001B[0;32m   1745\u001B[0m         \u001B[38;5;28;01mif\u001B[39;00m error_name:\n\u001B[0;32m   1746\u001B[0m             \u001B[38;5;28;01mraise\u001B[39;00m \u001B[38;5;167;01mTypeError\u001B[39;00m(\u001B[38;5;124mf\u001B[39m\u001B[38;5;124m\"\u001B[39m\u001B[38;5;132;01m{\u001B[39;00merror_name\u001B[38;5;132;01m}\u001B[39;00m\u001B[38;5;124m must be a hashable type\u001B[39m\u001B[38;5;124m\"\u001B[39m)\n",
      "\u001B[1;31mKeyboardInterrupt\u001B[0m: "
     ]
    }
   ],
   "execution_count": 22
  },
  {
   "metadata": {},
   "cell_type": "markdown",
   "source": "# Aufgabe 5",
   "id": "5bda79ab818a1c2c"
  },
  {
   "metadata": {
    "ExecuteTime": {
     "end_time": "2025-05-07T15:26:13.381334Z",
     "start_time": "2025-05-07T15:26:13.317969Z"
    }
   },
   "cell_type": "code",
   "source": [
    "def create_urm(data, index=\"userId\", colums=\"movieId\", values=\"rating\"):\n",
    "    urm = data.pivot(index=index, columns=colums, values=values)\n",
    "    return urm\n",
    "\n",
    "urm_masked = create_urm(train_set_1, \"userId\", \"movieId\", \"rating\")"
   ],
   "id": "ca0d3962cd8b3599",
   "outputs": [],
   "execution_count": 94
  },
  {
   "metadata": {
    "ExecuteTime": {
     "end_time": "2025-05-07T12:33:22.389380Z",
     "start_time": "2025-05-07T12:33:22.373478Z"
    }
   },
   "cell_type": "code",
   "source": [
    "\n",
    "\n",
    "def cosine_similarity_items(matrix):\n",
    "    # Mean-Centering pro Item\n",
    "    item_means = matrix.mean(axis=0) #axis = 0 bedeutet den Mittelwert pro Spalte zu berechnen\n",
    "    matrix_centered = matrix.sub(item_means, axis=1) # subtrahiert spaltenweise (axis = 1) den jeweiligen Mittelwert des Items ab\n",
    "\n",
    "    return pd.DataFrame(\n",
    "        cosine_similarity(np.nan_to_num(matrix_centered.T)),\n",
    "        index=matrix.columns,\n",
    "        columns=matrix.columns\n",
    "    )\n",
    "\n",
    "def cosine_similarity_users(matrix):\n",
    "    # Mean-Centering pro User\n",
    "    user_means = matrix.mean(axis=1) #axis = 1 bedeutet den Mittelwert pro Zeile zu berechnen\n",
    "    matrix_centered = matrix.sub(user_means, axis=0) # subtrahiert zeilenweise (axis = 0) den jeweiligen Mittelwert des Users ab\n",
    "\n",
    "    return pd.DataFrame(\n",
    "        cosine_similarity(np.nan_to_num(matrix_centered)),\n",
    "        index=matrix.index,\n",
    "        columns=matrix.index\n",
    "    )"
   ],
   "id": "6be6d12a1e0fcfb3",
   "outputs": [],
   "execution_count": 24
  },
  {
   "metadata": {
    "ExecuteTime": {
     "end_time": "2025-05-07T12:33:23.565431Z",
     "start_time": "2025-05-07T12:33:23.549621Z"
    }
   },
   "cell_type": "code",
   "source": [
    "def pearson_similarity_items(matrix):\n",
    "    # Mittelwert zentrieren je Item (Spalte)\n",
    "    item_means = matrix.mean(axis=1)  # Mittelwert pro Item (Spalte)\n",
    "    matrix_centered = matrix.sub(item_means, axis=0)  # Subtrahiere Mittelwert von jedem Item (Spalte)\n",
    "    \n",
    "    # Berechne die Pearson-Ähnlichkeit zwischen den Items\n",
    "    pearson_sim_matrix = matrix_centered.corr(method='pearson').fillna(0)\n",
    "\n",
    "    return pearson_sim_matrix\n",
    "\n",
    "\n",
    "\n",
    "def pearson_similarity_users(matrix):\n",
    "    # Mittelwert zentrieren je User (Zeile)\n",
    "    centered = matrix.sub(matrix.mean(axis=1), axis=0).fillna(0)# subtrahiert zeilenweise den jeweiligen Mittelwert pro Zeile des Items ab und ersetzt anschliessend alle NA Werte mit 0\n",
    "    # Jetzt Zeilen miteinander korrelieren (User-User-Similarity) und anschliessend die NA-Werte mit 0 ersetzen\n",
    "    similarity = centered.T.corr().fillna(0)\n",
    "    return similarity"
   ],
   "id": "9504000fee94ce32",
   "outputs": [],
   "execution_count": 25
  },
  {
   "metadata": {
    "ExecuteTime": {
     "end_time": "2025-05-07T12:33:30.131939Z",
     "start_time": "2025-05-07T12:33:30.100342Z"
    }
   },
   "cell_type": "code",
   "source": [
    "def predict_ratings_item_based(user_id, item_similarity, urm_, k=30):\n",
    "    user_ratings = urm_.loc[user_id]\n",
    "    user_rated_items = user_ratings.dropna().index\n",
    "    \n",
    "    all_items = urm_.columns\n",
    "    predictions = {}\n",
    "\n",
    "    for target_item in all_items:\n",
    "        if target_item in user_rated_items:\n",
    "            continue  # Keine Vorhersage für bereits bewertete Items\n",
    "\n",
    "        # Ähnlichkeiten zum Ziel-Item für alle vom User bewerteten Items\n",
    "        sims = item_similarity.loc[target_item, user_rated_items]\n",
    "\n",
    "        # Bewertungen des Users zu diesen Items\n",
    "        ratings = user_ratings.loc[user_rated_items]\n",
    "\n",
    "        # Top-k ähnlichste Items auswählen (nach Betrag der Ähnlichkeit sortieren)\n",
    "        top_k = sims.abs().sort_values(ascending=False).head(k).index\n",
    "        top_sims = sims.loc[top_k]\n",
    "        top_ratings = ratings.loc[top_k]\n",
    "\n",
    "        numerator = (top_sims * top_ratings).sum()\n",
    "        denominator = top_sims.abs().sum()\n",
    "\n",
    "        if denominator != 0:\n",
    "            predictions[target_item] = numerator / denominator\n",
    "        else:\n",
    "            predictions[target_item] = np.nan  # oder z. B. globaler Mittelwert als Fallback\n",
    "\n",
    "    # Rückgabe als Serie sortiert\n",
    "    return pd.Series(predictions).dropna().sort_values(ascending=False)\n",
    "\n",
    "\n",
    "def print_top_n_item_similarity(user_ids, urm_, method, movies_df=None, n=20, k=30):\n",
    "    if method == \"cosine\":\n",
    "        item_sim_matrix = cosine_similarity_items(urm_)\n",
    "    elif method == \"pearson\":\n",
    "        item_sim_matrix = pearson_similarity_items(urm_)\n",
    "    else:\n",
    "        print(f\"Invalid method: {method}. Only 'cosine' or 'pearson' are allowed.\")\n",
    "        return\n",
    "        \n",
    "    use_titles = movies_df is not None and \"movieId\" in movies_df.columns and \"title\" in movies_df.columns\n",
    "        \n",
    "    if use_titles:\n",
    "        movies_itembased = movies_df.set_index(\"movieId\")\n",
    "\n",
    "    for uid in user_ids:\n",
    "        if uid in urm_.index:\n",
    "            recs = predict_ratings_item_based(uid, item_sim_matrix, urm_, k)\n",
    "            top_n = recs.head(n)\n",
    "        else:\n",
    "            global_avg_ratings = urm_.mean(axis=0)\n",
    "            top_n = global_avg_ratings.sort_values(ascending=False).head(n)\n",
    "            \n",
    "        top_n.index = top_n.index.astype(int)\n",
    "        if use_titles:\n",
    "            valid_ids = top_n.index.intersection(movies_itembased.index)\n",
    "            movie_titles = movies_itembased.loc[valid_ids, \"title\"]\n",
    "            \n",
    "            results = pd.DataFrame({\n",
    "                \"Predicted Rating\": top_n.loc[valid_ids].values,\n",
    "                \"Movie Title\": movie_titles.values\n",
    "            })\n",
    "            \n",
    "            print(f\"\\nTop {n} recommendations for User {uid} (Item-Based, {method}):\")\n",
    "            print(results.set_index(\"Movie Title\"))\n",
    "        else:\n",
    "            results = pd.DataFrame({\n",
    "                \"Movie ID\": top_n.index,\n",
    "                \"Predicted Rating\": top_n.values\n",
    "            })\n",
    "            \n",
    "            print(f\"\\nTop {n} recommendations for User {uid} (Item-Based, {method}, only Movie IDs):\")\n",
    "            print(results.set_index(\"Movie ID\"))\n"
   ],
   "id": "479a1941b582a4a3",
   "outputs": [],
   "execution_count": 27
  },
  {
   "metadata": {
    "ExecuteTime": {
     "end_time": "2025-05-07T15:28:19.310098Z",
     "start_time": "2025-05-07T15:27:21.761374Z"
    }
   },
   "cell_type": "code",
   "source": "print_top_n_item_similarity(user_ids = [131,140,155], urm_ = urm_masked, method = \"cosine\")",
   "id": "323822fe752317c5",
   "outputs": [
    {
     "name": "stdout",
     "output_type": "stream",
     "text": [
      "\n",
      "Top 20 recommendations for User 131 (Item-Based, cosine, only Movie IDs):\n",
      "          Predicted Rating\n",
      "Movie ID                  \n",
      "1998              3.870138\n",
      "828               3.823000\n",
      "141               3.816997\n",
      "129354            3.799834\n",
      "159858            3.744337\n",
      "2371              3.655502\n",
      "903               3.644542\n",
      "149354            3.636094\n",
      "1201              3.620499\n",
      "114935            3.615880\n",
      "32                3.615602\n",
      "3104              3.615266\n",
      "67197             3.613450\n",
      "1252              3.609399\n",
      "2110              3.608790\n",
      "63540             3.605383\n",
      "2005              3.601639\n",
      "8132              3.594382\n",
      "1225              3.585089\n",
      "118900            3.579523\n",
      "\n",
      "Top 20 recommendations for User 140 (Item-Based, cosine, only Movie IDs):\n",
      "          Predicted Rating\n",
      "Movie ID                  \n",
      "82459             4.046617\n",
      "63113             4.037557\n",
      "88744             3.974816\n",
      "30825             3.964298\n",
      "2355              3.952560\n",
      "45720             3.949062\n",
      "933               3.909540\n",
      "46578             3.901369\n",
      "7669              3.895673\n",
      "10                3.888597\n",
      "82852             3.875661\n",
      "2329              3.875604\n",
      "78637             3.872708\n",
      "59725             3.865016\n",
      "2409              3.863789\n",
      "4361              3.829841\n",
      "7361              3.824824\n",
      "40629             3.819516\n",
      "2706              3.803253\n",
      "4308              3.799500\n",
      "\n",
      "Top 20 recommendations for User 155 (Item-Based, cosine, only Movie IDs):\n",
      "          Predicted Rating\n",
      "Movie ID                  \n",
      "189333            4.000000\n",
      "171011            4.000000\n",
      "148956            4.000000\n",
      "47491             4.000000\n",
      "163134            4.000000\n",
      "90888             4.000000\n",
      "187541            4.000000\n",
      "135887            3.929530\n",
      "62439             3.841842\n",
      "151455            3.840675\n",
      "101962            3.801410\n",
      "48997             3.790554\n",
      "8360              3.788013\n",
      "159415            3.785339\n",
      "62644             3.777178\n",
      "168266            3.774657\n",
      "1608              3.763920\n",
      "166291            3.760382\n",
      "178827            3.760382\n",
      "117887            3.760382\n"
     ]
    }
   ],
   "execution_count": 96
  },
  {
   "metadata": {
    "ExecuteTime": {
     "end_time": "2025-05-07T15:31:05.077846Z",
     "start_time": "2025-05-07T15:28:56.439172Z"
    }
   },
   "cell_type": "code",
   "source": "print_top_n_item_similarity(user_ids = [131,140,155], urm_ = urm_masked, method = \"pearson\")",
   "id": "76a1f6706da61d18",
   "outputs": [
    {
     "name": "stdout",
     "output_type": "stream",
     "text": [
      "\n",
      "Top 20 recommendations for User 131 (Item-Based, pearson, only Movie IDs):\n",
      "          Predicted Rating\n",
      "Movie ID                  \n",
      "189333            4.000000\n",
      "171011            4.000000\n",
      "44889             4.000000\n",
      "389               4.000000\n",
      "828               4.000000\n",
      "1662              4.000000\n",
      "1629              4.000000\n",
      "165639            3.916667\n",
      "105653            3.916667\n",
      "175485            3.916667\n",
      "31923             3.857143\n",
      "5288              3.833333\n",
      "6629              3.833333\n",
      "536               3.750000\n",
      "3224              3.750000\n",
      "3330              3.750000\n",
      "7084              3.750000\n",
      "6051              3.750000\n",
      "140110            3.655571\n",
      "8405              3.642857\n",
      "\n",
      "Top 20 recommendations for User 140 (Item-Based, pearson, only Movie IDs):\n",
      "          Predicted Rating\n",
      "Movie ID                  \n",
      "171765            4.076923\n",
      "148956            4.000000\n",
      "31184             4.000000\n",
      "161580            4.000000\n",
      "55451             4.000000\n",
      "167018            3.833333\n",
      "4965              3.816667\n",
      "187031            3.750000\n",
      "6567              3.750000\n",
      "31116             3.733333\n",
      "85510             3.700000\n",
      "49824             3.650000\n",
      "27899             3.650000\n",
      "49276             3.650000\n",
      "3794              3.650000\n",
      "167036            3.642857\n",
      "55094             3.616667\n",
      "1328              3.600000\n",
      "1325              3.600000\n",
      "1324              3.600000\n",
      "\n",
      "Top 20 recommendations for User 155 (Item-Based, pearson, only Movie IDs):\n",
      "          Predicted Rating\n",
      "Movie ID                  \n",
      "171765            4.333333\n",
      "27865             4.250000\n",
      "7844              4.250000\n",
      "8012              4.250000\n",
      "2038              4.000000\n",
      "50445             4.000000\n",
      "7208              4.000000\n",
      "55253             4.000000\n",
      "132046            4.000000\n",
      "7084              4.000000\n",
      "3884              4.000000\n",
      "47491             4.000000\n",
      "127202            4.000000\n",
      "59604             4.000000\n",
      "127198            4.000000\n",
      "119155            4.000000\n",
      "117851            4.000000\n",
      "456               4.000000\n",
      "142420            4.000000\n",
      "189333            4.000000\n"
     ]
    }
   ],
   "execution_count": 97
  },
  {
   "metadata": {
    "ExecuteTime": {
     "end_time": "2025-05-07T12:39:20.060577Z",
     "start_time": "2025-05-07T12:39:20.035851Z"
    }
   },
   "cell_type": "code",
   "source": [
    "def predict_ratings_user_based_(user_id, similarity_matrix, rating_matrix, k=30):\n",
    "    #User selbst wurd entfertn da er nicht mit dsich verglichen werden soll\n",
    "    sim_users = similarity_matrix[user_id].drop(user_id).dropna()\n",
    "    #Welche top-k User sind mit Ursprung user Ähnlich\n",
    "    top_k_users = sim_users.sort_values(ascending=False).head(k)\n",
    "    \n",
    "    # Mittels gewichtung wird der Ähnlcihste user gesucht\n",
    "    weighted_sum = (rating_matrix.loc[top_k_users.index].T * top_k_users).T.sum()\n",
    "    sim_sum = top_k_users.abs().sum()\n",
    "    \n",
    "    user_mean = rating_matrix.loc[user_id].mean()\n",
    "    predicted_ratings = user_mean + (weighted_sum / sim_sum) #Addiert den in der Similarity abgezogenen Mittelwert wieder drauf\n",
    "\n",
    "    return predicted_ratings\n",
    "\n",
    "def print_top_n_user_similarity(user_ids: list, urm_,method, movies_df = None, n=20, k=30):\n",
    "    if method == \"cosine\":\n",
    "        user_sim_matrix = cosine_similarity_users(urm_)\n",
    "    elif method == \"pearson\":\n",
    "        user_sim_matrix = pearson_similarity_users(urm_)\n",
    "    else:\n",
    "        print(f\"Die Methode ist nicht vorhanden – bitte 'cosine' oder 'pearson' verwenden (nicht '{method}').\")\n",
    "        return\n",
    "\n",
    "    use_titles = movies_df is not None and \"movieId\" in movies_df.columns and \"title\" in movies_df.columns\n",
    "    if use_titles:\n",
    "        movies_user = movies_df.set_index(\"movieId\")\n",
    "\n",
    "    for uid in user_ids:\n",
    "        if uid in urm_.index:\n",
    "            recs = predict_ratings_user_based_(uid, user_sim_matrix, urm_, k)\n",
    "            top_n = recs.sort_values(ascending=False).head(n)\n",
    "        else:\n",
    "            global_avg_ratings = urm_.mean(axis=0)\n",
    "            top_n = global_avg_ratings.sort_values(ascending=False).head(n)\n",
    "\n",
    "        top_n.index = top_n.index.astype(int)\n",
    "\n",
    "        if use_titles:\n",
    "            valid_ids = top_n.index[top_n.index.isin(movies_user.index)]\n",
    "            movie_titles = movies_user.loc[valid_ids, \"title\"]\n",
    "            results = pd.DataFrame({\n",
    "                \"Predicted Rating\": top_n.loc[valid_ids].values,\n",
    "                \"Movie Title\": movie_titles.values\n",
    "            })\n",
    "            print(f\"\\nTop {n} Empfehlungen für User {uid} (User-Based, {method}):\")\n",
    "            print(results.set_index(\"Movie Title\"))\n",
    "        else:\n",
    "            results = pd.DataFrame({\n",
    "                \"Movie ID\": top_n.index,\n",
    "                \"Predicted Rating\": top_n.values\n",
    "            })\n",
    "            print(f\"\\nTop {n} Empfehlungen für User {uid} (User-Based, {method}, nur Movie IDs):\")\n",
    "            print(results.set_index(\"Movie ID\"))"
   ],
   "id": "a9692fd0f5323883",
   "outputs": [],
   "execution_count": 37
  },
  {
   "metadata": {
    "ExecuteTime": {
     "end_time": "2025-05-07T15:31:05.339804Z",
     "start_time": "2025-05-07T15:31:05.081865Z"
    }
   },
   "cell_type": "code",
   "source": "print_top_n_user_similarity(user_ids = [131,140,155], urm_ = urm_masked, method = \"cosine\", movies_df=movies)",
   "id": "cc6ebc625d4ae923",
   "outputs": [
    {
     "name": "stdout",
     "output_type": "stream",
     "text": [
      "\n",
      "Top 20 Empfehlungen für User 131 (User-Based, cosine):\n",
      "                                                    Predicted Rating\n",
      "Movie Title                                                         \n",
      "Pulp Fiction (1994)                                         7.182571\n",
      "Shawshank Redemption, The (1994)                            7.049568\n",
      "Godfather, The (1972)                                       6.595469\n",
      "Silence of the Lambs, The (1991)                            6.497607\n",
      "Taxi Driver (1976)                                          6.016356\n",
      "Usual Suspects, The (1995)                                  5.997953\n",
      "Fargo (1996)                                                5.896658\n",
      "Fight Club (1999)                                           5.766669\n",
      "Goodfellas (1990)                                           5.585128\n",
      "Schindler's List (1993)                                     5.483413\n",
      "Seven (a.k.a. Se7en) (1995)                                 5.474955\n",
      "Reservoir Dogs (1992)                                       5.443547\n",
      "Rear Window (1954)                                          5.443477\n",
      "Godfather: Part II, The (1974)                              5.417249\n",
      "American Beauty (1999)                                      5.406210\n",
      "One Flew Over the Cuckoo's Nest (1975)                      5.335434\n",
      "Forrest Gump (1994)                                         5.298464\n",
      "Raiders of the Lost Ark (Indiana Jones and the ...          5.074696\n",
      "Psycho (1960)                                               5.040614\n",
      "Matrix, The (1999)                                          5.035424\n",
      "\n",
      "Top 20 Empfehlungen für User 140 (User-Based, cosine):\n",
      "                                                    Predicted Rating\n",
      "Movie Title                                                         \n",
      "Forrest Gump (1994)                                         7.548779\n",
      "Braveheart (1995)                                           6.892636\n",
      "Silence of the Lambs, The (1991)                            6.867520\n",
      "Schindler's List (1993)                                     6.778943\n",
      "Jurassic Park (1993)                                        6.775798\n",
      "Shawshank Redemption, The (1994)                            6.646029\n",
      "Speed (1994)                                                6.446359\n",
      "Apollo 13 (1995)                                            6.445244\n",
      "Pulp Fiction (1994)                                         6.420260\n",
      "Fugitive, The (1993)                                        6.324612\n",
      "Saving Private Ryan (1998)                                  6.270554\n",
      "Terminator 2: Judgment Day (1991)                           6.132318\n",
      "Dances with Wolves (1990)                                   6.090570\n",
      "Matrix, The (1999)                                          6.035323\n",
      "Lion King, The (1994)                                       5.989557\n",
      "Seven (a.k.a. Se7en) (1995)                                 5.975681\n",
      "Pretty Woman (1990)                                         5.903330\n",
      "Star Wars: Episode V - The Empire Strikes Back ...          5.874900\n",
      "Star Wars: Episode VI - Return of the Jedi (1983)           5.825142\n",
      "True Lies (1994)                                            5.814105\n",
      "\n",
      "Top 20 Empfehlungen für User 155 (User-Based, cosine):\n",
      "                                                    Predicted Rating\n",
      "Movie Title                                                         \n",
      "Shawshank Redemption, The (1994)                            6.436983\n",
      "Forrest Gump (1994)                                         5.708814\n",
      "Matrix, The (1999)                                          5.702282\n",
      "Pulp Fiction (1994)                                         5.698892\n",
      "Star Wars: Episode IV - A New Hope (1977)                   5.563777\n",
      "Terminator 2: Judgment Day (1991)                           5.473436\n",
      "Braveheart (1995)                                           5.468043\n",
      "Saving Private Ryan (1998)                                  5.437060\n",
      "Star Wars: Episode I - The Phantom Menace (1999)            5.357440\n",
      "Star Wars: Episode VI - Return of the Jedi (1983)           5.336910\n",
      "Silence of the Lambs, The (1991)                            5.328591\n",
      "Fugitive, The (1993)                                        5.067877\n",
      "Seven (a.k.a. Se7en) (1995)                                 5.060067\n",
      "Twelve Monkeys (a.k.a. 12 Monkeys) (1995)                   5.046768\n",
      "Batman (1989)                                               5.030883\n",
      "Schindler's List (1993)                                     5.013437\n",
      "Star Wars: Episode V - The Empire Strikes Back ...          4.907378\n",
      "Raiders of the Lost Ark (Indiana Jones and the ...          4.858592\n",
      "Usual Suspects, The (1995)                                  4.835211\n",
      "Independence Day (a.k.a. ID4) (1996)                        4.816956\n"
     ]
    }
   ],
   "execution_count": 98
  },
  {
   "metadata": {
    "ExecuteTime": {
     "end_time": "2025-05-07T15:31:09.493587Z",
     "start_time": "2025-05-07T15:31:05.341927Z"
    }
   },
   "cell_type": "code",
   "source": "print_top_n_user_similarity(user_ids = [131,140,155], urm_ = urm_masked, method = \"pearson\", movies_df = movies)",
   "id": "5102fc53ce01a7c6",
   "outputs": [
    {
     "name": "stdout",
     "output_type": "stream",
     "text": [
      "\n",
      "Top 20 Empfehlungen für User 131 (User-Based, pearson):\n",
      "                                                    Predicted Rating\n",
      "Movie Title                                                         \n",
      "Pulp Fiction (1994)                                         7.182571\n",
      "Shawshank Redemption, The (1994)                            7.049568\n",
      "Godfather, The (1972)                                       6.595469\n",
      "Silence of the Lambs, The (1991)                            6.497607\n",
      "Taxi Driver (1976)                                          6.016356\n",
      "Usual Suspects, The (1995)                                  5.997953\n",
      "Fargo (1996)                                                5.896658\n",
      "Fight Club (1999)                                           5.766669\n",
      "Goodfellas (1990)                                           5.585128\n",
      "Schindler's List (1993)                                     5.483413\n",
      "Seven (a.k.a. Se7en) (1995)                                 5.474955\n",
      "Reservoir Dogs (1992)                                       5.443547\n",
      "Rear Window (1954)                                          5.443477\n",
      "Godfather: Part II, The (1974)                              5.417249\n",
      "American Beauty (1999)                                      5.406210\n",
      "One Flew Over the Cuckoo's Nest (1975)                      5.335434\n",
      "Forrest Gump (1994)                                         5.298464\n",
      "Raiders of the Lost Ark (Indiana Jones and the ...          5.074696\n",
      "Psycho (1960)                                               5.040614\n",
      "Matrix, The (1999)                                          5.035424\n",
      "\n",
      "Top 20 Empfehlungen für User 140 (User-Based, pearson):\n",
      "                                                    Predicted Rating\n",
      "Movie Title                                                         \n",
      "Forrest Gump (1994)                                         7.548779\n",
      "Braveheart (1995)                                           6.892636\n",
      "Silence of the Lambs, The (1991)                            6.867520\n",
      "Schindler's List (1993)                                     6.778943\n",
      "Jurassic Park (1993)                                        6.775798\n",
      "Shawshank Redemption, The (1994)                            6.646029\n",
      "Speed (1994)                                                6.446359\n",
      "Apollo 13 (1995)                                            6.445244\n",
      "Pulp Fiction (1994)                                         6.420260\n",
      "Fugitive, The (1993)                                        6.324612\n",
      "Saving Private Ryan (1998)                                  6.270554\n",
      "Terminator 2: Judgment Day (1991)                           6.132318\n",
      "Dances with Wolves (1990)                                   6.090570\n",
      "Matrix, The (1999)                                          6.035323\n",
      "Lion King, The (1994)                                       5.989557\n",
      "Seven (a.k.a. Se7en) (1995)                                 5.975681\n",
      "Pretty Woman (1990)                                         5.903330\n",
      "Star Wars: Episode V - The Empire Strikes Back ...          5.874900\n",
      "Star Wars: Episode VI - Return of the Jedi (1983)           5.825142\n",
      "True Lies (1994)                                            5.814105\n",
      "\n",
      "Top 20 Empfehlungen für User 155 (User-Based, pearson):\n",
      "                                                    Predicted Rating\n",
      "Movie Title                                                         \n",
      "Shawshank Redemption, The (1994)                            6.436983\n",
      "Forrest Gump (1994)                                         5.708814\n",
      "Matrix, The (1999)                                          5.702282\n",
      "Pulp Fiction (1994)                                         5.698892\n",
      "Star Wars: Episode IV - A New Hope (1977)                   5.563777\n",
      "Terminator 2: Judgment Day (1991)                           5.473436\n",
      "Braveheart (1995)                                           5.468043\n",
      "Saving Private Ryan (1998)                                  5.437060\n",
      "Star Wars: Episode I - The Phantom Menace (1999)            5.357440\n",
      "Star Wars: Episode VI - Return of the Jedi (1983)           5.336910\n",
      "Silence of the Lambs, The (1991)                            5.328591\n",
      "Fugitive, The (1993)                                        5.067877\n",
      "Seven (a.k.a. Se7en) (1995)                                 5.060067\n",
      "Twelve Monkeys (a.k.a. 12 Monkeys) (1995)                   5.046768\n",
      "Batman (1989)                                               5.030883\n",
      "Schindler's List (1993)                                     5.013437\n",
      "Star Wars: Episode V - The Empire Strikes Back ...          4.907378\n",
      "Raiders of the Lost Ark (Indiana Jones and the ...          4.858592\n",
      "Usual Suspects, The (1995)                                  4.835211\n",
      "Independence Day (a.k.a. ID4) (1996)                        4.816956\n"
     ]
    }
   ],
   "execution_count": 99
  },
  {
   "metadata": {},
   "cell_type": "markdown",
   "source": "# Aufgabe 6",
   "id": "9f02efe7f1980400"
  },
  {
   "metadata": {
    "ExecuteTime": {
     "end_time": "2025-05-07T15:01:05.679604Z",
     "start_time": "2025-05-07T15:01:05.631986Z"
    }
   },
   "cell_type": "code",
   "source": [
    "def evaluate_rs_methods(user_ids, urm, true_ratings_df, ks=range(1, 51), N=15):\n",
    "    # Dictionary zur Speicherung der Ergebnisse pro Methode\n",
    "    results = {\n",
    "        \"user_cosine\": [],\n",
    "        \"user_pearson\": [],\n",
    "        \"item_cosine\": [],\n",
    "        \"item_pearson\": []\n",
    "    }\n",
    "    # Mapping von Methodenname zu entsprechender Similarity-Funktion\n",
    "    methods = {\n",
    "        \"user_cosine\": cosine_similarity_users,\n",
    "        \"user_pearson\": pearson_similarity_users,\n",
    "        \"item_cosine\": cosine_similarity_items,\n",
    "        \"item_pearson\": pearson_similarity_items\n",
    "    }\n",
    "    \n",
    "     # Iteration über alle Recommender-Methoden\n",
    "    for method_name, sim_func in methods.items():\n",
    "        print(method_name)\n",
    "        # Prüfen, ob es sich um ein user-basiertes Modell handelt\n",
    "        is_user_based = \"user\" in method_name\n",
    "        # Berechne Similarity-Matrix\n",
    "        sim_matrix = sim_func(urm)\n",
    "\n",
    "        # Iteration über alle K-Werte (Anzahl der Nachbarn)\n",
    "        for k in ks:\n",
    "            all_preds = []  # Vorhergesagte Ratings\n",
    "            all_truths = []  # Wahre Ratings\n",
    "            precs = []  # Precision-Werte pro User\n",
    "            recs = []   # Recall-Werte pro User\n",
    "\n",
    "            for uid in user_ids:\n",
    "                # Nur User verwenden, die in der URM enthalten sind\n",
    "                if uid not in urm.index:\n",
    "                    continue\n",
    "\n",
    "                if is_user_based:\n",
    "                    preds = predict_ratings_user_based_(uid, sim_matrix, urm, k)\n",
    "                else:\n",
    "                    preds = predict_ratings_item_based(uid, sim_matrix, urm, k)\n",
    "\n",
    "                # Nur bekannte Bewertungen vergleichen\n",
    "                true_ratings = true_ratings_df[true_ratings_df[\"userId\"] == uid].dropna()\n",
    "                # Vorhersagen mit tatsächlichen Bewertungen vergleichen\n",
    "                for _, row in true_ratings.iterrows():\n",
    "                    movie_id = row[\"movieId\"]\n",
    "                    if movie_id in preds.index:\n",
    "                        all_preds.append(preds[movie_id])\n",
    "                        all_truths.append(row[\"rating\"])\n",
    "\n",
    "                # Precision@N und Recall@N\n",
    "                rec_list = list(preds.items())# (movieId, predicted_rating)\n",
    "                truth_list = list(true_ratings[[\"movieId\", \"rating\"]].itertuples(index=False, name=None))\n",
    "                precs.append(precision_at_n(rec_list, truth_list, N=N))\n",
    "                recs.append(recall_at_n(rec_list, truth_list, N=N))\n",
    "                \n",
    "            # RMSE und Durchschnittswerte berechnen (falls es Vergleichsdaten gibt)\n",
    "            mae = mean_absolute_error(all_truths, all_preds) if all_truths else None\n",
    "            rmse = root_mean_square_error(all_truths, all_preds) if all_truths else None\n",
    "            avg_prec = np.nanmean(precs)\n",
    "            avg_rec = np.nanmean(recs)\n",
    "            # Speichere Ergebnisse (K, RMSE, Precision@N, Recall@N)\n",
    "            results[method_name].append((k, mae, rmse, avg_prec, avg_rec))\n",
    "\n",
    "    return results\n"
   ],
   "id": "b214ee74a839b5cc",
   "outputs": [],
   "execution_count": 88
  },
  {
   "metadata": {
    "ExecuteTime": {
     "end_time": "2025-05-07T14:39:00.427416Z",
     "start_time": "2025-05-07T14:39:00.413776Z"
    }
   },
   "cell_type": "code",
   "source": [
    "def plot_metrics(results, N):\n",
    "    for method, data in results.items():\n",
    "        ks, mae, rmses, precs, recs = zip(*data)\n",
    "\n",
    "        plt.figure(figsize=(15, 4))\n",
    "        plt.suptitle(f\"Evaluation für {method}\")\n",
    "\n",
    "        plt.subplot(1, 4, 1)\n",
    "        plt.plot(ks, rmses, marker='o')\n",
    "        plt.title(\"MAE\")\n",
    "        plt.xlabel(\"K\")\n",
    "        plt.ylabel(\"MAE\")\n",
    "        plt.ylim(bottom=0)\n",
    "        \n",
    "        plt.subplot(1, 4, 2)\n",
    "        plt.plot(ks, rmses, marker='o')\n",
    "        plt.title(\"RMSE\")\n",
    "        plt.xlabel(\"K\")\n",
    "        plt.ylabel(\"RMSE\")\n",
    "        plt.ylim(bottom=0)\n",
    "\n",
    "        plt.subplot(1, 4, 3)\n",
    "        plt.plot(ks, precs, marker='o')\n",
    "        plt.title(f\"Precision@{N}\")\n",
    "        plt.xlabel(\"K\")\n",
    "        plt.ylabel(\"Precision\")\n",
    "        plt.ylim(bottom=0)\n",
    "\n",
    "        plt.subplot(1, 4, 4)\n",
    "        plt.plot(ks, recs, marker='o')\n",
    "        plt.title(f\"Recall@{N}\")\n",
    "        plt.xlabel(\"K\")\n",
    "        plt.ylabel(\"Recall\")\n",
    "        plt.ylim(bottom=0)\n",
    "\n",
    "        plt.tight_layout()\n",
    "        plt.show()"
   ],
   "id": "95ff8b663ed98b51",
   "outputs": [],
   "execution_count": 77
  },
  {
   "metadata": {
    "ExecuteTime": {
     "end_time": "2025-05-07T16:13:27.805870Z",
     "start_time": "2025-05-07T16:06:08.241870Z"
    }
   },
   "cell_type": "code",
   "source": [
    "urm_validate = create_urm(validate_masked_1)\n",
    "user_ids = [132,141,153]\n",
    "results = evaluate_rs_methods(user_ids, urm_validate, validate_groundtruth_1, ks=range(1,30,5), N=15)\n",
    "plot_metrics(results, N=15)"
   ],
   "id": "f373789d8c4246af",
   "outputs": [
    {
     "name": "stdout",
     "output_type": "stream",
     "text": [
      "user_cosine\n",
      "user_pearson\n",
      "item_cosine\n",
      "item_pearson\n"
     ]
    },
    {
     "data": {
      "text/plain": [
       "<Figure size 1500x400 with 4 Axes>"
      ],
      "image/png": "[encoded data removed]"
     },
     "metadata": {},
     "output_type": "display_data"
    },
    {
     "data": {
      "text/plain": [
       "<Figure size 1500x400 with 4 Axes>"
      ],
      "image/png": "[encoded data removed]"
     },
     "metadata": {},
     "output_type": "display_data"
    },
    {
     "data": {
      "text/plain": [
       "<Figure size 1500x400 with 4 Axes>"
      ],
      "image/png": "[encoded data removed]"
     },
     "metadata": {},
     "output_type": "display_data"
    },
    {
     "data": {
      "text/plain": [
       "<Figure size 1500x400 with 4 Axes>"
      ],
      "image/png": "[encoded data removed]"
     },
     "metadata": {},
     "output_type": "display_data"
    }
   ],
   "execution_count": 122
  },
  {
   "metadata": {},
   "cell_type": "markdown",
   "source": "# Danach dringen user und ks wert anpassen",
   "id": "89d579425c55cf42"
  },
  {
   "metadata": {
    "ExecuteTime": {
     "end_time": "2025-05-07T16:00:19.486855Z",
     "start_time": "2025-05-07T16:00:19.471026Z"
    }
   },
   "cell_type": "code",
   "source": "print(results)",
   "id": "af7529c372ce5eaa",
   "outputs": [
    {
     "name": "stdout",
     "output_type": "stream",
     "text": [
      "{'user_cosine': [(5, None, None, 0.0, 0.0), (6, None, None, 0.0, 0.0), (7, None, None, 0.0, 0.0), (8, None, None, 0.0, 0.0), (9, None, None, 0.0, 0.0)], 'user_pearson': [(5, None, None, 0.0, 0.0), (6, None, None, 0.0, 0.0), (7, None, None, 0.0, 0.0), (8, None, None, 0.0, 0.0), (9, None, None, 0.0, 0.0)], 'item_cosine': [(5, None, None, 0.0, 0.0), (6, None, None, 0.0, 0.0), (7, None, None, 0.0, 0.0), (8, None, None, 0.0, 0.0), (9, None, None, 0.0, 0.0)], 'item_pearson': [(5, None, None, 0.0, 0.0), (6, None, None, 0.0, 0.0), (7, None, None, 0.0, 0.0), (8, None, None, 0.0, 0.0), (9, None, None, 0.0, 0.0)]}\n"
     ]
    }
   ],
   "execution_count": 116
  },
  {
   "metadata": {},
   "cell_type": "markdown",
   "source": "# Aufgabe 7",
   "id": "e3e094b1e3309c8a"
  },
  {
   "metadata": {},
   "cell_type": "code",
   "outputs": [],
   "execution_count": null,
   "source": "",
   "id": "dec29e30e054cca7"
  }
 ],
 "metadata": {
  "kernelspec": {
   "display_name": "Python 3 (ipykernel)",
   "language": "python",
   "name": "python3"
  },
  "language_info": {
   "codemirror_mode": {
    "name": "ipython",
    "version": 3
   },
   "file_extension": ".py",
   "mimetype": "text/x-python",
   "name": "python",
   "nbconvert_exporter": "python",
   "pygments_lexer": "ipython3",
   "version": "3.9.22"
  }
 },
 "nbformat": 4,
 "nbformat_minor": 5
}
