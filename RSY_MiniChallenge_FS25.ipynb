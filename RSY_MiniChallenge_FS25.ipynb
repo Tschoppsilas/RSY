{
 "cells": [
  {
   "cell_type": "markdown",
   "metadata": {},
   "source": [
    "# Recommender Systems - Mini Challenge HS24\n",
    "\n",
    "In this minichallenge we will explore a MovieLens dataset and implement several recommender systems and evaluation methods. Subsequently we will optimize these methods and compare the results. "
   ]
  },
  {
   "cell_type": "markdown",
   "metadata": {},
   "source": [
    "**Submission deadline:** 24.11.2024 18:00. "
   ]
  },
  {
   "cell_type": "markdown",
   "metadata": {},
   "source": [
    "## Guidelines for Implementation and Submission\n",
    "- Code must be written in Python. The versions of all used packages must be given for reproducability.\n",
    "- You may respond in English or German.\n",
    "- We develop numerous algorithms ourselves. Unless explicitly stated otherwise, only the following libraries may be used in Python: numpy, matplotlib, seaborn, pandas. \n",
    "- Follow good coding practices and write modular, reusable code.\n",
    "- The submitted solution must contain all codes and the results. No code may be outsourced.\n",
    "- All pathes must be relative and just downloading your repo must be executable without modifications.\n",
    "- Only fully running code is graded. The notebook must run sequential from start to end.\n",
    "- If computation time is too long for productive prototyping and debugging work, it is recommended to reduce the dataset to a fraction of its original. However, final results should be calculated on the full dataset. \n",
    "- All plots must be fully labeled (title, axes, labels, colorbar, etc.) so that the plot can be easily understood.\n",
    "- Each plot should be accompanied by a brief discussion, which explains the plot and captures the key insights that become visible.\n",
    "- Only fully labeled plots with an accompanying discussion will be assessed.\n",
    "- The last commit in your fork of the repo before the submission deadline counts as the submission.\n",
    "- Points will be deducted if you write inconsise (Denial of service will be punished) or if I read the text that are not written for me but for the user of ChatGPT. \n",
    "- If you would like to submit and have the mini-challenge assessed, please send a short email to the subject expert (moritz.kirschmann@fhnw.ch) within 2 days after submission.\n",
    "- Please do not delete, duplicate, or move the existing cells. This leads to problems during the correction. However, you may add as many additional cells as you like."
   ]
  },
  {
   "cell_type": "markdown",
   "metadata": {},
   "source": [
    "## Exercises"
   ]
  },
  {
   "metadata": {},
   "cell_type": "markdown",
   "source": ""
  },
  {
   "cell_type": "markdown",
   "metadata": {},
   "source": [
    "### Exercise 1 - A deep exploration of the dataset (17 points)\n",
    "We will work with a subset of the MovieLens dataset. This subset is located under ``data/ml-latest-small``. Read the ``README.txt``carefully. \n",
    "Open the files. \n",
    "\n",
    "a) Describe the available data.\n",
    "\n",
    "Die Daten von MovieLens, einem Filmempfehlungsdienst, beschreiben 5-Sterne-Bewertungen von Filmen. Er enthält 100’836 Bewertungen und 3’683 Tags-Anwendungen für 9’742 Filme. Diese Daten wurden von 610 Nutzern zwischen dem 29. März 1996 und dem 24. September 2018 erstellt. Der Datensatz wurde am 26. September 2018 erstellt.\n",
    "Die Nutzer wurden nach dem Zufallsprinzip für die Aufnahme ausgewählt. Alle ausgewählten Nutzer hatten mindestens 20 Filme bewertet. Es sind keine demografischen Informationen enthalten. Jeder Nutzer wird durch eine ID repräsentiert, und es werden keine weiteren Informationen bereitgestellt.\n",
    "Die Daten sind in den Dateien «links.csv», «movies.csv», «ratings.csv» und «tags.csv» enthalten. \n",
    "Die Daten:\n",
    "•\tratings.csv: Enthält alle Bewertungen. Jede Zeile repräsentiert eine Bewertung eines Films durch einen Benutzer und hat das Format: «userId», «movieId», «rating» und «timestamp». Die Bewertungen erfolgen auf einer 5-Sterne-Skala mit Abstufungen von einem halben Stern (0,5 Sterne - 5,0 Sterne).\n",
    "•\ttags.csv: Enthält alle tags (Etikett). Jede Zeile repräsentiert ein tag, das von einem Benutzer auf einen Film angewendet wurde, und hat das Format: «userId», «movieId», «tag» und «timestamp». Tags sind vom Benutzer erstellte Metadaten zu Filmen, wie beispielsweise der Hauptdarsteller oder ein Wort das beschreibt um was es im Gilm geht (bsp. Wedding wenn im Film geheiratet wird).\n",
    "•\tmovies.csv: Enthält Filminformationen. Jede Zeile repräsentiert einen Film und hat das Format: «movieId», «title» und «genres». Die Genres sind eine durch Pipes ( | ) getrennte Liste, welche genres vom Film alles abgedeckt werden.\n",
    "•\tlinks.csv: Enthält Bezeichner zur Verknüpfung mit anderen Quellen von Filmdaten. Jede Zeile repräsentiert einen Film und hat das Format: «movieId», «imdbId» (imbdId = Internet Movie Database ID) und «tmdbId» (tmdbid = The Movie Database ID). Diese IDs helfen dabei, einen Film eindeutig auf verschiedenen Plattformen zu identifizieren. Wenn man also eine bestimmte Filminformation abrufen möchte, kann man die jeweilige ID nutzen, um den Film auf einer der Plattformen zu finden.\n",
    "\n",
    "Programmiertechnisch wird der Datensatz im Abschnitt unter dem Markdown \"a) Describe the available data\" gezeigt.\n",
    "\n",
    "\n",
    "b) Find and fix bad data (e.g. duplicates, missing values, etc.).\n",
    "\n",
    "Generate lists of\n",
    "\n",
    "c) - Top 20 movies by average rating\n",
    "\n",
    "d) - Top 20 movies by number of views\n",
    "\n",
    "e) What is the range of the ratings? \n",
    "\n",
    "f) Which genre has be rated how many times?\n",
    "\n",
    "g) How sparse is the User Rating Matrix?\n",
    "\n",
    "Plot the following:\n",
    "\n",
    "h) How many users have rated how many movies\n",
    "\n",
    "i) Which rating is given how often on average\n",
    "\n",
    "j) Which rating is given how often on average per genre\n",
    "\n",
    "k) The rating distributions of 10 random movies\n",
    "\n",
    "l) The rating distributions of 3 movies that you have watched\n",
    "\n",
    "m) How many users give which average rating\n",
    "\n",
    "n) How often a movie was rated as a function of average rating\n",
    "\n",
    "o) A heatmap of the User Item Matrix\n",
    "\n",
    "p) A heatmap of the User Item Matrix for the 100 most rated movies for the 50 users with most ratings\n"
   ]
  },
  {
   "metadata": {},
   "cell_type": "markdown",
   "source": "## Abklären ob diese libs gehen"
  },
  {
   "metadata": {
    "ExecuteTime": {
     "end_time": "2025-04-24T06:55:49.186089Z",
     "start_time": "2025-04-24T06:55:49.178654Z"
    }
   },
   "cell_type": "code",
   "source": [
    "import pandas as pd\n",
    "from pathlib import Path\n",
    "import numpy as np\n",
    "import os\n",
    "#Damit die Liste im Output besser aussieht brauche ich pprint\n",
    "import pprint\n",
    "import matplotlib.pyplot as plt\n",
    "import seaborn as sns\n",
    "import random"
   ],
   "outputs": [],
   "execution_count": 1
  },
  {
   "metadata": {},
   "cell_type": "markdown",
   "source": [
    "# Damit die Liste im Output besser aussieht brauche ich pprint\n",
    "\n",
    "## Datensätze werden zum ersten Mal eingelesen"
   ]
  },
  {
   "metadata": {},
   "cell_type": "code",
   "source": [
    "#Datensätze einlesen\n",
    "output_dir = Path(\"Data\\ml-latest-small\")\n",
    "csv_path_links = output_dir / \"links.csv\"\n",
    "csv_path_movies = output_dir / \"movies.csv\"\n",
    "csv_path_ratings = output_dir / \"ratings.csv\"\n",
    "csv_path_tags = output_dir / \"tags.csv\"\n",
    "links_raw = pd.read_csv(csv_path_links)\n",
    "movies_raw = pd.read_csv(csv_path_movies)\n",
    "ratings_raw = pd.read_csv(csv_path_ratings)\n",
    "tags_raw = pd.read_csv(csv_path_tags)"
   ],
   "outputs": [],
   "execution_count": null
  },
  {
   "metadata": {},
   "cell_type": "markdown",
   "source": "## a) Describe the available data."
  },
  {
   "metadata": {},
   "cell_type": "code",
   "source": [
    "#Aufgabe A\n",
    "def data_describe(df, name):\n",
    "    print(f\"{name} Datensatz\")\n",
    "    print(\"\\n Info\")\n",
    "    pprint.pprint(df.info())\n",
    "    print(\"\\n Head\")\n",
    "    pprint.pprint(df.head())\n",
    "\n",
    "data_describe(links_raw, \"links\")"
   ],
   "outputs": [],
   "execution_count": null
  },
  {
   "metadata": {},
   "cell_type": "code",
   "source": "data_describe(movies_raw, \"movies\")",
   "outputs": [],
   "execution_count": null
  },
  {
   "metadata": {},
   "cell_type": "code",
   "source": "data_describe(ratings_raw, \"ratings\")",
   "outputs": [],
   "execution_count": null
  },
  {
   "metadata": {},
   "cell_type": "code",
   "source": "data_describe(tags_raw, \"tags\")",
   "outputs": [],
   "execution_count": null
  },
  {
   "metadata": {},
   "cell_type": "markdown",
   "source": "## b) Find and fix bad data (e.g. duplicates, missing values, etc.)"
  },
  {
   "metadata": {},
   "cell_type": "code",
   "source": [
    "#Aufgabe B\n",
    "# Pfade der Datensätze um sicherzugehen, dass ich die nehme, die noch unberührt sind\n",
    "files = {\n",
    "    \"links\": \"Data/ml-latest-small/links.csv\",\n",
    "    \"movies\": \"Data/ml-latest-small/movies.csv\",\n",
    "    \"ratings\": \"Data/ml-latest-small/ratings.csv\",\n",
    "    \"tags\": \"Data/ml-latest-small/tags.csv\",\n",
    "}\n",
    "\n",
    "# Funktion zur Bereinigung und Standardisierung von CSV-Daten\n",
    "def clean_dataframe(df):\n",
    "    # Entfernen von unnötigen Anführungszeichen, die den gesamten Wert umschliessen, da mir auffiel, dass es im Datensatz Movies dieses Problem gab\n",
    "    def clean_string(x):\n",
    "        if isinstance(x, str):\n",
    "            # Entfernen von führenden und nachfolgenden Anführungszeichen\n",
    "            x = x.strip(\"'\\\"\")\n",
    "        return x\n",
    "\n",
    "    df = df.map(clean_string)\n",
    "    \n",
    "    # mögliche \"<unset>\" durch NaN ersetzen\n",
    "    df = df.replace(\"<unset>\", np.nan)\n",
    "    \n",
    "    # Überprüfen und Anpassen des Datentyps\n",
    "    for column in df.columns:\n",
    "        # Versuchen, den Datentyp zu inferieren und zu casten, falls der Datentyp nicht konsistent ist\n",
    "        if df[column].dtype == 'object':\n",
    "            # Überprüfen, ob die Spalte nur numerische Werte enthält\n",
    "            try:\n",
    "                df[column] = pd.to_numeric(df[column], errors='raise')\n",
    "            except ValueError:\n",
    "                pass  # Wenn es nicht konvertierbar ist, behalten wir den ursprünglichen Datentyp bei\n",
    "    \n",
    "    return df\n",
    "\n",
    "# Lade Daten in DataFrames und stelle sicher, dass die erste Zeile als Spaltennamen verwendet wird\n",
    "dfs = {}\n",
    "for name, path in files.items():\n",
    "    df = pd.read_csv(path, header=None)\n",
    "    \n",
    "    # Setze die erste Zeile als Spaltennamen\n",
    "    df.columns = df.iloc[0]\n",
    "    \n",
    "    # Entferne die erste Zeile, da sie jetzt die Spaltenüberschriften sind\n",
    "    df = df.drop(0, axis=0).reset_index(drop=True)\n",
    "    \n",
    "    dfs[name] = df\n",
    "\n",
    "# Anwenden der Reinigung auf alle DataFrames\n",
    "dfs_cleaned = {name: clean_dataframe(df) for name, df in dfs.items()}\n",
    "\n",
    "# Zielordner definieren um die neuen DF von den alten getrennt zu speichern\n",
    "output_dir = \"Data/filtered_data\"\n",
    "\n",
    "# Sicherstellen, dass der Zielordner existiert\n",
    "os.makedirs(output_dir, exist_ok=True)\n",
    "\n",
    "for name, df in dfs_cleaned.items():\n",
    "    # Berechnen der Anzahl der Duplikate und NA aus den gefilterten Daten um zu zeigen, dass sie gut gefiltert wurden\n",
    "    duplicates_count = df.duplicated().sum()\n",
    "    na_count = df.isna().sum()\n",
    "    # Ausgabe der Anzahl der Duplikate\n",
    "    print(f\"Anzahl der Duplikate im {name}-Datensatz: {duplicates_count}\\n\")\n",
    "    # Ausgabe der Anzahl der NA\n",
    "    print(f\"Anzahl der NA im {name}-Datensatz: {na_count}\\n\")\n",
    "    \n",
    "    # Speichern der bereinigten DataFrames als CSV-Dateien\n",
    "    df.to_csv(os.path.join(output_dir, f\"{name}_cleaned.csv\"), index=False)\n",
    "\n",
    "print(\"Bereinigte Daten wurden gespeichert.\")"
   ],
   "outputs": [],
   "execution_count": null
  },
  {
   "metadata": {
    "ExecuteTime": {
     "end_time": "2025-04-24T07:38:12.013498Z",
     "start_time": "2025-04-24T07:38:11.919395Z"
    }
   },
   "cell_type": "code",
   "source": [
    "#Gefilterte Datensätze wieder den Variablen zuweisen:\n",
    "output_dir = Path(\"Data/filtered_data\")\n",
    "csv_path_links = output_dir / \"links_cleaned.csv\"\n",
    "csv_path_movies = output_dir / \"movies_cleaned.csv\"\n",
    "csv_path_ratings = output_dir / \"ratings_cleaned.csv\"\n",
    "csv_path_tags = output_dir / \"tags_cleaned.csv\"\n",
    "links = pd.read_csv(csv_path_links)\n",
    "movies = pd.read_csv(csv_path_movies)\n",
    "ratings = pd.read_csv(csv_path_ratings)\n",
    "tags = pd.read_csv(csv_path_tags)"
   ],
   "outputs": [],
   "execution_count": 41
  },
  {
   "metadata": {},
   "cell_type": "markdown",
   "source": "## c) Generate a lis of Top 20 movies by average rating"
  },
  {
   "metadata": {},
   "cell_type": "code",
   "source": [
    "#gruppiert die Filme und berechnet den Bewertungsdurchschnitt. Zusätzlich, nehme ich nur die höchsten 20 und wandle es zu einem DF um, damit ich es mergen kann\n",
    "top_20_movies = ratings.groupby(\"movieId\")[\"rating\"].mean().sort_values(ascending=False).head(20).reset_index()\n",
    "\n",
    "liste_top_20 = list(top_20_movies.merge(movies[[\"movieId\", \"title\"]], on=\"movieId\", how=\"left\")[\"title\"])\n",
    "pprint.pprint(liste_top_20)"
   ],
   "outputs": [],
   "execution_count": null
  },
  {
   "metadata": {},
   "cell_type": "markdown",
   "source": [
    "## d) Generate a list of Top 20 movies by number of views\n",
    "Ich gehe hier davon aus, dass ein view einer Bewertung entspricht, da ein Film für eine Bewertung zumindest einmal gesehen werden muss."
   ]
  },
  {
   "metadata": {},
   "cell_type": "code",
   "source": [
    "#gruppiert die Filme und summiert die ANzahl Bewertungen. Zusätzlich, nehme ich nur die höchsten 20 und wandle es zu einem DF um, damit ich es mergen kann\n",
    "top_20_movies_by_view = ratings.groupby(\"movieId\")[\"rating\"].count().sort_values(ascending=False).head(20).reset_index()\n",
    "\n",
    "liste_top_20_by_view = list(top_20_movies_by_view.merge(movies[[\"movieId\", \"title\"]], on=\"movieId\", how=\"left\")[\"title\"])\n",
    "pprint.pprint(liste_top_20_by_view)"
   ],
   "outputs": [],
   "execution_count": null
  },
  {
   "metadata": {},
   "cell_type": "markdown",
   "source": "## e) What is the range of the ratings?"
  },
  {
   "metadata": {},
   "cell_type": "code",
   "source": [
    "list_of_ratings = ratings[\"rating\"].drop_duplicates().sort_values(ascending=False).tolist()\n",
    "print(f\"Die Spannweite der Bewertungen für die Filme liegt zwischen: {list_of_ratings[-1]} bis {list_of_ratings[0]}\")"
   ],
   "outputs": [],
   "execution_count": null
  },
  {
   "metadata": {},
   "cell_type": "markdown",
   "source": "## f) Which genre has be rated how many times?"
  },
  {
   "metadata": {},
   "cell_type": "code",
   "source": [
    "#genres aus movies in ratings datensatz einbauen\n",
    "ratings_mit_gernes = ratings.merge(movies[[\"movieId\", \"genres\"]], on=\"movieId\", how=\"left\")\n",
    "\n",
    "# Die Genre sind teilweise mit | getrennt, was sich, wenn es nicht aufgesplittet wird, nicht sauber zählen lässt, deshalb muss es hier aufgesplittet werden\n",
    "ratings_mit_gernes_exploded = ratings_mit_gernes.assign(genre=ratings_mit_gernes[\"genres\"].str.split(\"|\")).explode(\"genre\")\n",
    "\n",
    "#Anzahl der Bewertungen pro Genre zählen\n",
    "genre_counts = ratings_mit_gernes_exploded[\"genre\"].value_counts().reset_index(name=\"count\")\n",
    "\n",
    "pprint.pprint(genre_counts)\n"
   ],
   "outputs": [],
   "execution_count": null
  },
  {
   "metadata": {},
   "cell_type": "markdown",
   "source": "## g) How sparse is the User Rating Matrix?"
  },
  {
   "metadata": {},
   "cell_type": "code",
   "source": [
    "# Anzahl der eindeutigen Benutzer und Filme\n",
    "num_users = ratings[\"userId\"].nunique()\n",
    "num_movies = ratings[\"movieId\"].nunique()\n",
    "\n",
    "# Anzahl der vorhandenen Bewertungen\n",
    "num_ratings = len(ratings)\n",
    "\n",
    "# Gesamtanzahl der möglichen Bewertungen\n",
    "total_mgl_ratings = num_users * num_movies\n",
    "\n",
    "\n",
    "# Berechnung der spärlichkeit\n",
    "spärlichkeit = 1 - (num_ratings / total_mgl_ratings)\n",
    "\n",
    "print(f\"Es fehlen rund {round(spärlichkeit,4) *100}% aller möglichen Bewertungen\")"
   ],
   "outputs": [],
   "execution_count": null
  },
  {
   "metadata": {},
   "cell_type": "markdown",
   "source": "## h) How many users have rated how many movies"
  },
  {
   "metadata": {},
   "cell_type": "code",
   "source": [
    "ratings_per_user = ratings.groupby(\"userId\")[\"rating\"].count().sort_values(ascending=False).reset_index()\n",
    "\n",
    "plt.figure(figsize=(10, 5))\n",
    "plt.hist(ratings_per_user[\"rating\"], bins=50, label=\"Anzahl der Nutzer\")\n",
    "plt.xlabel(\"Anzahl bewerteter Filme pro Nutzer\")\n",
    "plt.ylabel(\"Anzahl Nutzer\")\n",
    "plt.title(\"Verteilung der Bewertungen pro Nutzer\")\n",
    "plt.legend()\n",
    "plt.show()"
   ],
   "outputs": [],
   "execution_count": null
  },
  {
   "metadata": {},
   "cell_type": "markdown",
   "source": "## i) Which rating is given how often on average"
  },
  {
   "metadata": {},
   "cell_type": "code",
   "source": [
    "ratings_avg_per_user = ratings.groupby(\"rating\")['movieId'].count() / num_users\n",
    "\n",
    "plt.figure(figsize=(10,8))\n",
    "sns.barplot(x=ratings_avg_per_user.index, y=ratings_avg_per_user.values)\n",
    "\n",
    "\n",
    "plt.xlabel(\"Rating\")\n",
    "plt.ylabel(\"Durchschnittliche Anzahl pro Nutzer\")\n",
    "plt.title(\"Durchschnittliche Häufigkeit jeder Bewertung pro Nutzer\")\n",
    "\n",
    "# Werte über die Balken schreiben (i = index pos auf x achse, v = value pos auf y achse)\n",
    "for i, v in enumerate(ratings_avg_per_user.values):\n",
    "    plt.text(i, v + 0.5, f\"{v:.2f}\", ha='center', fontsize=10)\n",
    "\n",
    "plt.show()"
   ],
   "outputs": [],
   "execution_count": null
  },
  {
   "metadata": {},
   "cell_type": "markdown",
   "source": "## j) Which rating is given how often on average per genre"
  },
  {
   "metadata": {},
   "cell_type": "code",
   "source": [
    "#code aus aufgabe f\n",
    "#ratings_mit_gernes = ratings.merge(movies[[\"movieId\", \"genres\"]], on=\"movieId\", how=\"left\")\n",
    "#ratings_mit_gernes_exploded = ratings_mit_gernes.assign(genre=ratings_mit_gernes[\"genres\"].str.split(\"|\")).explode(\"genre\")\n",
    "\n",
    "genre_avg_ratings = ratings_mit_gernes_exploded.groupby([\"genre\", \"rating\"])[\"userId\"].count() / num_users\n",
    "\n",
    "# Umwandlung für den Plot\n",
    "genre_avg_ratings = genre_avg_ratings.reset_index(name=\"avg_rating\")\n",
    "\n",
    "\n",
    "plt.figure(figsize=(15, 8))\n",
    "\n",
    "for genre in genre_avg_ratings['genre'].unique():\n",
    "    genre_data = genre_avg_ratings[genre_avg_ratings['genre'] == genre]\n",
    "    plt.plot(genre_data['rating'], genre_data['avg_rating'], label=genre)\n",
    "\n",
    "\n",
    "plt.title('Durchschnittliche Bewertungen pro Genre')\n",
    "plt.xlabel('Bewertung')\n",
    "plt.ylabel('Durchschnittliche Bewertung')\n",
    "plt.legend(title=\"Genre\", bbox_to_anchor=(1.05, 1), loc='upper left')\n",
    "plt.grid(True)\n",
    "plt.tight_layout()\n",
    "plt.show()\n"
   ],
   "outputs": [],
   "execution_count": null
  },
  {
   "metadata": {},
   "cell_type": "markdown",
   "source": "## k) The rating distributions of 10 random movies"
  },
  {
   "metadata": {},
   "cell_type": "code",
   "source": [
    "random_movies = random.sample(ratings_mit_gernes_exploded['movieId'].unique().tolist(), 10)\n",
    "\n",
    "# Erstelle Plots mit mehreren Subplots\n",
    "fig, axes = plt.subplots(5, 2, figsize=(12, 20))  # 5 Zeilen und 2 Spalten für 10 Filme\n",
    "axes = axes.flatten()\n",
    "\n",
    "# Erstellung für jeden zufällig ausgewählten Film ein Histogramm\n",
    "for i, movie_id in enumerate(random_movies):\n",
    "    movie_ratings = ratings_mit_gernes_exploded[ratings_mit_gernes_exploded['movieId'] == movie_id]['rating']\n",
    "    \n",
    "    # Histogramm für die Bewertung jedes Films erstellen\n",
    "    axes[i].hist(movie_ratings, bins = 10, edgecolor='black')\n",
    "    axes[i].set_title(f'Bewertungsverteilung für Film {movie_id}')\n",
    "    axes[i].set_xlabel('Bewertung')\n",
    "    axes[i].set_ylabel('Anzahl der Bewertungen')\n",
    "    axes[i].set_xticks(np.arange(0, 5, 0.5))\n",
    "\n",
    "plt.tight_layout()\n",
    "plt.show()"
   ],
   "outputs": [],
   "execution_count": null
  },
  {
   "metadata": {},
   "cell_type": "markdown",
   "source": "## l) The rating distributions of 3 movies that you have watched"
  },
  {
   "metadata": {},
   "cell_type": "code",
   "source": [
    "watched_movie_ids = [1101, 93510, 108156]  # Ersetze dies mit den echten movieIds\n",
    "\n",
    "fig, axes = plt.subplots(3, 1, figsize=(10, 15))  # 3 Zeilen für 3 Filme\n",
    "axes = axes.flatten()\n",
    "\n",
    "# Erstelle für jeden Film ein Histogramm der Bewertungen\n",
    "for i, movie_id in enumerate(watched_movie_ids):\n",
    "    movie_ratings = ratings_mit_gernes_exploded[ratings_mit_gernes_exploded['movieId'] == movie_id]['rating']\n",
    "    \n",
    "    # Hole den Titel des Films aus dem DataFrame (erste Übereinstimmung)\n",
    "    movie_title = movies.loc[movies['movieId'] == movie_id]['title'].iloc[0]\n",
    "    \n",
    "    axes[i].hist(movie_ratings, bins=10, edgecolor='black')\n",
    "    axes[i].set_title(f'Bewertungsverteilung für Film {movie_title}')\n",
    "    axes[i].set_xlabel('Bewertung')\n",
    "    axes[i].set_ylabel('Anzahl der Bewertungen')\n",
    "    axes[i].set_xticks(np.arange(0, 5.5, 0.5))\n",
    "\n",
    "# Layout optimieren\n",
    "plt.tight_layout()\n",
    "plt.show()"
   ],
   "outputs": [],
   "execution_count": null
  },
  {
   "metadata": {},
   "cell_type": "markdown",
   "source": "## m) How many users give which average rating"
  },
  {
   "metadata": {},
   "cell_type": "code",
   "source": [
    "# Berechnung der Anzahl der einzigartigen Nutzer für jede Bewertung\n",
    "avg_rating_sum_user = ratings.groupby(\"rating\")['userId'].count().reset_index()\n",
    "\n",
    "plt.figure(figsize=(10,8))\n",
    "sns.barplot(x=avg_rating_sum_user['rating'], y=avg_rating_sum_user['userId'])\n",
    "\n",
    "plt.xlabel(\"Bewertung\")\n",
    "plt.ylabel(\"Anzahl der Nutzer, die diese Bewertung abgegeben haben\")\n",
    "plt.title(\"Anzahl der Nutzer, die jede Bewertung abgegeben haben\")\n",
    "\n",
    "# Werte über die Balken schreiben (i = index pos auf x Achse, v = value pos auf y Achse)\n",
    "for i, v in enumerate(avg_rating_sum_user['userId']):\n",
    "    plt.text(i, v + 0.5, f\"{v:.0f}\", ha='center', fontsize=10)\n",
    "\n",
    "plt.show()"
   ],
   "outputs": [],
   "execution_count": null
  },
  {
   "metadata": {},
   "cell_type": "markdown",
   "source": "## n) How often a movie was rated as a function of average rating"
  },
  {
   "metadata": {},
   "cell_type": "code",
   "source": [
    "movie_rating_statistic = ratings.groupby(\"movieId\").agg(avg_rating = (\"rating\", \"mean\"), rating_count=(\"rating\", \"count\")).reset_index()\n",
    "\n",
    "plt.figure(figsize=(10,6))\n",
    "sns.scatterplot(x=movie_rating_statistic[\"avg_rating\"], y=movie_rating_statistic[\"rating_count\"], alpha=0.7)\n",
    "\n",
    "plt.xlabel(\"Durchschnittliche Bewertung\")\n",
    "plt.ylabel(\"Anzahl der Bewertungen\")\n",
    "plt.title(\"Anzahl der Bewertungen als Funktion der Durchschnittsbewertung\")\n",
    "\n",
    "plt.show()"
   ],
   "outputs": [],
   "execution_count": null
  },
  {
   "metadata": {},
   "cell_type": "markdown",
   "source": "## o) A heatmap of the User Item Matrix"
  },
  {
   "metadata": {},
   "cell_type": "code",
   "source": [
    "# User-Item-Matrix erstellen\n",
    "user_item_matrix = ratings.pivot(index=\"userId\", columns=\"movieId\", values=\"rating\")\n",
    "\n",
    "# Fehlende Werte mit 0 ersetzen\n",
    "user_item_matrix = user_item_matrix.fillna(0)\n",
    "\n",
    "plt.figure(figsize=(20, 12))\n",
    "sns.heatmap(user_item_matrix, cmap=\"coolwarm\", xticklabels=False, yticklabels=False)\n",
    "\n",
    "plt.title(\"Heatmap der User-Item-Matrix\")\n",
    "\n",
    "plt.show()"
   ],
   "outputs": [],
   "execution_count": null
  },
  {
   "metadata": {},
   "cell_type": "markdown",
   "source": "## p) A heatmap of the User Item Matrix for the 100 most rated movies for the 50 users with most ratings"
  },
  {
   "metadata": {},
   "cell_type": "code",
   "source": [
    "# 50 aktivste Nutzer (mit den meisten Bewertungen) ermitteln\n",
    "top_users = ratings['userId'].value_counts().head(50).index\n",
    "\n",
    "# 100 meistbewertete Filme ermitteln\n",
    "top_movies = ratings['movieId'].value_counts().head(100).index\n",
    "\n",
    "# User-Item-Matrix nur für diese Nutzer & Filme erstellen\n",
    "filtered_ratings = ratings[(ratings['userId'].isin(top_users)) & (ratings['movieId'].isin(top_movies))]\n",
    "user_item_matrix = filtered_ratings.pivot(index=\"userId\", columns=\"movieId\", values=\"rating\")\n",
    "\n",
    "plt.figure(figsize=(12, 8))\n",
    "sns.heatmap(user_item_matrix, cmap=\"coolwarm\", linewidths=0.5, linecolor=\"gray\")\n",
    "plt.yticks(rotation=0)\n",
    "\n",
    "plt.title(\"Heatmap der User-Item-Matrix (Top 50 Nutzer, Top 100 Filme)\")\n",
    "\n",
    "plt.show()"
   ],
   "outputs": [],
   "execution_count": null
  },
  {
   "cell_type": "markdown",
   "metadata": {},
   "source": [
    "### Exercise 2 - Building a baseline RS (7 points)\n",
    "In this exercise we will build a baseline RS and functions to calculate fundamental performance metrics. \n",
    "\n",
    "Build the following baseline RS to predict Top-N (default N=20):\n",
    "1. In reference to the book *Collaborative Filtering Recommender Systems by Michael D. Ekstrand, John T. Riedl and Joseph A. Konstan* (p. 91ff) implement the baseline predictor $$ b_{u,i}= \\mu +b_u +b_i $$ with the regularized user and item average offsets: $$ b_u = \\frac{1}{|I_u| + \\beta_u} \\sum_{i \\in I_u} (r_{u,i} - \\mu) $$ and $$ b_i = \\frac{1}{|U_i| + \\beta_i} \\sum_{u \\in U_i} (r_{u,i} - b_u - \\mu) . $$ Build a recommender system upon this baseline predictor. Set the default damping factors $\\beta_u$ and $\\beta_i$ both to 20.\n",
    "2. Build a RS that recommends based on *random* recommendations.  \n",
    "\n",
    "Output the recommendations for three example users (Ids 1, 3 and 7) and the default parameters. Give the titles of the recommended movies and their predicted scores not just their Ids."
   ]
  },
  {
   "metadata": {},
   "cell_type": "markdown",
   "source": [
    "### Code zur Berechnung von\n",
    "  $$ b_u = \\frac{1}{|I_u| + \\beta_u} \\sum_{i \\in I_u} (r_{u,i} - \\mu) $$ und $$ b_i = \\frac{1}{|U_i| + \\beta_i} \\sum_{u \\in U_i} (r_{u,i} - b_u - \\mu) . $$"
   ]
  },
  {
   "cell_type": "code",
   "metadata": {
    "ExecuteTime": {
     "end_time": "2025-04-22T10:59:07.080724Z",
     "start_time": "2025-04-22T10:55:43.355639Z"
    }
   },
   "source": [
    "def calculate_biases(df, beta_u=20, beta_i = 20, iteration=10):\n",
    "    b_i = dict()\n",
    "    b_u = dict()\n",
    "    # Setzt alle Biases auf 0 und iteriert über alle einzigartigen movieId, da sie meist mehrfach bewertet wurden\n",
    "    for movie_id in df[\"movieId\"].unique():\n",
    "        b_i[movie_id] = 0.0\n",
    "\n",
    "    for user_id in df[\"userId\"].unique():\n",
    "        b_u[user_id] = 0.0\n",
    "        \n",
    "    #Mu ist die Durchschnittsbewertung im ganzen System\n",
    "    mu = df[\"rating\"].mean()\n",
    "\n",
    "    # Iteration für Regularisierung\n",
    "    for _ in range(iteration):\n",
    "        # Update b_u\n",
    "        for user_id in df[\"userId\"].unique():\n",
    "            # Holen der Bewertungen dieses Benutzers\n",
    "            user_ratings = df[df[\"userId\"] == user_id]\n",
    "            # Berechne den Zähler für b_u (Summe der Abweichungen der Bewertungen des Benutzers im vergleich zur Duchschnittbewertung im ganzen System und Item-Bias)\n",
    "            zähler = ((user_ratings[\"rating\"] - mu - user_ratings[\"movieId\"].map(b_i)).sum())\n",
    "            # Berechne den Nenner für b_u (Anzahl der Bewertungen des Benutzers + Regularisierungsfaktor beta)\n",
    "            nenner = beta_u + len(user_ratings)\n",
    "            b_u[user_id] = zähler / nenner\n",
    "\n",
    "        # Update b_i\n",
    "        for movie_id in df[\"movieId\"].unique():\n",
    "            movie_ratings = df[df[\"movieId\"] == movie_id]\n",
    "            # Berechne den Zähler für b_i (Summe der Abweichungen der Bewertungen des Films im vergleich zur Duchschnittbewertung im ganzen Systemund User-Bias)\n",
    "            zähler = ((movie_ratings[\"rating\"] - mu - movie_ratings[\"userId\"].map(b_u)).sum())\n",
    "            # Berechne den Nenner für b_i (Anzahl der Bewertungen des Films + Regularisierungsfaktor beta)\n",
    "            nenner = beta_i + len(movie_ratings)\n",
    "            b_i[movie_id] = zähler / nenner\n",
    "\n",
    "    return mu, b_u, b_i\n",
    "\n",
    "\n",
    "mu, b_u, b_i = calculate_biases(ratings)"
   ],
   "outputs": [],
   "execution_count": 17
  },
  {
   "metadata": {},
   "cell_type": "markdown",
   "source": [
    "### Berechnung der Top-N Recommendations für die User 1,3,7\n",
    "\n",
    "Basierend auf ihren Berertungen"
   ]
  },
  {
   "metadata": {
    "ExecuteTime": {
     "end_time": "2025-04-22T10:59:07.222125Z",
     "start_time": "2025-04-22T10:59:07.080724Z"
    }
   },
   "cell_type": "code",
   "source": [
    "#Vorhersagen für die nicht bewerteten Filme eines Users\n",
    "def predict(mu, b_u, b_i, user_ID, unrated_Itmes):\n",
    "    prediction = []\n",
    "    for item_ID in unrated_Itmes:\n",
    "        predicted_rating = mu + b_u[user_ID] + b_i[item_ID]\n",
    "        prediction.append((item_ID, predicted_rating))\n",
    "    prediction.sort(key=lambda x: x[1], reverse=True)\n",
    "    return prediction\n",
    "\n",
    "#Vorhersagen für Top-N Empfehlungen\n",
    "def get_top_n_reco(df,mu, b_u, b_i, user_ID, N = 20):\n",
    "    #Filtern nach welche Filme bereits von User bewertet wurden\n",
    "    uri = df[df[\"userId\"] == user_ID][\"movieId\"]\n",
    "    #Liste erstellen für alle nicht bertetetn Filme\n",
    "    unrated_prod = [item for item in df[\"movieId\"].unique() if item not in uri]\n",
    "    #Vorhersage berechnen wie der Nutzer den Film finden würde\n",
    "    top_n_pred = predict(mu, b_u, b_i,user_ID, unrated_prod)[:N]\n",
    "    print(f\"\\n Top {N} Empfehlungen für Benutzer {user_ID} sind:\")\n",
    "    for rank, (movie_id, score) in enumerate(top_n_pred, start=1):\n",
    "        movie_title = movies.loc[movies['movieId'] == movie_id, 'title'].values[0]\n",
    "        print(f\"{rank}. {movie_title} - Vorhergesagter Wert: {score:.2f}\")\n",
    "\n",
    "\n",
    "get_top_n_reco(ratings,mu, b_u, b_i, 1)\n",
    "get_top_n_reco(ratings,mu, b_u, b_i, 3)\n",
    "get_top_n_reco(ratings,mu, b_u, b_i, 7)"
   ],
   "outputs": [
    {
     "name": "stdout",
     "output_type": "stream",
     "text": [
      "\n",
      " Top 20 Empfehlungen für Benutzer 1 sind:\n",
      "1. Shawshank Redemption, The (1994) - Vorhergesagter Wert: 5.04\n",
      "2. Fight Club (1999) - Vorhergesagter Wert: 4.91\n",
      "3. Godfather, The (1972) - Vorhergesagter Wert: 4.90\n",
      "4. Dr. Strangelove or: How I Learned to Stop Worrying and Love the Bomb (1964) - Vorhergesagter Wert: 4.89\n",
      "5. Star Wars: Episode IV - A New Hope (1977) - Vorhergesagter Wert: 4.87\n",
      "6. Star Wars: Episode V - The Empire Strikes Back (1980) - Vorhergesagter Wert: 4.86\n",
      "7. Raiders of the Lost Ark (Indiana Jones and the Raiders of the Lost Ark) (1981) - Vorhergesagter Wert: 4.85\n",
      "8. Princess Bride, The (1987) - Vorhergesagter Wert: 4.85\n",
      "9. Pulp Fiction (1994) - Vorhergesagter Wert: 4.85\n",
      "10. Goodfellas (1990) - Vorhergesagter Wert: 4.84\n",
      "11. Godfather: Part II, The (1974) - Vorhergesagter Wert: 4.84\n",
      "12. Schindler's List (1993) - Vorhergesagter Wert: 4.84\n",
      "13. Dark Knight, The (2008) - Vorhergesagter Wert: 4.84\n",
      "14. Rear Window (1954) - Vorhergesagter Wert: 4.84\n",
      "15. Apocalypse Now (1979) - Vorhergesagter Wert: 4.83\n",
      "16. Monty Python and the Holy Grail (1975) - Vorhergesagter Wert: 4.82\n",
      "17. Casablanca (1942) - Vorhergesagter Wert: 4.82\n",
      "18. Reservoir Dogs (1992) - Vorhergesagter Wert: 4.82\n",
      "19. Forrest Gump (1994) - Vorhergesagter Wert: 4.82\n",
      "20. Lawrence of Arabia (1962) - Vorhergesagter Wert: 4.82\n",
      "\n",
      " Top 20 Empfehlungen für Benutzer 3 sind:\n",
      "1. Shawshank Redemption, The (1994) - Vorhergesagter Wert: 3.61\n",
      "2. Fight Club (1999) - Vorhergesagter Wert: 3.48\n",
      "3. Godfather, The (1972) - Vorhergesagter Wert: 3.47\n",
      "4. Usual Suspects, The (1995) - Vorhergesagter Wert: 3.46\n",
      "5. Dr. Strangelove or: How I Learned to Stop Worrying and Love the Bomb (1964) - Vorhergesagter Wert: 3.46\n",
      "6. Star Wars: Episode IV - A New Hope (1977) - Vorhergesagter Wert: 3.44\n",
      "7. Star Wars: Episode V - The Empire Strikes Back (1980) - Vorhergesagter Wert: 3.43\n",
      "8. Raiders of the Lost Ark (Indiana Jones and the Raiders of the Lost Ark) (1981) - Vorhergesagter Wert: 3.42\n",
      "9. Princess Bride, The (1987) - Vorhergesagter Wert: 3.42\n",
      "10. Goodfellas (1990) - Vorhergesagter Wert: 3.41\n",
      "11. Godfather: Part II, The (1974) - Vorhergesagter Wert: 3.41\n",
      "12. Schindler's List (1993) - Vorhergesagter Wert: 3.41\n",
      "13. Dark Knight, The (2008) - Vorhergesagter Wert: 3.41\n",
      "14. Rear Window (1954) - Vorhergesagter Wert: 3.41\n",
      "15. Apocalypse Now (1979) - Vorhergesagter Wert: 3.41\n",
      "16. Monty Python and the Holy Grail (1975) - Vorhergesagter Wert: 3.40\n",
      "17. Casablanca (1942) - Vorhergesagter Wert: 3.39\n",
      "18. Reservoir Dogs (1992) - Vorhergesagter Wert: 3.39\n",
      "19. Forrest Gump (1994) - Vorhergesagter Wert: 3.39\n",
      "20. Lawrence of Arabia (1962) - Vorhergesagter Wert: 3.39\n",
      "\n",
      " Top 20 Empfehlungen für Benutzer 7 sind:\n",
      "1. Shawshank Redemption, The (1994) - Vorhergesagter Wert: 4.02\n",
      "2. Fight Club (1999) - Vorhergesagter Wert: 3.89\n",
      "3. Godfather, The (1972) - Vorhergesagter Wert: 3.88\n",
      "4. Usual Suspects, The (1995) - Vorhergesagter Wert: 3.87\n",
      "5. Dr. Strangelove or: How I Learned to Stop Worrying and Love the Bomb (1964) - Vorhergesagter Wert: 3.87\n",
      "6. Star Wars: Episode IV - A New Hope (1977) - Vorhergesagter Wert: 3.85\n",
      "7. Star Wars: Episode V - The Empire Strikes Back (1980) - Vorhergesagter Wert: 3.83\n",
      "8. Raiders of the Lost Ark (Indiana Jones and the Raiders of the Lost Ark) (1981) - Vorhergesagter Wert: 3.83\n",
      "9. Princess Bride, The (1987) - Vorhergesagter Wert: 3.83\n",
      "10. Pulp Fiction (1994) - Vorhergesagter Wert: 3.82\n",
      "11. Goodfellas (1990) - Vorhergesagter Wert: 3.82\n",
      "12. Godfather: Part II, The (1974) - Vorhergesagter Wert: 3.82\n",
      "13. Schindler's List (1993) - Vorhergesagter Wert: 3.82\n",
      "14. Dark Knight, The (2008) - Vorhergesagter Wert: 3.81\n",
      "15. Apocalypse Now (1979) - Vorhergesagter Wert: 3.81\n",
      "16. Monty Python and the Holy Grail (1975) - Vorhergesagter Wert: 3.80\n",
      "17. Reservoir Dogs (1992) - Vorhergesagter Wert: 3.80\n",
      "18. Forrest Gump (1994) - Vorhergesagter Wert: 3.80\n",
      "19. Lawrence of Arabia (1962) - Vorhergesagter Wert: 3.79\n",
      "20. Matrix, The (1999) - Vorhergesagter Wert: 3.79\n"
     ]
    }
   ],
   "execution_count": 18
  },
  {
   "metadata": {},
   "cell_type": "markdown",
   "source": "### Zufällige Top-N Recommendations für die User 1,3,7"
  },
  {
   "metadata": {
    "ExecuteTime": {
     "end_time": "2025-04-22T10:59:07.328974Z",
     "start_time": "2025-04-22T10:59:07.222125Z"
    }
   },
   "cell_type": "code",
   "source": [
    "def random_recom(df, user_ID, N=20):\n",
    "    uri = df[df['userId'] == user_ID]['movieId']\n",
    "    unrated_prod = [item for item in df[\"movieId\"].unique() if item not in uri]\n",
    "    random_recommendations = random.sample(unrated_prod, min(N, len(unrated_prod)))\n",
    "\n",
    "    print(f\"\\n Zufällige Empfehlungen für User {user_ID}:\")\n",
    "    for rank, movie_id in enumerate(random_recommendations, start=1):\n",
    "        movie_title = movies.loc[movies['movieId'] == movie_id, 'title'].values[0]\n",
    "        print(f\"{rank}.  {movie_title}\")\n",
    "\n",
    "random_recom(ratings, 1)\n",
    "random_recom(ratings, 3)\n",
    "random_recom(ratings, 7)"
   ],
   "outputs": [
    {
     "name": "stdout",
     "output_type": "stream",
     "text": [
      "\n",
      " Zufällige Empfehlungen für User 1:\n",
      "1.  Magnum Force (1973)\n",
      "2.  Duellists, The (1977)\n",
      "3.  By the Gun (2014)\n",
      "4.  Boogeyman, The (1980)\n",
      "5.  Re-Animator (1985)\n",
      "6.  U-571 (2000)\n",
      "7.  Love Is the Devil (1998)\n",
      "8.  Final Destination (2000)\n",
      "9.  Return of Jafar, The (1994)\n",
      "10.  White Christmas (1954)\n",
      "11.  Don't Say a Word (2001)\n",
      "12.  Salo, or The 120 Days of Sodom (Salò o le 120 giornate di Sodoma) (1976)\n",
      "13.  Embrace of the Serpent (2016)\n",
      "14.  What Men Talk About (2010)\n",
      "15.  Sword of the Stranger (Sutorejia: Mukô hadan) (2007)\n",
      "16.  Mirror, The (Zerkalo) (1975)\n",
      "17.  The Jinx: The Life and Deaths of Robert Durst (2015)\n",
      "18.  With a Friend Like Harry... (Harry, un ami qui vous veut du bien) (2000)\n",
      "19.  Bubba Ho-tep (2002)\n",
      "20.  Super 8 (2011)\n",
      "\n",
      " Zufällige Empfehlungen für User 3:\n",
      "1.  Holy Man (1998)\n",
      "2.  Madagascar (2005)\n",
      "3.  Wait Until Dark (1967)\n",
      "4.  Another 48 Hrs. (1990)\n",
      "5.  Role Models (2008)\n",
      "6.  13 Going on 30 (2004)\n",
      "7.  Party, The (1968)\n",
      "8.  My Cousin Vinny (1992)\n",
      "9.  Religulous (2008)\n",
      "10.  Angriest Man in Brooklyn, The (2014)\n",
      "11.  Slacker (1991)\n",
      "12.  Assembly (Ji jie hao) (2007) \n",
      "13.  Children of Heaven, The (Bacheha-Ye Aseman) (1997)\n",
      "14.  Spider-Man (2002)\n",
      "15.  Transporter 3 (2008)\n",
      "16.  Barton Fink (1991)\n",
      "17.  HyperNormalisation (2016)\n",
      "18.  Captain America (1990)\n",
      "19.  November (2004)\n",
      "20.  Darkest Hour (2017)\n",
      "\n",
      " Zufällige Empfehlungen für User 7:\n",
      "1.  Angel Baby (1995)\n",
      "2.  I'll Do Anything (1994)\n",
      "3.  Jean de Florette (1986)\n",
      "4.  Real McCoy, The (1993)\n",
      "5.  My First Mister (2001)\n",
      "6.  Young Sherlock Holmes (1985)\n",
      "7.  Made in America (1993)\n",
      "8.  Analyze That (2002)\n",
      "9.  Omega Man, The (1971)\n",
      "10.  Green Room (2015)\n",
      "11.  Impromptu (1991)\n",
      "12.  Junior (1994)\n",
      "13.  War of the Worlds (2005)\n",
      "14.  Tiger and the Snow, The (La tigre e la neve) (2005)\n",
      "15.  Lost World: Jurassic Park, The (1997)\n",
      "16.  Color of Money, The (1986)\n",
      "17.  Pride of the Yankees, The (1942)\n",
      "18.  3 dev adam (Three Giant Men) (1973) \n",
      "19.  Tetro (2009)\n",
      "20.  Full Moon in Blue Water (1988)\n"
     ]
    }
   ],
   "execution_count": 19
  },
  {
   "cell_type": "markdown",
   "metadata": {},
   "source": [
    "### Exercise 3 - Evaluation methods (12 points)\n",
    "Split the data into train/validation set and a separate test set. This test set shall contain the first 20% of the users and shall not be used at all before exercise 10. With the remaining 80% do the following: \n",
    "Implement a function to partition your dataset for an offline evaluation based on holding out of random users with 5x cross validation with a 80/20 train/validation split. Within the validation set implement a masking with *all but n* approach. \n",
    "See page 2942 of https://jmlr.csail.mit.edu/papers/volume10/gunawardana09a/gunawardana09a.pdf for details on this approach. \n",
    "\n",
    "Choose the number of masked items n reasonably and explain your considerations.\n",
    "\n",
    "Implement functions to calculate the following metrics:\n",
    "- *Mean Absolute Error (MAE)* \n",
    "- *Root Mean Square Error (RMSE)*\n",
    "- *Precision@N* with default $N=15$ and relevance threshold 4.0 stars.\n",
    "- *Recall@N* with default $N=15$ and relevance threshold 4.0 stars.\n",
    "\n",
    "Explain each of these. How does the relevance threshold influence the metrics? How would you choose this parameter?\n",
    "\n",
    "Note: For the last two metrics use the definitions from https://medium.com/@m_n_malaeb/recall-and-precision-at-k-for-recommender-systems-618483226c54 with one exception: In case of the denominator being zero, set the metric to 0. "
   ]
  },
  {
   "metadata": {},
   "cell_type": "markdown",
   "source": "## Datenaufteilung 20% = Test Datensatz und 80% = Trainings und Validierungsdatensatz"
  },
  {
   "cell_type": "code",
   "metadata": {
    "ExecuteTime": {
     "end_time": "2025-04-22T15:48:45.373401Z",
     "start_time": "2025-04-22T15:48:45.073787Z"
    }
   },
   "source": [
    "def split_dataset(dataset, Test_procent=0.2):\n",
    "    user_unique = dataset[\"userId\"].unique()\n",
    "    \n",
    "    num_test_users = int(len(user_unique) * Test_procent)\n",
    "    test_users = user_unique[:num_test_users]\n",
    "    \n",
    "    #Test DF erstellen\n",
    "    df_test = dataset[dataset[\"userId\"].isin(test_users)]\n",
    "    \n",
    "    #Trainings DF estellen\n",
    "    df_train = dataset[~dataset[\"userId\"].isin(test_users)]\n",
    "    \n",
    "    return df_train, df_test\n",
    "\n",
    "df_train, df_test = split_dataset(ratings)\n",
    "\n",
    "#in csv abspeichern\n",
    "output_dir = Path(\"Data/Train_Test_Validate\")\n",
    "df_test.to_csv(os.path.join(output_dir, f\"test_df.csv\"), index=False)\n",
    "df_train.to_csv(os.path.join(output_dir, f\"train_df.csv\"), index=False)"
   ],
   "outputs": [],
   "execution_count": 138
  },
  {
   "metadata": {},
   "cell_type": "markdown",
   "source": "Datensätze zu Variablen zuweisen"
  },
  {
   "metadata": {},
   "cell_type": "markdown",
   "source": "Um herauszufinden wieviel Werte ich im Test_df_masked verstecken darf, schaue ich wieviele Bewertungen im Test_df sind."
  },
  {
   "metadata": {
    "ExecuteTime": {
     "end_time": "2025-04-23T07:53:10.381856Z",
     "start_time": "2025-04-23T07:53:10.355349Z"
    }
   },
   "cell_type": "code",
   "source": [
    "user_counts = test.groupby('userId').size()\n",
    "\n",
    "print(user_counts.describe())"
   ],
   "outputs": [
    {
     "name": "stdout",
     "output_type": "stream",
     "text": [
      "count     122.000000\n",
      "mean      156.745902\n",
      "std       187.979802\n",
      "min        20.000000\n",
      "25%        42.500000\n",
      "50%        86.500000\n",
      "75%       174.750000\n",
      "max      1260.000000\n",
      "dtype: float64\n"
     ]
    }
   ],
   "execution_count": 25
  },
  {
   "metadata": {},
   "cell_type": "markdown",
   "source": "Anschliessend maskiere ich den Test_df hier"
  },
  {
   "metadata": {
    "ExecuteTime": {
     "end_time": "2025-04-23T11:36:15.493986Z",
     "start_time": "2025-04-23T11:36:15.008007Z"
    }
   },
   "cell_type": "code",
   "source": [
    "def mask_test_all_but_n(test_df, user_col=\"userId\", rating_col=\"rating\", n_keep=15, random_seed=42):\n",
    "    np.random.seed(random_seed)\n",
    "    masked_list = []\n",
    "\n",
    "    for user_id in test_df[user_col].unique():\n",
    "        user_data = test_df[test_df[user_col] == user_id]\n",
    "\n",
    "        if len(user_data) > n_keep:\n",
    "            keep = user_data.sample(n=n_keep, random_state=random_seed)\n",
    "            mask = user_data.drop(keep.index).copy()\n",
    "            mask[rating_col] = np.nan\n",
    "            user_masked = pd.concat([keep, mask])\n",
    "        else:\n",
    "            user_masked = user_data\n",
    "\n",
    "        masked_list.append(user_masked)\n",
    "\n",
    "    test_masked = pd.concat(masked_list).reset_index(drop=True)\n",
    "    return test_masked\n",
    "\n",
    "df_test_masked = mask_test_all_but_n(test)\n",
    "\n",
    "#in csv abspeichern\n",
    "output_dir = Path(\"Data/Train_Test_Validate\")\n",
    "df_test_masked.to_csv(os.path.join(output_dir, f\"test_df_masked.csv\"), index=False)"
   ],
   "outputs": [],
   "execution_count": 127
  },
  {
   "metadata": {
    "ExecuteTime": {
     "end_time": "2025-04-24T07:09:09.737516Z",
     "start_time": "2025-04-24T07:09:09.645031Z"
    }
   },
   "cell_type": "code",
   "source": [
    "output_dir = Path(\"Data/Train_Test_Validate\")\n",
    "csv_path_train = output_dir / \"train_df.csv\"\n",
    "csv_path_test = output_dir / \"test_df.csv\"\n",
    "training = pd.read_csv(csv_path_train)\n",
    "test = pd.read_csv(csv_path_test)\n",
    "csv_path_test_masked = output_dir / \"test_df_masked.csv\"\n",
    "test_masked = pd.read_csv(csv_path_test_masked)"
   ],
   "outputs": [],
   "execution_count": 8
  },
  {
   "metadata": {},
   "cell_type": "markdown",
   "source": [
    "## Cross Validation\n",
    "### Mein Vorgehen\n",
    "Ich habe zuerst den Trainingsdatensatz nach User gruppiert um dann die wichtigsten Werte auszugeben. Beispielsweise ist so zu erkennen, dass jeder Nutzer aus dem Trainings Datensatz im Durchschnitt 167.44 Bewertungen abgegeben hat. Die half mir mein validation Wert (all-but-n) Wert zu definieren. Ich habe in der Literatur, der n Wert darf nicht in der nähe von 20 sein, da ein user lediglich 20 Filme bewertet hat. Damit ich auch dort eine zutreffende Aussage machen kann, wählte ich den Wert n=10, da ich dann trotzdem die hälfte kaschiere."
   ]
  },
  {
   "metadata": {
    "ExecuteTime": {
     "end_time": "2025-04-22T15:50:01.384520Z",
     "start_time": "2025-04-22T15:50:01.370302Z"
    }
   },
   "cell_type": "code",
   "source": [
    "user_counts = training.groupby('userId').size()\n",
    "\n",
    "print(user_counts.describe())"
   ],
   "outputs": [
    {
     "name": "stdout",
     "output_type": "stream",
     "text": [
      "count     488.000000\n",
      "mean      167.444672\n",
      "std       286.372815\n",
      "min        20.000000\n",
      "25%        35.000000\n",
      "50%        68.500000\n",
      "75%       167.250000\n",
      "max      2698.000000\n",
      "dtype: float64\n"
     ]
    }
   ],
   "execution_count": 141
  },
  {
   "metadata": {
    "ExecuteTime": {
     "end_time": "2025-04-24T07:14:25.584603Z",
     "start_time": "2025-04-24T07:14:25.565336Z"
    }
   },
   "cell_type": "code",
   "source": [
    "def cross_validation(dataset, parts=5, n_keep=10, random_state=42):\n",
    "    # Shuffle users deterministisch mit pandas\n",
    "    user_unique = dataset[\"userId\"].unique()\n",
    "    user_shuffled = pd.Series(user_unique).sample(frac=1, random_state=random_state).values\n",
    "    \n",
    "    # Aufteilen der User in Folds\n",
    "    user_folds = np.array_split(user_shuffled, parts)\n",
    "    \n",
    "    train_sets = []\n",
    "    validation_sets = []\n",
    "\n",
    "    for fold_users in user_folds:\n",
    "        # Train/Validation-Split\n",
    "        train_mask = ~dataset['userId'].isin(fold_users)\n",
    "        train_set = dataset[train_mask].copy()  # Vermeide SettingWithCopyWarning\n",
    "        \n",
    "        validation_set = dataset[~train_mask].copy()\n",
    "        \n",
    "        # All-But-N-Masking mit groupby + sample\n",
    "        validation_masked = (\n",
    "            validation_set\n",
    "            .groupby('userId', group_keys=False)\n",
    "            .apply(lambda x: x.sample(n=min(n_keep, len(x)), random_state=random_state))\n",
    "            .reset_index(drop=True)\n",
    "        )\n",
    "        \n",
    "        # Entferne Validierungs-Items aus dem Trainingsset für die gleichen User\n",
    "        movies_to_remove = validation_set['movieId'].unique()\n",
    "        train_set_cleaned = train_set[\n",
    "            ~((train_set['userId'].isin(fold_users)) & \n",
    "            ~(train_set['movieId'].isin(movies_to_remove)))\n",
    "        ].copy()\n",
    "        \n",
    "        train_sets.append(train_set_cleaned)\n",
    "        validation_sets.append(validation_masked)\n",
    "\n",
    "    return train_sets, validation_sets"
   ],
   "outputs": [],
   "execution_count": 17
  },
  {
   "metadata": {
    "ExecuteTime": {
     "end_time": "2025-04-24T07:14:29.631690Z",
     "start_time": "2025-04-24T07:14:28.102349Z"
    }
   },
   "cell_type": "code",
   "source": [
    "df_train, df_validate = cross_validation(training, parts=5, n_keep=10)\n",
    "\n",
    "\n",
    "output_dir = Path(\"Data/Train_Test_Validate\")\n",
    "output_dir.mkdir(parents=True, exist_ok=True)\n",
    "\n",
    "for idx in range(5):\n",
    "    df_train[idx].to_csv(output_dir / f\"train_set_{idx+1}.csv\", index=False)\n",
    "    df_validate[idx].to_csv(output_dir / f\"validate_masked_{idx+1}.csv\", index=False)"
   ],
   "outputs": [
    {
     "name": "stderr",
     "output_type": "stream",
     "text": [
      "C:\\Users\\silas\\AppData\\Local\\Temp\\ipykernel_10176\\3202524930.py:23: DeprecationWarning: DataFrameGroupBy.apply operated on the grouping columns. This behavior is deprecated, and in a future version of pandas the grouping columns will be excluded from the operation. Either pass `include_groups=False` to exclude the groupings or explicitly select the grouping columns after groupby to silence this warning.\n",
      "  .apply(lambda x: x.sample(n=min(n_keep, len(x)), random_state=random_state))\n",
      "C:\\Users\\silas\\AppData\\Local\\Temp\\ipykernel_10176\\3202524930.py:23: DeprecationWarning: DataFrameGroupBy.apply operated on the grouping columns. This behavior is deprecated, and in a future version of pandas the grouping columns will be excluded from the operation. Either pass `include_groups=False` to exclude the groupings or explicitly select the grouping columns after groupby to silence this warning.\n",
      "  .apply(lambda x: x.sample(n=min(n_keep, len(x)), random_state=random_state))\n",
      "C:\\Users\\silas\\AppData\\Local\\Temp\\ipykernel_10176\\3202524930.py:23: DeprecationWarning: DataFrameGroupBy.apply operated on the grouping columns. This behavior is deprecated, and in a future version of pandas the grouping columns will be excluded from the operation. Either pass `include_groups=False` to exclude the groupings or explicitly select the grouping columns after groupby to silence this warning.\n",
      "  .apply(lambda x: x.sample(n=min(n_keep, len(x)), random_state=random_state))\n",
      "C:\\Users\\silas\\AppData\\Local\\Temp\\ipykernel_10176\\3202524930.py:23: DeprecationWarning: DataFrameGroupBy.apply operated on the grouping columns. This behavior is deprecated, and in a future version of pandas the grouping columns will be excluded from the operation. Either pass `include_groups=False` to exclude the groupings or explicitly select the grouping columns after groupby to silence this warning.\n",
      "  .apply(lambda x: x.sample(n=min(n_keep, len(x)), random_state=random_state))\n",
      "C:\\Users\\silas\\AppData\\Local\\Temp\\ipykernel_10176\\3202524930.py:23: DeprecationWarning: DataFrameGroupBy.apply operated on the grouping columns. This behavior is deprecated, and in a future version of pandas the grouping columns will be excluded from the operation. Either pass `include_groups=False` to exclude the groupings or explicitly select the grouping columns after groupby to silence this warning.\n",
      "  .apply(lambda x: x.sample(n=min(n_keep, len(x)), random_state=random_state))\n"
     ]
    }
   ],
   "execution_count": 18
  },
  {
   "metadata": {},
   "cell_type": "markdown",
   "source": ""
  },
  {
   "metadata": {},
   "cell_type": "markdown",
   "source": [
    "## MAE\n",
    "MAE gibt an, wie viel im Durchschnitt die Vorhersagen von den tatsächlichen Bewertungen abweichen. Ein kleiner MAE bedeutet, dass das Modell sehr genau ist. Ein hoher MAE zeigt, dass das Modell systematisch ungenaue Vorhersagen liefert. Der Schwellenwert hat in der Berechnung des MAE keinen direkten Einfluss, da MAE auf allen Bewertungen basiert, nicht nur auf den relevanten."
   ]
  },
  {
   "metadata": {
    "ExecuteTime": {
     "end_time": "2025-04-24T07:10:30.984429Z",
     "start_time": "2025-04-24T07:10:30.978959Z"
    }
   },
   "cell_type": "code",
   "source": [
    "# Mean Absolute Error (MAE)\n",
    "def mean_absolute_error(y_true, y_pred):\n",
    "    return np.mean(np.abs(np.array(y_true) - np.array(y_pred)))"
   ],
   "outputs": [],
   "execution_count": 10
  },
  {
   "metadata": {},
   "cell_type": "markdown",
   "source": [
    "## RMSE\n",
    "RMSE ist ähnlich wie MAE, aber anstelle der absoluten Differenz wird das Quadrat der Differenz verwendet. Das Quadrat der Differenzen betont grössere Fehler stärker und macht RMSE empfindlicher gegenüber grossen Ausreissern. Wie bei MAE hat der Relevanz-Schwellenwert keinen direkten Einfluss auf RMSE. RMSE betrachtet alle Bewertungen und misst die durchschnittliche quadratische Abweichung, sodass alle Fehler gleich gewichtet werden."
   ]
  },
  {
   "metadata": {
    "ExecuteTime": {
     "end_time": "2025-04-24T07:10:33.845780Z",
     "start_time": "2025-04-24T07:10:33.839577Z"
    }
   },
   "cell_type": "code",
   "source": [
    "#Alles aus Aufgabe 3\n",
    "# Root Mean Square Error (RMSE)\n",
    "def root_mean_square_error(y_true, y_pred):\n",
    "    return np.sqrt(np.mean((np.array(y_true) - np.array(y_pred))**2))"
   ],
   "outputs": [],
   "execution_count": 11
  },
  {
   "metadata": {},
   "cell_type": "markdown",
   "source": [
    "## Unterschiede und Zusammenspiel\n",
    "\n",
    "Precision und Recall sind zwei Seiten derselben Medaille und stehen oft in einem Trade-off-Verhältnis.\n",
    "\n",
    "**Precision** fokussiert sich darauf, wie genau die Empfehlungen sind, indem sie die Qualität der Top-N Empfehlungen bewertet. Beispielsweise hat man zwei Klassen, die man auf zwei Seiten aufteilen will. Precision betrachtet nur eine Seite und berechnet die Präzision. (Eselsbrücke: Preci**SI**on looks at elements on one **SI**de). Ein Modell mit hoher Precision hat wenige falsche Positive, was bedeutet, dass die meisten empfohlenen Items tatsächlich relevant sind.\n",
    "\n",
    "**Recall** hingegen konzentriert sich darauf, wie vollständig die Empfehlungen sind, indem sie die Fähigkeit des Modells bewertet, alle relevanten Items zu finden. Beispielsweise hat man zwei Klassen, die man auf zwei Seiten aufteilen will. Recall betrachtet alles von einer Klasse und berechnet, wie viel richtig klassifiziert wurde. (Eselsbrücke: Rec**ALL** looks at **ALL** elements). Ein Modell mit hohem Recall hat wenige falsche Negative, was bedeutet, dass die meisten relevanten Items in den Empfehlungen enthalten sind.\n",
    "\n",
    "Ein Modell kann hohe Precision haben, aber niedrigen Recall, wenn es sehr selektiv ist und nur die offensichtlich relevanten Items empfiehlt. Umgekehrt kann ein Modell hohen Recall haben, aber niedrige Precision, wenn es viele Items empfiehlt, von denen einige irrelevant sind.\n",
    "\n",
    "Das Ziel ist oft, ein Gleichgewicht zwischen Precision und Recall zu finden, je nach den spezifischen Anforderungen der Anwendung. In einigen Fällen kann es wichtiger sein, alle relevanten Items zu finden (hoher Recall), während in anderen Fällen die Genauigkeit der Empfehlungen (hohe Precision) wichtiger ist.\n",
    "\n",
    "Erklärung aus: https://www.youtube.com/watch?v=qWfzIYCvBqo"
   ]
  },
  {
   "metadata": {},
   "cell_type": "markdown",
   "source": [
    "## Precision@N\n",
    "Precision@N misst, wie viele der Top-N empfohlenen Items tatsächlich relevant sind. Ein hoher Wert zeigt, dass die empfohlenen Items von guter Qualität sind, da sie tatsächlich den Vorlieben des Nutzers entsprechen. Ein niedriger Wert zeigt, dass die Empfehlungen viele irrelevante Items enthalten.\n",
    "\n",
    "Formel:\n",
    "\n",
    "Precision@N = Anzahl der relevanten Items unter den Top-N Empfehlungen / N\n",
    "\n",
    " Der Relevanz-Schwellenwert beeinflusst die Anzahl der relevanten Items. Ein höherer Schwellenwert bedeutet, dass nur die am besten bewerteten Items als relevant betrachtet werden, was die Precision erhöhen könnte, da nur wenige, aber hoch bewertete Items als relevant gelten. Ein niedrigerer Schwellenwert bedeutet, dass auch schwächer bewertete Items als relevant zählen, was die Precision verringern kann, da mehr irrelevante Items in die Top-N-Empfehlungen aufgenommen werden könnten.\n",
    " \n",
    "Für die Wahl des Schwellenwerts kommt es für mich darauf an, wofür mein Empfehlungssystem (RSY) verwendet werden soll. Beispielsweise würde ich in medizinischen Anwendungen eher einen hohen Schwellenwert wählen, da es dort wichtig ist, so wenige falsche Positive (FP) wie möglich zu haben. Hingegen würde ich bei einem Informationstool einen niedrigen Schwellenwert wählen, da es dort wichtiger sein könnte, dass der Benutzer alle möglichen Ergebnisse finden kann und selbst abwägen kann, was er anschauen möchte.\n"
   ]
  },
  {
   "metadata": {
    "ExecuteTime": {
     "end_time": "2025-04-24T07:10:37.962287Z",
     "start_time": "2025-04-24T07:10:37.947364Z"
    }
   },
   "cell_type": "code",
   "source": [
    "# Precision@N berechnen\n",
    "def precision_at_n(predictions, relevant_items, N=15, threshold=4.0):\n",
    "    # Filtere relevante Items\n",
    "    relevant_items = [item for item in relevant_items if item[1] >= threshold]\n",
    "    \n",
    "    # Berechne die Top-N Empfehlungen\n",
    "    top_n_predictions = sorted(predictions, key=lambda x: x[1], reverse=True)[:N]\n",
    "    \n",
    "    # Berechne Precision\n",
    "    relevant_in_top_n = sum(1 for item in top_n_predictions if item[0] in [x[0] for x in relevant_items])\n",
    "    return relevant_in_top_n / N if N > 0 else 0"
   ],
   "outputs": [],
   "execution_count": 12
  },
  {
   "metadata": {},
   "cell_type": "markdown",
   "source": [
    "## Recall@N\n",
    "Recall@N misst, wie viele der relevanten Items im Testset in den Top-N Empfehlungen enthalten sind.  Ein hoher Wert zeigt, dass das Modell viele der relevanten Items empfiehlt, auch wenn sie nicht die höchste Punktzahl haben. Ein niedriger Wert deutet darauf hin, dass viele relevante Items übersehen wurden.\n",
    "\n",
    "Fromel:\n",
    "\n",
    "Recall@N = Anzahl der relevanten Items in den Top-N Empfehlungen / Anzahl der relevanten Items im Testset\n",
    "\n",
    "Der Schwellenwert beeinflusst die Anzahl der relevanten Items, die als Ziel für die Empfehlungen gelten. Ein niedrigerer Schwellenwert führt zu mehr relevanten Items und kann den Recall erhöhen, da es einfacher ist, mehr relevante Items in den Top-N-Empfehlungen zu finden. Ein höherer Schwellenwert führt zu weniger relevanten Items und kann den Recall verringern, da weniger Items als relevant betrachtet werden.\n",
    "\n",
    "Für die Wahl des Schwellenwerts kommt es darauf an, wofür mein Empfehlungssystem (RSY) verwendet werden soll. Ein niedriger Schwellenwert ist sinnvoll, wenn es besonders wichtig ist, möglichst alle relevanten Items zu identifizieren, auch wenn dies bedeutet, dass einige irrelevante Items ebenfalls erfasst werden. Dies ist beispielsweise in der medizinischen Diagnostik entscheidend, um sicherzustellen, dass keine relevanten Krankheitsfälle übersehen werden. Ebenso ist ein hoher Recall bei Such- und Rettungsaktionen wichtig, um alle möglichen Hinweise zu berücksichtigen. In der Betrugserkennung und bei Spam-Filtern hilft ein hoher Recall, alle potenziell betrügerischen Transaktionen bzw. Spam-Nachrichten zu identifizieren. Insgesamt sollte der Schwellenwert so gewählt werden, dass er die spezifischen Anforderungen und Ziele der Anwendung optimal unterstützt."
   ]
  },
  {
   "metadata": {
    "ExecuteTime": {
     "end_time": "2025-04-24T07:10:41.092817Z",
     "start_time": "2025-04-24T07:10:41.080326Z"
    }
   },
   "cell_type": "code",
   "source": [
    "# Recall@N berechnen\n",
    "def recall_at_n(predictions, relevant_items, N=15, threshold=4.0):\n",
    "    # Filtere relevante Items\n",
    "    relevant_items = [item for item in relevant_items if item[1] >= threshold]\n",
    "    \n",
    "    # Berechne die Top-N Empfehlungen\n",
    "    top_n_predictions = sorted(predictions, key=lambda x: x[1], reverse=True)[:N]\n",
    "    \n",
    "    # Berechne Recall\n",
    "    relevant_in_top_n = sum(1 for item in top_n_predictions if item[0] in [x[0] for x in relevant_items])\n",
    "    return relevant_in_top_n / len(relevant_items) if len(relevant_items) > 0 else 0"
   ],
   "outputs": [],
   "execution_count": 13
  },
  {
   "metadata": {},
   "cell_type": "markdown",
   "source": "## Train_Validate Daten Einlesen"
  },
  {
   "metadata": {
    "ExecuteTime": {
     "end_time": "2025-04-24T07:14:33.878455Z",
     "start_time": "2025-04-24T07:14:33.663087Z"
    }
   },
   "cell_type": "code",
   "source": [
    "output_dir = Path(\"Data/Train_Test_validate\")\n",
    "csv_path_train_set_1 = output_dir / \"train_set_1.csv\"\n",
    "csv_path_train_set_2 = output_dir / \"train_set_2.csv\"\n",
    "csv_path_train_set_3 = output_dir / \"train_set_3.csv\"\n",
    "csv_path_train_set_4 = output_dir / \"train_set_4.csv\"\n",
    "csv_path_train_set_5 = output_dir / \"train_set_5.csv\"\n",
    "csv_path_validate_masked_1 = output_dir / \"validate_masked_1.csv\"\n",
    "csv_path_validate_masked_2 = output_dir / \"validate_masked_2.csv\"\n",
    "csv_path_validate_masked_3 = output_dir / \"validate_masked_3.csv\"\n",
    "csv_path_validate_masked_4 = output_dir / \"validate_masked_4.csv\"\n",
    "csv_path_validate_masked_5 = output_dir / \"validate_masked_5.csv\"\n",
    "train_set_1 = pd.read_csv(csv_path_train_set_1)\n",
    "train_set_2 = pd.read_csv(csv_path_train_set_2)\n",
    "train_set_3 = pd.read_csv(csv_path_train_set_3)\n",
    "train_set_4 = pd.read_csv(csv_path_train_set_4)\n",
    "train_set_5 = pd.read_csv(csv_path_train_set_5)\n",
    "validate_masked_1 = pd.read_csv(csv_path_validate_masked_1)\n",
    "validate_masked_2 = pd.read_csv(csv_path_validate_masked_2)\n",
    "validate_masked_3 = pd.read_csv(csv_path_validate_masked_3)\n",
    "validate_masked_4 = pd.read_csv(csv_path_validate_masked_4)\n",
    "validate_masked_5 = pd.read_csv(csv_path_validate_masked_5)"
   ],
   "outputs": [],
   "execution_count": 19
  },
  {
   "cell_type": "markdown",
   "metadata": {},
   "source": [
    "### Exercise 4 - Optimize hyperparameters of baseline RS (6 points)\n",
    "Optimize the hyperparameters $\\beta_u$ and $\\beta_i$ for the baseline RS from exercise 2 based on the RMSE metric. To save computation time find a reasonable maximum value for the betas. Explain your approach and your solution.\n",
    "Plot the MAE, RMSE, Precision@N, Recall@N as functions of the betas.\n",
    "\n",
    "Which metric would you use for hyperparameter tuning? Explain your decision."
   ]
  },
  {
   "cell_type": "markdown",
   "metadata": {},
   "source": [
    "# Nochmal durch gehen kleinere Werte precission und recal nicht immer gleiche Werte\n",
    "## Mein Ansatz\n",
    "Ich gehe hier wiefolgt vor:\n",
    "\n",
    "Ich nehme eine Liste von Werte für meine Hyperparameter Betas. Anschliessend iteriere ich über jeden einzelnen Wert und berechne aus dem Bias den MAE, RMSE, Prcision@N und Recall@N. Dabei fand ich den besten Wert, wenn man nur den RMSE Wert anschaut, bei $b_u$ = 1 und $b_i$ = 5 mit einem RMSE Wert von 1.0192.\n",
    "\n",
    "## Was würde ich nehmen um den Hyperparameter zu tunen?\n",
    "Ich würde, wie auch in der Aufgabe vorgesehen, RMSE (Root Mean Squared Error) für das Hyperparameter-Tuning verwenden, jedoch würde ich zusätzlich noch die Werte Precision@N und Recall@N verwenden. Diese beiden Metriken bieten wertvolle Informationen zur Performance des Empfehlungssystems, da sie die Qualität der Empfehlungen im Hinblick auf die tatsächlich relevanten Items für die Nutzer widerspiegeln.\n",
    "\n",
    "Durch die Kombination von RMSE, Precision@N und Recall@N könnte man ein ausgewogenes Tuning durchführen, das sowohl die Vorhersagegenauigkeit als auch die Relevanz der Empfehlungen optimiert. Das könnte auch dazu führen, dass ein Modell gefunden werden kann, das in der Praxis eine bessere Nutzererfahrung bietet, da es nicht nur die Bewertungshäufigkeit berücksichtigt, sondern auch die tatsächliche Relevanz der Vorschläge für den jeweiligen Nutzer.\n",
    "\n",
    "Würde ich also diese Metriken Benutzen, wäre der beste Wert für $b_u$ = 0.1 und $b_i$ = 10 mit den Werten:\n",
    "- RMSE=1.023\n",
    "- Precision@N=1.0\n",
    "- Recall@N=0.0270"
   ]
  },
  {
   "metadata": {
    "ExecuteTime": {
     "end_time": "2025-04-22T15:54:39.827069Z",
     "start_time": "2025-04-22T15:54:39.813733Z"
    }
   },
   "cell_type": "code",
   "source": [
    "#Anpassung, da ich true und prediction am besten direkt hier berechne deshalb compute_rmse\n",
    "from sklearn.metrics import mean_squared_error\n",
    "def compute_rmse(mu, b_u, b_i, test_df):\n",
    "    preds = []   # Liste zur Speicherung der vorhergesagten Bewertungen\n",
    "    actuals = [] # Liste zur Speicherung der tatsächlichen Bewertungen\n",
    "    \n",
    "    # Iteration über alle Zeilen des Test-Datensatzes\n",
    "    for _, row in test_df.iterrows():\n",
    "        # Extrahiere Nutzer-ID, Film-ID und tatsächliche Bewertung aus der aktuellen Zeile\n",
    "        u, i, true_rating = row[\"userId\"], row[\"movieId\"], row[\"rating\"]\n",
    "        \n",
    "        # Berechne die vorhergesagte Bewertung:\n",
    "        # globale Durchschnittsbewertung + Nutzer-Bias + Item-Bias\n",
    "        # Falls kein Bias vorhanden ist, verwende 0 als Standardwert\n",
    "        pred_rating = mu + b_u.get(u, 0) + b_i.get(i, 0)\n",
    "        \n",
    "        # Speichere die Vorhersage und die tatsächliche Bewertung\n",
    "        preds.append(pred_rating)\n",
    "        actuals.append(true_rating)\n",
    "    \n",
    "    # Berechne und gib die RMSE zwischen den tatsächlichen und vorhergesagten Bewertungen zurück\n",
    "    return np.sqrt(mean_squared_error(actuals, preds))"
   ],
   "outputs": [],
   "execution_count": 149
  },
  {
   "metadata": {
    "ExecuteTime": {
     "end_time": "2025-04-22T14:36:11.461777Z",
     "start_time": "2025-04-22T14:22:32.145181Z"
    }
   },
   "cell_type": "code",
   "source": [
    "import time\n",
    "#Grob testen der Betas\n",
    "beta_values = [0.1, 1, 5, 10, 20]\n",
    "rmse_list = []\n",
    "mae_values = []\n",
    "precision_values = []\n",
    "recall_values = []\n",
    "\n",
    "for beta_u in beta_values:\n",
    "    for beta_i in beta_values:\n",
    "        start_time = time.time()\n",
    "\n",
    "        # Iteration auf 5 gesetzt, um einen Trend zu sehen\n",
    "        mu, b_u, b_i = calculate_biases(train_set_1, beta_u=beta_u, beta_i=beta_i, iteration=3)\n",
    "\n",
    "        end_time = time.time()\n",
    "\n",
    "        # RMSE berechnen\n",
    "        rmse = compute_rmse(mu, b_u, b_i, validate_masked_1)\n",
    "\n",
    "        # MAE berechnen\n",
    "        predictions = [mu + b_u.get(u, 0) + b_i.get(i, 0) for u, i in zip(validate_masked_1[\"userId\"], validate_masked_1[\"movieId\"])]\n",
    "        true_ratings = validate_masked_1[\"rating\"].values\n",
    "        mae = mean_absolute_error(true_ratings, predictions)\n",
    "\n",
    "        # Precision@N und Recall@N berechnen (falls relevant_items definiert ist)\n",
    "        precision = precision_at_n(list(zip(validate_masked_1[\"movieId\"], predictions)), relevant_items=validate_masked_1[[\"movieId\", \"rating\"]].values)\n",
    "        recall = recall_at_n(list(zip(validate_masked_1[\"movieId\"], predictions)), relevant_items=validate_masked_1[[\"movieId\", \"rating\"]].values)\n",
    "\n",
    "        # Speichern der Ergebnisse\n",
    "        rmse_list.append((beta_u, beta_i, rmse))\n",
    "        mae_values.append((beta_u, beta_i, mae))\n",
    "        precision_values.append((beta_u, beta_i, precision))\n",
    "        recall_values.append((beta_u, beta_i, recall))\n",
    "\n",
    "        print(f\"β_u: {beta_u}, β_i: {beta_i}, RMSE: {rmse:.4f}, MAE: {mae:.4f}, Precision@N: {precision:.4f}, Recall@N: {recall:.4f}, Dauer: {end_time - start_time:.1f} Sekunden\")\n",
    "\n",
    "# Ergebnisse in DataFrame umwandeln\n",
    "df_results = pd.DataFrame(rmse_list, columns=[\"beta_u\", \"beta_i\", \"rmse\"])\n",
    "df_mae = pd.DataFrame(mae_values, columns=[\"beta_u\", \"beta_i\", \"mae\"])\n",
    "df_precision = pd.DataFrame(precision_values, columns=[\"beta_u\", \"beta_i\", \"precision\"])\n",
    "df_recall = pd.DataFrame(recall_values, columns=[\"beta_u\", \"beta_i\", \"recall\"])\n",
    "\n",
    "# RMSE Heatmap\n",
    "pivot_rmse = df_results.pivot(index=\"beta_u\", columns=\"beta_i\", values=\"rmse\")\n",
    "plt.figure(figsize=(10, 8))\n",
    "sns.heatmap(pivot_rmse, annot=True, fmt=\".3f\", cmap=\"viridis\")\n",
    "plt.title(\"RMSE Heatmap für verschiedene β-Werte\")\n",
    "plt.xlabel(\"β_i\")\n",
    "plt.ylabel(\"β_u\")\n",
    "plt.show()\n",
    "\n",
    "# MAE Heatmap\n",
    "pivot_mae = df_mae.pivot(index=\"beta_u\", columns=\"beta_i\", values=\"mae\")\n",
    "plt.figure(figsize=(10, 8))\n",
    "sns.heatmap(pivot_mae, annot=True, fmt=\".3f\", cmap=\"viridis\")\n",
    "plt.title(\"MAE Heatmap für verschiedene β-Werte\")\n",
    "plt.xlabel(\"β_i\")\n",
    "plt.ylabel(\"β_u\")\n",
    "plt.show()\n",
    "\n",
    "# Precision@N Heatmap\n",
    "pivot_precision = df_precision.pivot(index=\"beta_u\", columns=\"beta_i\", values=\"precision\")\n",
    "plt.figure(figsize=(10, 8))\n",
    "sns.heatmap(pivot_precision, annot=True, fmt=\".3f\", cmap=\"viridis\")\n",
    "plt.title(\"Precision@N Heatmap für verschiedene β-Werte\")\n",
    "plt.xlabel(\"β_i\")\n",
    "plt.ylabel(\"β_u\")\n",
    "plt.show()\n",
    "\n",
    "# Recall@N Heatmap\n",
    "pivot_recall = df_recall.pivot(index=\"beta_u\", columns=\"beta_i\", values=\"recall\")\n",
    "plt.figure(figsize=(10, 8))\n",
    "sns.heatmap(pivot_recall, annot=True, fmt=\".3f\", cmap=\"viridis\")\n",
    "plt.title(\"Recall@N Heatmap für verschiedene β-Werte\")\n",
    "plt.xlabel(\"β_i\")\n",
    "plt.ylabel(\"β_u\")\n",
    "plt.show()"
   ],
   "outputs": [
    {
     "name": "stdout",
     "output_type": "stream",
     "text": [
      "β_u: 0.1, β_i: 0.1, RMSE: 1.0372, MAE: 0.8038, Precision@N: 0.9333, Recall@N: 0.0252, Dauer: 36.1 Sekunden\n",
      "β_u: 0.1, β_i: 1, RMSE: 1.0237, MAE: 0.7910, Precision@N: 0.8667, Recall@N: 0.0234, Dauer: 35.6 Sekunden\n",
      "β_u: 0.1, β_i: 5, RMSE: 1.0193, MAE: 0.7866, Precision@N: 0.9333, Recall@N: 0.0252, Dauer: 31.4 Sekunden\n",
      "β_u: 0.1, β_i: 10, RMSE: 1.0231, MAE: 0.7931, Precision@N: 1.0000, Recall@N: 0.0270, Dauer: 31.0 Sekunden\n",
      "β_u: 0.1, β_i: 20, RMSE: 1.0308, MAE: 0.8063, Precision@N: 1.0000, Recall@N: 0.0270, Dauer: 31.2 Sekunden\n",
      "β_u: 1, β_i: 0.1, RMSE: 1.0369, MAE: 0.8034, Precision@N: 0.9333, Recall@N: 0.0252, Dauer: 32.2 Sekunden\n",
      "β_u: 1, β_i: 1, RMSE: 1.0236, MAE: 0.7906, Precision@N: 0.8667, Recall@N: 0.0234, Dauer: 31.1 Sekunden\n",
      "β_u: 1, β_i: 5, RMSE: 1.0192, MAE: 0.7864, Precision@N: 0.9333, Recall@N: 0.0252, Dauer: 39.1 Sekunden\n",
      "β_u: 1, β_i: 10, RMSE: 1.0230, MAE: 0.7929, Precision@N: 1.0000, Recall@N: 0.0270, Dauer: 34.1 Sekunden\n",
      "β_u: 1, β_i: 20, RMSE: 1.0307, MAE: 0.8061, Precision@N: 1.0000, Recall@N: 0.0270, Dauer: 31.8 Sekunden\n",
      "β_u: 5, β_i: 0.1, RMSE: 1.0360, MAE: 0.8017, Precision@N: 0.9333, Recall@N: 0.0252, Dauer: 32.1 Sekunden\n",
      "β_u: 5, β_i: 1, RMSE: 1.0230, MAE: 0.7893, Precision@N: 0.8667, Recall@N: 0.0234, Dauer: 31.3 Sekunden\n",
      "β_u: 5, β_i: 5, RMSE: 1.0188, MAE: 0.7856, Precision@N: 0.9333, Recall@N: 0.0252, Dauer: 35.6 Sekunden\n",
      "β_u: 5, β_i: 10, RMSE: 1.0227, MAE: 0.7921, Precision@N: 1.0000, Recall@N: 0.0270, Dauer: 31.6 Sekunden\n",
      "β_u: 5, β_i: 20, RMSE: 1.0303, MAE: 0.8054, Precision@N: 1.0000, Recall@N: 0.0270, Dauer: 31.6 Sekunden\n",
      "β_u: 10, β_i: 0.1, RMSE: 1.0353, MAE: 0.8003, Precision@N: 0.9333, Recall@N: 0.0252, Dauer: 31.5 Sekunden\n",
      "β_u: 10, β_i: 1, RMSE: 1.0225, MAE: 0.7882, Precision@N: 0.9333, Recall@N: 0.0252, Dauer: 31.5 Sekunden\n",
      "β_u: 10, β_i: 5, RMSE: 1.0185, MAE: 0.7848, Precision@N: 0.9333, Recall@N: 0.0252, Dauer: 31.4 Sekunden\n",
      "β_u: 10, β_i: 10, RMSE: 1.0224, MAE: 0.7914, Precision@N: 1.0000, Recall@N: 0.0270, Dauer: 35.7 Sekunden\n",
      "β_u: 10, β_i: 20, RMSE: 1.0299, MAE: 0.8048, Precision@N: 1.0000, Recall@N: 0.0270, Dauer: 31.2 Sekunden\n",
      "β_u: 20, β_i: 0.1, RMSE: 1.0344, MAE: 0.7984, Precision@N: 0.9333, Recall@N: 0.0252, Dauer: 31.2 Sekunden\n",
      "β_u: 20, β_i: 1, RMSE: 1.0219, MAE: 0.7867, Precision@N: 0.9333, Recall@N: 0.0252, Dauer: 31.2 Sekunden\n",
      "β_u: 20, β_i: 5, RMSE: 1.0182, MAE: 0.7838, Precision@N: 0.9333, Recall@N: 0.0252, Dauer: 31.1 Sekunden\n",
      "β_u: 20, β_i: 10, RMSE: 1.0220, MAE: 0.7905, Precision@N: 1.0000, Recall@N: 0.0270, Dauer: 35.4 Sekunden\n",
      "β_u: 20, β_i: 20, RMSE: 1.0294, MAE: 0.8038, Precision@N: 1.0000, Recall@N: 0.0270, Dauer: 31.2 Sekunden\n"
     ]
    },
    {
     "data": {
      "text/plain": [
       "<Figure size 1000x800 with 2 Axes>"
      ],
      "image/png": "[encoded data removed]"
     },
     "metadata": {},
     "output_type": "display_data"
    },
    {
     "data": {
      "text/plain": [
       "<Figure size 1000x800 with 2 Axes>"
      ],
      "image/png": "[encoded data removed]"
     },
     "metadata": {},
     "output_type": "display_data"
    },
    {
     "data": {
      "text/plain": [
       "<Figure size 1000x800 with 2 Axes>"
      ],
      "image/png": "[encoded data removed]"
     },
     "metadata": {},
     "output_type": "display_data"
    },
    {
     "data": {
      "text/plain": [
       "<Figure size 1000x800 with 2 Axes>"
      ],
      "image/png": "[encoded data removed]"
     },
     "metadata": {},
     "output_type": "display_data"
    }
   ],
   "execution_count": 124
  },
  {
   "cell_type": "markdown",
   "metadata": {},
   "source": [
    "### Exercise 5 - Collaborative filtering; item-based and user-based (12 points)\n",
    "In this exersise we will build several different collaborative-filtering RS based on nearest neighbour technique, both in terms of item and user. \n",
    "\n",
    "Implement:\n",
    "1. a RS based on the $K$ most similar items (K nearest neighbours). Similarity shall be calculated based on *cosine similarity*. \n",
    "2. a RS based on the $K$ most similar items (K nearest neighbours). Similarity shall be calculated based on *Pearson Correlation Coefficienct*. \n",
    "3. a RS based on the $K$ most similar users (K nearest neighbours). Similarity shall be calculated based on *cosine similarity*. \n",
    "4. a RS based on the $K$ most similar users (K nearest neighbours). Similarity shall be calculated based on *Pearson Correlation Coefficienct*. \n",
    "\n",
    "Each should have a default $K$ of 30.\n",
    "\n",
    "Explain how you handle NaN values in the user rating matrix when computing similarities? What other preparations are useful such as normalization and mean centering?\n",
    "\n",
    "Describe the two similarity metrics.\n",
    "\n",
    "Show the top 20 recommended items for user ids 3, 5 and 7."
   ]
  },
  {
   "metadata": {},
   "cell_type": "markdown",
   "source": [
    "# Umgang mit NaN-Werten\n",
    "\n",
    "Ich ersetze die NaN-Werte in der Cosine Similarity (für sowohl Items als auch Users) mit 0, und zwar erst nachdem ich den Mittelwert pro Item bzw. User abgezogen habe. Dies stellt sicher, dass die Cosine Similarity-Funktion von scikit-learn korrekt berechnet werden kann, da diese Bibliothek keine NaN-Werte unterstützt. Bei der Pearson Similarity ersetze ich die NaN-Werte ebenfalls mit 0, allerdings nachdem ich die URM (User-Rating-Matrix) zentriert habe. Der Ersatz von NaN durch 0 ist eine pragmatische Lösung, da fehlende Bewertungen als „nicht vorhanden“ betrachtet werden, ohne den Berechnungsprozess zu stören.\n",
    "\n",
    "In der Funktion predict_ratings_item_based und predict_ratings_user_based hingegen vermeide ich NaN-Werte direkt, indem ich alle NaN-Werte vorher mit dropna() entferne. Dadurch wird vermieden, dass fehlende Bewertungen den Vorhersageprozess beeinflussen, und es ist keine Notwendigkeit, NaN-Werte nachträglich zu ersetzen."
   ]
  },
  {
   "metadata": {
    "ExecuteTime": {
     "end_time": "2025-04-24T07:36:40.335373Z",
     "start_time": "2025-04-24T07:36:40.319885Z"
    }
   },
   "cell_type": "code",
   "source": [
    "def create_urm(data, index, colums, values):\n",
    "    return data.pivot(index=index, columns=colums, values=values)\n",
    "\n",
    "urm = create_urm(test_masked, \"userId\", \"movieId\", \"rating\")"
   ],
   "outputs": [],
   "execution_count": 31
  },
  {
   "metadata": {},
   "cell_type": "markdown",
   "source": [
    "## Cosine Similarity\n",
    "\n",
    "Die Cosine Similarity misst die Ähnlichkeit zwischen zwei Items, indem sie den Winkel zwischen ihren Bewertungsvektoren betrachtet. Je kleiner der Winkel, desto ähnlicher sind die Items im Bewertungsschema der Nutzer.\n",
    "\n",
    "Um Verzerrungen durch unterschiedliche Bewertungsskalen zu vermeiden – z.B. wenn einige Nutzer generell strenger oder grosszügiger bewerten – wird häufig ein Mean-Centering durchgeführt: Dabei wird von jeder Bewertung der Durchschnittswert des jeweiligen Items (oder Nutzers) abgezogen.\n",
    "\n",
    "Dadurch vergleicht die Cosine Similarity nicht die absoluten Werte, sondern die Abweichungen vom Mittelwert, also das tatsächliche Bewertungsmuster. Das macht die Ähnlichkeitsberechnung robuster und aussagekräftiger.\n",
    "\n"
   ]
  },
  {
   "metadata": {
    "ExecuteTime": {
     "end_time": "2025-04-24T07:53:25.643849Z",
     "start_time": "2025-04-24T07:53:25.631188Z"
    }
   },
   "cell_type": "code",
   "source": [
    "from sklearn.metrics.pairwise import cosine_similarity\n",
    "\n",
    "def cosine_similarity_items(matrix):\n",
    "    # Mean-Centering pro Item\n",
    "    item_means = matrix.mean(axis=0) #axis = 0 bedeutet den Mittelwert pro Spalte zu berechnen\n",
    "    matrix_centered = matrix.sub(item_means, axis=1) # subtrahiert spaltenweise (axis = 1) den jeweiligen Mittelwert des Items ab\n",
    "\n",
    "    return pd.DataFrame(\n",
    "        cosine_similarity(np.nan_to_num(matrix_centered.T)),\n",
    "        index=matrix.columns,\n",
    "        columns=matrix.columns\n",
    "    )\n",
    "\n",
    "def cosine_similarity_users(matrix):\n",
    "    # Mean-Centering pro User\n",
    "    user_means = matrix.mean(axis=1) #axis = 1 bedeutet den Mittelwert pro Zeile zu berechnen\n",
    "    matrix_centered = matrix.sub(user_means, axis=0) # subtrahiert zeilenweise (axis = 0) den jeweiligen Mittelwert des Users ab\n",
    "\n",
    "    return pd.DataFrame(\n",
    "        cosine_similarity(np.nan_to_num(matrix_centered)),\n",
    "        index=matrix.index,\n",
    "        columns=matrix.index\n",
    "    )"
   ],
   "outputs": [],
   "execution_count": 49
  },
  {
   "metadata": {},
   "cell_type": "markdown",
   "source": [
    "## Pearson Similarity\n",
    "Die Pearson Similarity misst die lineare Korrelation zwischen zwei Items oder Nutzern, basierend auf deren gemeinsamen Bewertungen. Sie betrachtet dabei nicht nur die Richtung der Bewertungen, sondern auch, ob hohe Bewertungen bei einem Item (bzw. Nutzer) mit hohen Bewertungen beim anderen einhergehen – unabhängig vom absoluten Bewertungsniveau.\n",
    "\n",
    "Um individuelle Bewertungstendenzen auszugleichen, wird vor der Berechnung der Pearson Similarity ein Mean-Centering durchgeführt: Bei der Item-basierten Variante wird von jeder Bewertung der Mittelwert des jeweiligen Items abgezogen; bei der nutzerbasierten Variante erfolgt die Zentrierung zeilenweise, also pro Nutzer. So werden systematisch grosszügige oder strenge Bewertungsschemata normalisiert.\n",
    "\n",
    "Anschliessend wird die Korrelation zwischen den zentrierten Vektoren berechnet. Da in der Praxis häufig nicht alle Nutzer alle Items bewerten, entstehen Lücken im Rating-Matrix – diese werden durch gezieltes Beibehalten oder Ersetzen von fehlenden Werten (NaN) berücksichtigt: Bei Items ignoriert pd.corr() diese NaN-Werte automatisch während der Korrelation; bei Nutzern hingegen werden sie nach dem Zentrieren direkt mit 0 ersetzt. Das sorgt für eine robuste Berechnung, selbst bei spärlich besetzten Daten."
   ]
  },
  {
   "metadata": {
    "ExecuteTime": {
     "end_time": "2025-04-24T07:53:28.427748Z",
     "start_time": "2025-04-24T07:53:28.417496Z"
    }
   },
   "cell_type": "code",
   "source": [
    "def pearson_similarity_items(matrix):\n",
    "    # Mittelwert zentrieren je Item (Spalte)\n",
    "    centered_matrix = matrix.sub(matrix.mean(axis=0), axis=1)  # subtrahiert den Mittelwert pro Spalte (Item)\n",
    "    \n",
    "    # Pearson-Korrelation berechnen (ignoriere NaN-Werte während der Berechnung)\n",
    "    similarity = centered_matrix.T.corr(method='pearson').fillna(0)  # Fülle NaN mit 0, falls keine gemeinsame Bewertung vorhanden\n",
    "    return similarity\n",
    "\n",
    "def pearson_similarity_users(matrix):\n",
    "    # Mittelwert zentrieren je User (Zeile)\n",
    "    centered = matrix.sub(matrix.mean(axis=1), axis=0).fillna(0)# subtrahiert zeilenweise den jeweiligen Mittelwert pro Zeile des Items ab und ersetzt anschliessend alle NA Werte mit 0\n",
    "    # Jetzt Zeilen miteinander korrelieren (User-User-Similarity) und anschliessend die NA-Werte mit 0 ersetzen\n",
    "    similarity = centered.T.corr().fillna(0)\n",
    "    return similarity"
   ],
   "outputs": [],
   "execution_count": 50
  },
  {
   "metadata": {},
   "cell_type": "markdown",
   "source": "## Prediction Item-Based"
  },
  {
   "metadata": {
    "ExecuteTime": {
     "end_time": "2025-04-24T07:53:29.847374Z",
     "start_time": "2025-04-24T07:53:29.831977Z"
    }
   },
   "cell_type": "code",
   "source": [
    "def predict_ratings_item_based(user_id, similarity_matrix, rating_matrix, k=30):\n",
    "    # Überprüfen, ob der User in der Rating-Matrix vorhanden ist\n",
    "    if user_id not in rating_matrix.index:\n",
    "        print(f\"User {user_id} nicht in der Rating-Matrix gefunden.\")\n",
    "        return pd.Series()  # Rückgabe einer leeren Serie, wenn der User nicht existiert\n",
    "    \n",
    "    # Zugreifen auf die korrekten user_ids und NaN entfernen\n",
    "    user_ratings = rating_matrix.loc[user_id].dropna()\n",
    "\n",
    "    scores = {}\n",
    "    for item in rating_matrix.columns:\n",
    "        if pd.notna(rating_matrix.at[user_id, item]):\n",
    "            continue  # überspringe bereits bewertete Items\n",
    "        \n",
    "        # Wenn der Artikel nicht in der Similarity-Matrix existiert, überspringen\n",
    "        if item not in similarity_matrix.columns:\n",
    "            continue\n",
    "        \n",
    "        sims = similarity_matrix[item].drop(item).dropna()  # Entfernen des Vergleichs zum gleichen Item\n",
    "        rated_sims = sims[user_ratings.index.intersection(sims.index)]  # Nur die Items, die der User bewertet hat\n",
    "        top_k = rated_sims.sort_values(ascending=False).head(k)\n",
    "\n",
    "        if top_k.empty:\n",
    "            continue\n",
    "\n",
    "        weighted_sum = np.dot(user_ratings[top_k.index], top_k)\n",
    "        sim_sum = np.sum(np.abs(top_k))\n",
    "\n",
    "        scores[item] = weighted_sum / sim_sum if sim_sum != 0 else np.nan\n",
    "\n",
    "    return pd.Series(scores).dropna().sort_values(ascending=False)"
   ],
   "outputs": [],
   "execution_count": 51
  },
  {
   "metadata": {},
   "cell_type": "markdown",
   "source": "### Top n item similatrity"
  },
  {
   "metadata": {
    "ExecuteTime": {
     "end_time": "2025-04-24T07:53:31.617666Z",
     "start_time": "2025-04-24T07:53:31.603211Z"
    }
   },
   "cell_type": "code",
   "source": [
    "def print_top_n_item_similarity(user_ids: list, urm_, method, movies_df = None,  n=20, k=30):\n",
    "    if method == \"cosine\":\n",
    "        item_sim_matrix = cosine_similarity_items(urm_)\n",
    "    elif method == \"pearson\":\n",
    "        item_sim_matrix = pearson_similarity_items(urm_)\n",
    "    else:\n",
    "        print(f\"Ungültige Methode: {method}. Erlaubt sind nur 'cosine' oder 'pearson'.\")\n",
    "        return\n",
    "\n",
    "    use_titles = movies_df is not None and \"movieId\" in movies_df.columns and \"title\" in movies_df.columns\n",
    "    if use_titles:\n",
    "        movies_itembased = movies_df.set_index(\"movieId\")\n",
    "\n",
    "    for uid in user_ids:\n",
    "        if uid in urm_.index:\n",
    "            recs = predict_ratings_item_based(uid, item_sim_matrix, urm_, k)\n",
    "            top_n = recs.head(n)\n",
    "        else:\n",
    "            global_avg_ratings = urm_.mean(axis=0)\n",
    "            top_n = global_avg_ratings.sort_values(ascending=False).head(n)\n",
    "\n",
    "        top_n.index = top_n.index.astype(int)\n",
    "\n",
    "        if use_titles:\n",
    "            valid_ids = top_n.index.intersection(movies_itembased.index)\n",
    "            movie_titles = movies_itembased.loc[valid_ids, \"title\"]\n",
    "\n",
    "            results = pd.DataFrame({\n",
    "                \"Predicted Rating\": top_n.loc[valid_ids].values,\n",
    "                \"Movie Title\": movie_titles.values\n",
    "            })\n",
    "\n",
    "            print(f\"\\nTop {n} Empfehlungen für User {uid} (Item-Based, {method}):\")\n",
    "            print(results.set_index(\"Movie Title\"))\n",
    "        else:\n",
    "            results = pd.DataFrame({\n",
    "                \"Movie ID\": top_n.index,\n",
    "                \"Predicted Rating\": top_n.values\n",
    "            })\n",
    "\n",
    "            print(f\"\\nTop {n} Empfehlungen für User {uid} (Item-Based, {method}, nur Movie IDs):\")\n",
    "            print(results.set_index(\"Movie ID\"))"
   ],
   "outputs": [],
   "execution_count": 52
  },
  {
   "metadata": {
    "ExecuteTime": {
     "end_time": "2025-04-24T07:54:09.067136Z",
     "start_time": "2025-04-24T07:53:34.466432Z"
    }
   },
   "cell_type": "code",
   "source": "print_top_n_item_similarity(user_ids = [3, 5, 7], urm_ = urm, method = \"cosine\", movies_df = movies)",
   "outputs": [
    {
     "name": "stdout",
     "output_type": "stream",
     "text": [
      "\n",
      "Top 20 Empfehlungen für User 3 (Item-Based, cosine):\n",
      "                                                    Predicted Rating\n",
      "Movie Title                                                         \n",
      "Star Wars: Episode IV - A New Hope (1977)                        4.0\n",
      "Batman (1989)                                                    4.0\n",
      "2001: A Space Odyssey (1968)                                     4.0\n",
      "Harry Potter and the Sorcerer's Stone (a.k.a. H...               4.0\n",
      "Grand Budapest Hotel, The (2014)                                 4.0\n",
      "Starship Troopers (1997)                                         4.0\n",
      "Beauty and the Beast (1991)                                      0.5\n",
      "Silver Linings Playbook (2012)                                   0.5\n",
      "Hotel Rwanda (2004)                                              0.5\n",
      "Spaceballs (1987)                                                0.5\n",
      "Godfather, The (1972)                                            0.5\n",
      "Finding Nemo (2003)                                              0.5\n",
      "Incredibles, The (2004)                                          0.5\n",
      "West Side Story (1961)                                           0.5\n",
      "Usual Suspects, The (1995)                                      -0.5\n",
      "Austin Powers in Goldmember (2002)                              -0.5\n",
      "Wedding Singer, The (1998)                                      -0.5\n",
      "Back to the Future (1985)                                       -0.5\n",
      "Bio-Dome (1996)                                                 -4.0\n",
      "Ghost (1990)                                                    -4.0\n",
      "\n",
      "Top 20 Empfehlungen für User 5 (Item-Based, cosine):\n",
      "                                                    Predicted Rating\n",
      "Movie Title                                                         \n",
      "Midnight Cowboy (1969)                                      5.000000\n",
      "Madonna: Truth or Dare (1991)                               5.000000\n",
      "My Fair Lady (1964)                                         5.000000\n",
      "Aliens (1986)                                               5.000000\n",
      "Apocalypse Now (1979)                                       5.000000\n",
      "When a Man Loves a Woman (1994)                             5.000000\n",
      "Six Degrees of Separation (1993)                            5.000000\n",
      "West Side Story (1961)                                      5.000000\n",
      "Incredibles, The (2004)                                     5.000000\n",
      "Little Mermaid, The (1989)                                  5.000000\n",
      "Finding Nemo (2003)                                         5.000000\n",
      "Lord of the Rings: The Return of the King, The ...          5.000000\n",
      "Maverick (1994)                                             4.950963\n",
      "WALL·E (2008)                                               4.870157\n",
      "Godfather, The (1972)                                       4.469568\n",
      "Die Hard 2 (1990)                                           4.451620\n",
      "Bourne Identity, The (2002)                                 4.332037\n",
      "Hot Shots! Part Deux (1993)                                 4.185318\n",
      "Mystery Science Theater 3000: The Movie (1996)              4.130071\n",
      "American Beauty (1999)                                      4.114679\n",
      "\n",
      "Top 20 Empfehlungen für User 7 (Item-Based, cosine):\n",
      "                                                    Predicted Rating\n",
      "Movie Title                                                         \n",
      "Iron Giant, The (1999)                                      5.000000\n",
      "Lord of the Rings: The Two Towers, The (2002)               5.000000\n",
      "Who Framed Roger Rabbit? (1988)                             5.000000\n",
      "Wallace & Gromit: The Wrong Trousers (1993)                 5.000000\n",
      "Godfather, The (1972)                                       5.000000\n",
      "Evil Dead II (Dead by Dawn) (1987)                          5.000000\n",
      "Memento (2000)                                              5.000000\n",
      "Shrek (2001)                                                4.500000\n",
      "Amelie (Fabuleux destin d'Amélie Poulain, Le) (...          4.500000\n",
      "High Fidelity (2000)                                        4.500000\n",
      "Eraser (1996)                                               4.500000\n",
      "Dracula: Dead and Loving It (1995)                          4.500000\n",
      "Untouchables, The (1987)                                    4.500000\n",
      "Pocahontas (1995)                                           4.500000\n",
      "Truman Show, The (1998)                                     4.500000\n",
      "Casper (1995)                                               4.500000\n",
      "Young Frankenstein (1974)                                   4.500000\n",
      "Fahrenheit 9/11 (2004)                                      4.500000\n",
      "Finding Nemo (2003)                                         4.342708\n",
      "Jurassic Park (1993)                                        4.341874\n"
     ]
    }
   ],
   "execution_count": 53
  },
  {
   "metadata": {},
   "cell_type": "markdown",
   "source": ""
  },
  {
   "metadata": {
    "ExecuteTime": {
     "end_time": "2025-04-24T07:55:17.468550Z",
     "start_time": "2025-04-24T07:55:16.308780Z"
    }
   },
   "cell_type": "code",
   "source": "print_top_n_item_similarity(user_ids = [3, 5, 7], urm_ = urm, method = \"pearson\", movies_df = movies)",
   "outputs": [
    {
     "name": "stdout",
     "output_type": "stream",
     "text": [
      "\n",
      "Top 20 Empfehlungen für User 3 (Item-Based, pearson):\n",
      "Empty DataFrame\n",
      "Columns: [Predicted Rating]\n",
      "Index: []\n",
      "\n",
      "Top 20 Empfehlungen für User 5 (Item-Based, pearson):\n",
      "                              Predicted Rating\n",
      "Movie Title                                   \n",
      "Beautiful Girls (1996)                     5.0\n",
      "Anne Frank Remembered (1995)               5.0\n",
      "Nixon (1995)                               0.5\n",
      "Othello (1995)                            -5.0\n",
      "Mr. Wrong (1996)                          -5.0\n",
      "\n",
      "Top 20 Empfehlungen für User 7 (Item-Based, pearson):\n",
      "Empty DataFrame\n",
      "Columns: [Predicted Rating]\n",
      "Index: []\n"
     ]
    }
   ],
   "execution_count": 58
  },
  {
   "metadata": {},
   "cell_type": "markdown",
   "source": "## Prediction user-based"
  },
  {
   "metadata": {
    "ExecuteTime": {
     "end_time": "2025-04-24T07:54:09.076865Z",
     "start_time": "2025-04-24T07:54:09.067136Z"
    }
   },
   "cell_type": "code",
   "source": [
    "def predict_ratings_user_based_(user_id, similarity_matrix, rating_matrix, k=30):\n",
    "    #User selbst wurd entfertn da er nicht mit dsich verglichen werden soll\n",
    "    sim_users = similarity_matrix[user_id].drop(user_id).dropna()\n",
    "    #Welche top-k User sind mit Ursprung user Ähnlich\n",
    "    top_k_users = sim_users.sort_values(ascending=False).head(k)\n",
    "    \n",
    "    # Mittels gewichtung wird der Ähnlcihste user gesucht\n",
    "    weighted_sum = (rating_matrix.loc[top_k_users.index].T * top_k_users).T.sum()\n",
    "    sim_sum = top_k_users.abs().sum()\n",
    "    \n",
    "    user_mean = rating_matrix.loc[user_id].mean()\n",
    "    predicted_ratings = user_mean + (weighted_sum / sim_sum) #Addiert den in der Similarity abgezogenen Mittelwert wieder drauf\n",
    "\n",
    "    return predicted_ratings"
   ],
   "outputs": [],
   "execution_count": 54
  },
  {
   "metadata": {
    "ExecuteTime": {
     "end_time": "2025-04-24T07:54:42.265247Z",
     "start_time": "2025-04-24T07:54:42.248712Z"
    }
   },
   "cell_type": "code",
   "source": [
    "def print_top_n_user_similarity(user_ids: list, urm_,method, movies_df = None, n=20, k=30):\n",
    "    if method == \"cosine\":\n",
    "        user_sim_matrix = cosine_similarity_users(urm_)\n",
    "    elif method == \"pearson\":\n",
    "        user_sim_matrix = pearson_similarity_users(urm_)\n",
    "    else:\n",
    "        print(f\"Die Methode ist nicht vorhanden – bitte 'cosine' oder 'pearson' verwenden (nicht '{method}').\")\n",
    "        return\n",
    "\n",
    "    use_titles = movies_df is not None and \"movieId\" in movies_df.columns and \"title\" in movies_df.columns\n",
    "    if use_titles:\n",
    "        movies_user = movies_df.set_index(\"movieId\")\n",
    "\n",
    "    for uid in user_ids:\n",
    "        if uid in urm_.index:\n",
    "            recs = predict_ratings_user_based_(uid, user_sim_matrix, urm_, k)\n",
    "            top_n = recs.sort_values(ascending=False).head(n)\n",
    "        else:\n",
    "            global_avg_ratings = urm_.mean(axis=0)\n",
    "            top_n = global_avg_ratings.sort_values(ascending=False).head(n)\n",
    "\n",
    "        top_n.index = top_n.index.astype(int)\n",
    "\n",
    "        if use_titles:\n",
    "            valid_ids = top_n.index[top_n.index.isin(movies_user.index)]\n",
    "            movie_titles = movies_user.loc[valid_ids, \"title\"]\n",
    "            results = pd.DataFrame({\n",
    "                \"Predicted Rating\": top_n.loc[valid_ids].values,\n",
    "                \"Movie Title\": movie_titles.values\n",
    "            })\n",
    "            print(f\"\\nTop {n} Empfehlungen für User {uid} (User-Based, {method}):\")\n",
    "            print(results.set_index(\"Movie Title\"))\n",
    "        else:\n",
    "            results = pd.DataFrame({\n",
    "                \"Movie ID\": top_n.index,\n",
    "                \"Predicted Rating\": top_n.values\n",
    "            })\n",
    "            print(f\"\\nTop {n} Empfehlungen für User {uid} (User-Based, {method}, nur Movie IDs):\")\n",
    "            print(results.set_index(\"Movie ID\"))"
   ],
   "outputs": [],
   "execution_count": 55
  },
  {
   "metadata": {},
   "cell_type": "markdown",
   "source": "## Cosine"
  },
  {
   "metadata": {
    "ExecuteTime": {
     "end_time": "2025-04-24T07:54:45.933331Z",
     "start_time": "2025-04-24T07:54:45.802414Z"
    }
   },
   "cell_type": "code",
   "source": "print_top_n_user_similarity(user_ids = [3, 5, 7], urm_ = urm, method = \"cosine\", movies_df=movies)",
   "outputs": [
    {
     "name": "stdout",
     "output_type": "stream",
     "text": [
      "\n",
      "Top 20 Empfehlungen für User 3 (User-Based, cosine):\n",
      "                                                    Predicted Rating\n",
      "Movie Title                                                         \n",
      "Manhattan (1979)                                            7.333333\n",
      "Melancholia (2011)                                          7.333333\n",
      "Samsara (2011)                                              7.333333\n",
      "Bicycle Thieves (a.k.a. The Bicycle Thief) (a.k...          6.833333\n",
      "Gentlemen of Fortune (Dzhentlmeny udachi) (1972)            6.833333\n",
      "Unforgiven (1992)                                           6.333333\n",
      "My Fair Lady (1964)                                         6.333333\n",
      "Hotel Rwanda (2004)                                         6.333333\n",
      "The Island (2006)                                           6.333333\n",
      "Silver Linings Playbook (2012)                              6.333333\n",
      "Kingsman: The Secret Service (2015)                         6.333333\n",
      "Harold and Maude (1971)                                     5.833333\n",
      "Tokyo Story (Tôkyô monogatari) (1953)                       5.833333\n",
      "Blood Diamond (2006)                                        5.833333\n",
      "Taken (2008)                                                5.833333\n",
      "Dracula: Dead and Loving It (1995)                          2.333333\n",
      "Balto (1995)                                                2.333333\n",
      "Nixon (1995)                                                2.333333\n",
      "Cutthroat Island (1995)                                     2.333333\n",
      "Casino (1995)                                               2.333333\n",
      "\n",
      "Top 20 Empfehlungen für User 5 (User-Based, cosine):\n",
      "                                        Predicted Rating\n",
      "Movie Title                                             \n",
      "Dances with Wolves (1990)                       5.536607\n",
      "Usual Suspects, The (1995)                      5.345221\n",
      "Get Shorty (1995)                               4.971509\n",
      "Beauty and the Beast (1991)                     4.951395\n",
      "While You Were Sleeping (1995)                  4.824666\n",
      "Clueless (1995)                                 4.720278\n",
      "I.Q. (1994)                                     4.643144\n",
      "Mr. Holland's Opus (1995)                       4.572965\n",
      "Indian in the Cupboard, The (1995)              4.507610\n",
      "Forrest Gump (1994)                             4.387017\n",
      "Schindler's List (1993)                         4.374823\n",
      "Shawshank Redemption, The (1994)                4.362181\n",
      "Dumb & Dumber (Dumb and Dumber) (1994)          4.331774\n",
      "French Kiss (1995)                              4.326088\n",
      "Circle of Friends (1995)                        4.326088\n",
      "American President, The (1995)                  4.326088\n",
      "Fugitive, The (1993)                            4.313668\n",
      "Stargate (1994)                                 4.305319\n",
      "Batman Forever (1995)                           4.210426\n",
      "Saving Private Ryan (1998)                      4.173623\n",
      "\n",
      "Top 20 Empfehlungen für User 7 (User-Based, cosine):\n",
      "                                                    Predicted Rating\n",
      "Movie Title                                                         \n",
      "Psycho (1960)                                               4.579694\n",
      "Little Miss Sunshine (2006)                                 4.579694\n",
      "Toy Story (1995)                                            4.571013\n",
      "Gravity (2013)                                              4.421725\n",
      "Terminator 2: Judgment Day (1991)                           4.317232\n",
      "Beauty and the Beast (1991)                                 4.281450\n",
      "Tucker & Dale vs Evil (2010)                                4.263756\n",
      "National Treasure: Book of Secrets (2007)                   4.263756\n",
      "To Kill a Mockingbird (1962)                                4.263756\n",
      "Evan Almighty (2007)                                        4.263756\n",
      "Memento (2000)                                              4.263756\n",
      "My Big Fat Greek Wedding (2002)                             4.105786\n",
      "Cloudy with a Chance of Meatballs (2009)                    4.105786\n",
      "Sorcerer's Apprentice, The (2010)                           3.947817\n",
      "Star Wars: The Last Jedi (2017)                             3.947817\n",
      "Men in Black (a.k.a. MIB) (1997)                            3.918504\n",
      "Fistful of Dollars, A (Per un pugno di dollari)...          3.874138\n",
      "Blade Runner (1982)                                         3.874138\n",
      "One Flew Over the Cuckoo's Nest (1975)                      3.874138\n",
      "Shawshank Redemption, The (1994)                            3.874138\n"
     ]
    }
   ],
   "execution_count": 56
  },
  {
   "metadata": {},
   "cell_type": "markdown",
   "source": "## Pearson"
  },
  {
   "metadata": {
    "ExecuteTime": {
     "end_time": "2025-04-24T07:54:52.984734Z",
     "start_time": "2025-04-24T07:54:52.727852Z"
    }
   },
   "cell_type": "code",
   "source": "print_top_n_user_similarity(user_ids = [3, 5, 7], urm_ = urm, method = \"pearson\", movies_df = movies)",
   "outputs": [
    {
     "name": "stdout",
     "output_type": "stream",
     "text": [
      "\n",
      "Top 20 Empfehlungen für User 3 (User-Based, pearson):\n",
      "                                                    Predicted Rating\n",
      "Movie Title                                                         \n",
      "Melancholia (2011)                                          7.333333\n",
      "Samsara (2011)                                              7.333333\n",
      "Manhattan (1979)                                            7.333333\n",
      "Gentlemen of Fortune (Dzhentlmeny udachi) (1972)            6.833333\n",
      "Bicycle Thieves (a.k.a. The Bicycle Thief) (a.k...          6.833333\n",
      "The Island (2006)                                           6.333333\n",
      "Silver Linings Playbook (2012)                              6.333333\n",
      "Kingsman: The Secret Service (2015)                         6.333333\n",
      "My Fair Lady (1964)                                         6.333333\n",
      "Unforgiven (1992)                                           6.333333\n",
      "Hotel Rwanda (2004)                                         6.333333\n",
      "Taken (2008)                                                5.833333\n",
      "Blood Diamond (2006)                                        5.833333\n",
      "Tokyo Story (Tôkyô monogatari) (1953)                       5.833333\n",
      "Harold and Maude (1971)                                     5.833333\n",
      "Dark Knight, The (2008)                                     2.333333\n",
      "Kill Bill: Vol. 1 (2003)                                    2.333333\n",
      "Inception (2010)                                            2.333333\n",
      "Star Wars: Episode V - The Empire Strikes Back ...          2.333333\n",
      "Usual Suspects, The (1995)                                  2.333333\n",
      "\n",
      "Top 20 Empfehlungen für User 5 (User-Based, pearson):\n",
      "                                        Predicted Rating\n",
      "Movie Title                                             \n",
      "Dances with Wolves (1990)                       5.536607\n",
      "Usual Suspects, The (1995)                      5.345221\n",
      "Get Shorty (1995)                               4.971509\n",
      "Beauty and the Beast (1991)                     4.951395\n",
      "While You Were Sleeping (1995)                  4.824666\n",
      "Clueless (1995)                                 4.720278\n",
      "I.Q. (1994)                                     4.643144\n",
      "Mr. Holland's Opus (1995)                       4.572965\n",
      "Indian in the Cupboard, The (1995)              4.507610\n",
      "Forrest Gump (1994)                             4.387017\n",
      "Schindler's List (1993)                         4.374823\n",
      "Shawshank Redemption, The (1994)                4.362181\n",
      "Dumb & Dumber (Dumb and Dumber) (1994)          4.331774\n",
      "French Kiss (1995)                              4.326088\n",
      "Circle of Friends (1995)                        4.326088\n",
      "American President, The (1995)                  4.326088\n",
      "Fugitive, The (1993)                            4.313668\n",
      "Stargate (1994)                                 4.305319\n",
      "Batman Forever (1995)                           4.210426\n",
      "Saving Private Ryan (1998)                      4.173623\n",
      "\n",
      "Top 20 Empfehlungen für User 7 (User-Based, pearson):\n",
      "                                                    Predicted Rating\n",
      "Movie Title                                                         \n",
      "Psycho (1960)                                               4.579694\n",
      "Little Miss Sunshine (2006)                                 4.579694\n",
      "Toy Story (1995)                                            4.571013\n",
      "Gravity (2013)                                              4.421725\n",
      "Terminator 2: Judgment Day (1991)                           4.317232\n",
      "Beauty and the Beast (1991)                                 4.281450\n",
      "Tucker & Dale vs Evil (2010)                                4.263756\n",
      "National Treasure: Book of Secrets (2007)                   4.263756\n",
      "To Kill a Mockingbird (1962)                                4.263756\n",
      "Evan Almighty (2007)                                        4.263756\n",
      "Memento (2000)                                              4.263756\n",
      "My Big Fat Greek Wedding (2002)                             4.105786\n",
      "Cloudy with a Chance of Meatballs (2009)                    4.105786\n",
      "Sorcerer's Apprentice, The (2010)                           3.947817\n",
      "Star Wars: The Last Jedi (2017)                             3.947817\n",
      "Men in Black (a.k.a. MIB) (1997)                            3.918504\n",
      "Fistful of Dollars, A (Per un pugno di dollari)...          3.874138\n",
      "Blade Runner (1982)                                         3.874138\n",
      "One Flew Over the Cuckoo's Nest (1975)                      3.874138\n",
      "Shawshank Redemption, The (1994)                            3.874138\n"
     ]
    }
   ],
   "execution_count": 57
  },
  {
   "cell_type": "markdown",
   "metadata": {},
   "source": [
    "# Hier weiter irgendwas stimmt nicht ich erhalte nur Werte für User\n",
    "### Exercise 6 - Optimize hyperparameter $K$ (6 points)\n",
    "Optimize the hyperparameter $K$ for all RS from the prior exercise optimizing for minimal RMSE. \n",
    "For each RS plot RMSE, Precision@N and Recall@N as a function of $K$. \n",
    "\n",
    "Compare the results of these four RS on the 3 example users. Do the results match your expectation? Describe."
   ]
  },
  {
   "metadata": {
    "ExecuteTime": {
     "end_time": "2025-04-23T12:05:25.552301Z",
     "start_time": "2025-04-23T11:57:48.719900Z"
    }
   },
   "cell_type": "code",
   "source": [
    "# Zu testende K-Werte\n",
    "k_values = np.linspace(1, 40, 20, dtype=int)\n",
    "n = 15  # N für Precision@N und Recall@N\n",
    "user_ids = [3, 5, 7]  # Beispielnutzer\n",
    "true_ratings = test  # hiermit vergleichen wir die Vorhersagen\n",
    "\n",
    "# Leere Listen für alle Metriken\n",
    "results = {\n",
    "    'item_cosine': {'rmse': [], 'precision': [], 'recall': []},\n",
    "    'item_pearson': {'rmse': [], 'precision': [], 'recall': []},\n",
    "    'user_cosine': {'rmse': [], 'precision': [], 'recall': []},\n",
    "    'user_pearson': {'rmse': [], 'precision': [], 'recall': []},\n",
    "}\n",
    "\n",
    "# Vorkalkulierte Similarity-Matrizen\n",
    "sim_item_cos = cosine_similarity_items(urm)\n",
    "sim_item_pear = pearson_similarity_items(urm)\n",
    "sim_user_cos = cosine_similarity_users(urm)\n",
    "sim_user_pear = pearson_similarity_users(urm)\n",
    "\n",
    "# Bewertungen für die 3 User optimieren\n",
    "for k in k_values:\n",
    "    for rs_type in results:\n",
    "        rmse_vals, precision_vals, recall_vals = [], [], []\n",
    "\n",
    "        for uid in user_ids:\n",
    "            # Bestimmen der richtigen Similarity-Matrix und der Vorhersagemethode\n",
    "            if 'item' in rs_type:\n",
    "                sim_matrix = sim_item_cos if 'cosine' in rs_type else sim_item_pear\n",
    "                recs = predict_ratings_item_based(uid, sim_matrix, urm, k)\n",
    "            else:\n",
    "                sim_matrix = sim_user_cos if 'cosine' in rs_type else sim_user_pear\n",
    "                recs = predict_ratings_user_based_(uid, sim_matrix, urm, k)\n",
    "\n",
    "            # Testdaten für diesen Nutzer\n",
    "            true_user_ratings = true_ratings.loc[true_ratings['userId'] == uid].set_index('movieId')['rating'].dropna()\n",
    "\n",
    "            # Vorhersagen in ein Series umwandeln\n",
    "            recs_series = pd.Series(recs)\n",
    "\n",
    "            # Übereinstimmende Bewertungen extrahieren\n",
    "            pred_ratings = recs_series[recs_series.index.isin(true_user_ratings.index)].dropna()\n",
    "            true_ratings_matched = true_user_ratings[pred_ratings.index]\n",
    "\n",
    "            # Metriken berechnen (falls beide vorhanden)\n",
    "            if not pred_ratings.empty and not true_ratings_matched.empty:\n",
    "                # RMSE\n",
    "                rmse_vals.append(root_mean_square_error(true_ratings_matched.values, pred_ratings.values))\n",
    "\n",
    "                # Precision und Recall\n",
    "                predictions = list(recs.items())  # Vorhersagen der Top-K Items\n",
    "                relevant_items = list(true_user_ratings.items())  # Relevante Items aus dem Testset\n",
    "                precision_vals.append(precision_at_n(predictions, relevant_items, N=n))\n",
    "                recall_vals.append(recall_at_n(predictions, relevant_items, N=n))\n",
    "\n",
    "        # Ergebnisse speichern, wenn es Bewertungen gibt\n",
    "        if rmse_vals:\n",
    "            results[rs_type]['rmse'].append(np.mean(rmse_vals))\n",
    "        else:\n",
    "            results[rs_type]['rmse'].append(np.nan)  # Falls keine Werte existieren\n",
    "\n",
    "        if precision_vals:\n",
    "            results[rs_type]['precision'].append(np.mean(precision_vals))\n",
    "        else:\n",
    "            results[rs_type]['precision'].append(np.nan)\n",
    "\n",
    "        if recall_vals:\n",
    "            results[rs_type]['recall'].append(np.mean(recall_vals))\n",
    "        else:\n",
    "            results[rs_type]['recall'].append(np.nan)\n",
    "\n",
    "# Plotten der Metriken\n",
    "plt.figure(figsize=(15, 12))\n",
    "\n",
    "# RMSE\n",
    "plt.subplot(3, 1, 1)\n",
    "for rs_type in results:\n",
    "    plt.plot(k_values, results[rs_type]['rmse'], label=rs_type.replace('_', ' ').title())\n",
    "plt.ylabel('RMSE')\n",
    "plt.title('RMSE vs. K')\n",
    "plt.legend()\n",
    "\n",
    "# Precision@N\n",
    "plt.subplot(3, 1, 2)\n",
    "for rs_type in results:\n",
    "    plt.plot(k_values, results[rs_type]['precision'], label=rs_type.replace('_', ' ').title())\n",
    "plt.ylabel('Precision@N')\n",
    "plt.title(f'Precision@{n} vs. K')\n",
    "plt.legend()\n",
    "\n",
    "# Recall@N\n",
    "plt.subplot(3, 1, 3)\n",
    "for rs_type in results:\n",
    "    plt.plot(k_values, results[rs_type]['recall'], label=rs_type.replace('_', ' ').title())\n",
    "plt.xlabel('K')\n",
    "plt.ylabel('Recall@N')\n",
    "plt.title(f'Recall@{n} vs. K')\n",
    "plt.legend()\n",
    "\n",
    "plt.tight_layout()\n",
    "plt.show()"
   ],
   "outputs": [
    {
     "data": {
      "text/plain": [
       "<Figure size 1500x1200 with 3 Axes>"
      ],
      "image/png": "[encoded data removed]"
     },
     "metadata": {},
     "output_type": "display_data"
    }
   ],
   "execution_count": 155
  },
  {
   "metadata": {
    "ExecuteTime": {
     "end_time": "2025-04-23T11:02:08.214631Z",
     "start_time": "2025-04-23T11:00:25.312934Z"
    }
   },
   "cell_type": "code",
   "source": [
    "user_ids = [3, 5, 7]\n",
    "\n",
    "# K-Werte, die getestet werden sollen\n",
    "k_values = list(range(5, 55, 5))\n",
    "\n",
    "# Platzhalter für Ergebnisse\n",
    "results = {\n",
    "    \"user\": [],\n",
    "    \"rs_type\": [],\n",
    "    \"k\": [],\n",
    "    \"rmse\": [],\n",
    "    \"precision\": [],\n",
    "    \"recall\": []\n",
    "}\n",
    "# Umwandlung der test und test_masked in DataFrames\n",
    "test_df = test.copy()\n",
    "test_masked_df = test_masked.copy()\n",
    "\n",
    "# Vorbereitung der Bewertungspaare\n",
    "def get_true_relevant_items(user_id):\n",
    "    return test_df[test_df[\"userId\"] == user_id][[\"movieId\", \"rating\"]].values.tolist()\n",
    "\n",
    "# Iteration über alle Recommender-Systeme und k-Werte\n",
    "for user_id in user_ids:\n",
    "    for k in k_values:\n",
    "        for rs_type, method in [(\"user_cosine\", \"cosine\"), (\"user_pearson\", \"pearson\"),\n",
    "                                (\"item_cosine\", \"cosine\"), (\"item_pearson\", \"pearson\")]:\n",
    "            \n",
    "            # Vorhersagen holen\n",
    "            if \"user\" in rs_type:\n",
    "                sim_matrix = cosine_similarity_users(urm) if method == \"cosine\" else pearson_similarity_users(urm)\n",
    "                pred_ratings = predict_ratings_user_based_(user_id, sim_matrix, urm, k)\n",
    "            else:\n",
    "                sim_matrix = cosine_similarity_items(urm) if method == \"cosine\" else pearson_similarity_items(urm)\n",
    "                pred_ratings = predict_ratings_item_based(user_id, sim_matrix, urm, k)\n",
    "\n",
    "            # Nur für Filme, die im Test-Set sind\n",
    "            true_ratings = test_df[test_df[\"userId\"] == user_id].set_index(\"movieId\")\n",
    "            pred_ratings_filtered = pred_ratings[pred_ratings.index.isin(true_ratings.index)]\n",
    "            common_ids = pred_ratings_filtered.index.intersection(true_ratings.index)\n",
    "            y_pred = pred_ratings_filtered.loc[common_ids]\n",
    "            y_true = true_ratings.loc[common_ids, \"rating\"]\n",
    "\n",
    "            # RMSE berechnen\n",
    "            rmse_val = root_mean_square_error(y_true, y_pred)\n",
    "\n",
    "            # Precision und Recall berechnen\n",
    "            predictions_list = list(pred_ratings.items())\n",
    "            relevant_items_list = get_true_relevant_items(user_id)\n",
    "            precision = precision_at_n(predictions_list, relevant_items_list)\n",
    "            recall = recall_at_n(predictions_list, relevant_items_list)\n",
    "\n",
    "            # Ergebnisse speichern\n",
    "            results[\"user\"].append(user_id)\n",
    "            results[\"rs_type\"].append(rs_type)\n",
    "            results[\"k\"].append(k)\n",
    "            results[\"rmse\"].append(rmse_val)\n",
    "            results[\"precision\"].append(precision)\n",
    "            results[\"recall\"].append(recall)\n",
    "\n",
    "# In DataFrame umwandeln\n",
    "results_df = pd.DataFrame(results)\n",
    "results_df.head()"
   ],
   "outputs": [
    {
     "name": "stderr",
     "output_type": "stream",
     "text": [
      "C:\\Users\\silas\\miniconda3\\envs\\GBSV\\Lib\\site-packages\\numpy\\_core\\fromnumeric.py:3904: RuntimeWarning: Mean of empty slice.\n",
      "  return _methods._mean(a, axis=axis, dtype=dtype,\n",
      "C:\\Users\\silas\\miniconda3\\envs\\GBSV\\Lib\\site-packages\\numpy\\_core\\_methods.py:147: RuntimeWarning: invalid value encountered in scalar divide\n",
      "  ret = ret.dtype.type(ret / rcount)\n",
      "C:\\Users\\silas\\miniconda3\\envs\\GBSV\\Lib\\site-packages\\numpy\\_core\\fromnumeric.py:3904: RuntimeWarning: Mean of empty slice.\n",
      "  return _methods._mean(a, axis=axis, dtype=dtype,\n",
      "C:\\Users\\silas\\miniconda3\\envs\\GBSV\\Lib\\site-packages\\numpy\\_core\\_methods.py:149: RuntimeWarning: invalid value encountered in scalar divide\n",
      "  ret = ret / rcount\n",
      "C:\\Users\\silas\\miniconda3\\envs\\GBSV\\Lib\\site-packages\\numpy\\_core\\fromnumeric.py:3904: RuntimeWarning: Mean of empty slice.\n",
      "  return _methods._mean(a, axis=axis, dtype=dtype,\n",
      "C:\\Users\\silas\\miniconda3\\envs\\GBSV\\Lib\\site-packages\\numpy\\_core\\_methods.py:147: RuntimeWarning: invalid value encountered in scalar divide\n",
      "  ret = ret.dtype.type(ret / rcount)\n",
      "C:\\Users\\silas\\miniconda3\\envs\\GBSV\\Lib\\site-packages\\numpy\\_core\\fromnumeric.py:3904: RuntimeWarning: Mean of empty slice.\n",
      "  return _methods._mean(a, axis=axis, dtype=dtype,\n",
      "C:\\Users\\silas\\miniconda3\\envs\\GBSV\\Lib\\site-packages\\numpy\\_core\\_methods.py:149: RuntimeWarning: invalid value encountered in scalar divide\n",
      "  ret = ret / rcount\n",
      "C:\\Users\\silas\\miniconda3\\envs\\GBSV\\Lib\\site-packages\\numpy\\_core\\fromnumeric.py:3904: RuntimeWarning: Mean of empty slice.\n",
      "  return _methods._mean(a, axis=axis, dtype=dtype,\n",
      "C:\\Users\\silas\\miniconda3\\envs\\GBSV\\Lib\\site-packages\\numpy\\_core\\_methods.py:147: RuntimeWarning: invalid value encountered in scalar divide\n",
      "  ret = ret.dtype.type(ret / rcount)\n",
      "C:\\Users\\silas\\miniconda3\\envs\\GBSV\\Lib\\site-packages\\numpy\\_core\\fromnumeric.py:3904: RuntimeWarning: Mean of empty slice.\n",
      "  return _methods._mean(a, axis=axis, dtype=dtype,\n",
      "C:\\Users\\silas\\miniconda3\\envs\\GBSV\\Lib\\site-packages\\numpy\\_core\\_methods.py:149: RuntimeWarning: invalid value encountered in scalar divide\n",
      "  ret = ret / rcount\n",
      "C:\\Users\\silas\\miniconda3\\envs\\GBSV\\Lib\\site-packages\\numpy\\_core\\fromnumeric.py:3904: RuntimeWarning: Mean of empty slice.\n",
      "  return _methods._mean(a, axis=axis, dtype=dtype,\n",
      "C:\\Users\\silas\\miniconda3\\envs\\GBSV\\Lib\\site-packages\\numpy\\_core\\_methods.py:147: RuntimeWarning: invalid value encountered in scalar divide\n",
      "  ret = ret.dtype.type(ret / rcount)\n",
      "C:\\Users\\silas\\miniconda3\\envs\\GBSV\\Lib\\site-packages\\numpy\\_core\\fromnumeric.py:3904: RuntimeWarning: Mean of empty slice.\n",
      "  return _methods._mean(a, axis=axis, dtype=dtype,\n",
      "C:\\Users\\silas\\miniconda3\\envs\\GBSV\\Lib\\site-packages\\numpy\\_core\\_methods.py:149: RuntimeWarning: invalid value encountered in scalar divide\n",
      "  ret = ret / rcount\n",
      "C:\\Users\\silas\\miniconda3\\envs\\GBSV\\Lib\\site-packages\\numpy\\_core\\fromnumeric.py:3904: RuntimeWarning: Mean of empty slice.\n",
      "  return _methods._mean(a, axis=axis, dtype=dtype,\n",
      "C:\\Users\\silas\\miniconda3\\envs\\GBSV\\Lib\\site-packages\\numpy\\_core\\_methods.py:147: RuntimeWarning: invalid value encountered in scalar divide\n",
      "  ret = ret.dtype.type(ret / rcount)\n",
      "C:\\Users\\silas\\miniconda3\\envs\\GBSV\\Lib\\site-packages\\numpy\\_core\\fromnumeric.py:3904: RuntimeWarning: Mean of empty slice.\n",
      "  return _methods._mean(a, axis=axis, dtype=dtype,\n",
      "C:\\Users\\silas\\miniconda3\\envs\\GBSV\\Lib\\site-packages\\numpy\\_core\\_methods.py:149: RuntimeWarning: invalid value encountered in scalar divide\n",
      "  ret = ret / rcount\n",
      "C:\\Users\\silas\\miniconda3\\envs\\GBSV\\Lib\\site-packages\\numpy\\_core\\fromnumeric.py:3904: RuntimeWarning: Mean of empty slice.\n",
      "  return _methods._mean(a, axis=axis, dtype=dtype,\n",
      "C:\\Users\\silas\\miniconda3\\envs\\GBSV\\Lib\\site-packages\\numpy\\_core\\_methods.py:147: RuntimeWarning: invalid value encountered in scalar divide\n",
      "  ret = ret.dtype.type(ret / rcount)\n",
      "C:\\Users\\silas\\miniconda3\\envs\\GBSV\\Lib\\site-packages\\numpy\\_core\\fromnumeric.py:3904: RuntimeWarning: Mean of empty slice.\n",
      "  return _methods._mean(a, axis=axis, dtype=dtype,\n",
      "C:\\Users\\silas\\miniconda3\\envs\\GBSV\\Lib\\site-packages\\numpy\\_core\\_methods.py:149: RuntimeWarning: invalid value encountered in scalar divide\n",
      "  ret = ret / rcount\n",
      "C:\\Users\\silas\\miniconda3\\envs\\GBSV\\Lib\\site-packages\\numpy\\_core\\fromnumeric.py:3904: RuntimeWarning: Mean of empty slice.\n",
      "  return _methods._mean(a, axis=axis, dtype=dtype,\n",
      "C:\\Users\\silas\\miniconda3\\envs\\GBSV\\Lib\\site-packages\\numpy\\_core\\_methods.py:147: RuntimeWarning: invalid value encountered in scalar divide\n",
      "  ret = ret.dtype.type(ret / rcount)\n",
      "C:\\Users\\silas\\miniconda3\\envs\\GBSV\\Lib\\site-packages\\numpy\\_core\\fromnumeric.py:3904: RuntimeWarning: Mean of empty slice.\n",
      "  return _methods._mean(a, axis=axis, dtype=dtype,\n",
      "C:\\Users\\silas\\miniconda3\\envs\\GBSV\\Lib\\site-packages\\numpy\\_core\\_methods.py:149: RuntimeWarning: invalid value encountered in scalar divide\n",
      "  ret = ret / rcount\n",
      "C:\\Users\\silas\\miniconda3\\envs\\GBSV\\Lib\\site-packages\\numpy\\_core\\fromnumeric.py:3904: RuntimeWarning: Mean of empty slice.\n",
      "  return _methods._mean(a, axis=axis, dtype=dtype,\n",
      "C:\\Users\\silas\\miniconda3\\envs\\GBSV\\Lib\\site-packages\\numpy\\_core\\_methods.py:147: RuntimeWarning: invalid value encountered in scalar divide\n",
      "  ret = ret.dtype.type(ret / rcount)\n",
      "C:\\Users\\silas\\miniconda3\\envs\\GBSV\\Lib\\site-packages\\numpy\\_core\\fromnumeric.py:3904: RuntimeWarning: Mean of empty slice.\n",
      "  return _methods._mean(a, axis=axis, dtype=dtype,\n",
      "C:\\Users\\silas\\miniconda3\\envs\\GBSV\\Lib\\site-packages\\numpy\\_core\\_methods.py:149: RuntimeWarning: invalid value encountered in scalar divide\n",
      "  ret = ret / rcount\n",
      "C:\\Users\\silas\\miniconda3\\envs\\GBSV\\Lib\\site-packages\\numpy\\_core\\fromnumeric.py:3904: RuntimeWarning: Mean of empty slice.\n",
      "  return _methods._mean(a, axis=axis, dtype=dtype,\n",
      "C:\\Users\\silas\\miniconda3\\envs\\GBSV\\Lib\\site-packages\\numpy\\_core\\_methods.py:147: RuntimeWarning: invalid value encountered in scalar divide\n",
      "  ret = ret.dtype.type(ret / rcount)\n",
      "C:\\Users\\silas\\miniconda3\\envs\\GBSV\\Lib\\site-packages\\numpy\\_core\\fromnumeric.py:3904: RuntimeWarning: Mean of empty slice.\n",
      "  return _methods._mean(a, axis=axis, dtype=dtype,\n",
      "C:\\Users\\silas\\miniconda3\\envs\\GBSV\\Lib\\site-packages\\numpy\\_core\\_methods.py:149: RuntimeWarning: invalid value encountered in scalar divide\n",
      "  ret = ret / rcount\n",
      "C:\\Users\\silas\\miniconda3\\envs\\GBSV\\Lib\\site-packages\\numpy\\_core\\fromnumeric.py:3904: RuntimeWarning: Mean of empty slice.\n",
      "  return _methods._mean(a, axis=axis, dtype=dtype,\n",
      "C:\\Users\\silas\\miniconda3\\envs\\GBSV\\Lib\\site-packages\\numpy\\_core\\_methods.py:147: RuntimeWarning: invalid value encountered in scalar divide\n",
      "  ret = ret.dtype.type(ret / rcount)\n",
      "C:\\Users\\silas\\miniconda3\\envs\\GBSV\\Lib\\site-packages\\numpy\\_core\\fromnumeric.py:3904: RuntimeWarning: Mean of empty slice.\n",
      "  return _methods._mean(a, axis=axis, dtype=dtype,\n",
      "C:\\Users\\silas\\miniconda3\\envs\\GBSV\\Lib\\site-packages\\numpy\\_core\\_methods.py:149: RuntimeWarning: invalid value encountered in scalar divide\n",
      "  ret = ret / rcount\n"
     ]
    },
    {
     "ename": "KeyboardInterrupt",
     "evalue": "",
     "output_type": "error",
     "traceback": [
      "\u001B[1;31m---------------------------------------------------------------------------\u001B[0m",
      "\u001B[1;31mKeyboardInterrupt\u001B[0m                         Traceback (most recent call last)",
      "Cell \u001B[1;32mIn[101], line 35\u001B[0m\n\u001B[0;32m     33\u001B[0m \u001B[38;5;28;01melse\u001B[39;00m:\n\u001B[0;32m     34\u001B[0m     sim_matrix \u001B[38;5;241m=\u001B[39m cosine_similarity_items(urm) \u001B[38;5;28;01mif\u001B[39;00m method \u001B[38;5;241m==\u001B[39m \u001B[38;5;124m\"\u001B[39m\u001B[38;5;124mcosine\u001B[39m\u001B[38;5;124m\"\u001B[39m \u001B[38;5;28;01melse\u001B[39;00m pearson_similarity_items(urm)\n\u001B[1;32m---> 35\u001B[0m     pred_ratings \u001B[38;5;241m=\u001B[39m \u001B[43mpredict_ratings_item_based\u001B[49m\u001B[43m(\u001B[49m\u001B[43muser_id\u001B[49m\u001B[43m,\u001B[49m\u001B[43m \u001B[49m\u001B[43msim_matrix\u001B[49m\u001B[43m,\u001B[49m\u001B[43m \u001B[49m\u001B[43murm\u001B[49m\u001B[43m,\u001B[49m\u001B[43m \u001B[49m\u001B[43mk\u001B[49m\u001B[43m)\u001B[49m\n\u001B[0;32m     37\u001B[0m \u001B[38;5;66;03m# Nur für Filme, die im Test-Set sind\u001B[39;00m\n\u001B[0;32m     38\u001B[0m true_ratings \u001B[38;5;241m=\u001B[39m test_df[test_df[\u001B[38;5;124m\"\u001B[39m\u001B[38;5;124muserId\u001B[39m\u001B[38;5;124m\"\u001B[39m] \u001B[38;5;241m==\u001B[39m user_id]\u001B[38;5;241m.\u001B[39mset_index(\u001B[38;5;124m\"\u001B[39m\u001B[38;5;124mmovieId\u001B[39m\u001B[38;5;124m\"\u001B[39m)\n",
      "Cell \u001B[1;32mIn[82], line 19\u001B[0m, in \u001B[0;36mpredict_ratings_item_based\u001B[1;34m(user_id, similarity_matrix, rating_matrix, k)\u001B[0m\n\u001B[0;32m     16\u001B[0m \u001B[38;5;28;01mif\u001B[39;00m item \u001B[38;5;129;01mnot\u001B[39;00m \u001B[38;5;129;01min\u001B[39;00m similarity_matrix\u001B[38;5;241m.\u001B[39mcolumns:\n\u001B[0;32m     17\u001B[0m     \u001B[38;5;28;01mcontinue\u001B[39;00m\n\u001B[1;32m---> 19\u001B[0m sims \u001B[38;5;241m=\u001B[39m \u001B[43msimilarity_matrix\u001B[49m\u001B[43m[\u001B[49m\u001B[43mitem\u001B[49m\u001B[43m]\u001B[49m\u001B[38;5;241;43m.\u001B[39;49m\u001B[43mdrop\u001B[49m\u001B[43m(\u001B[49m\u001B[43mitem\u001B[49m\u001B[43m)\u001B[49m\u001B[38;5;241m.\u001B[39mdropna()  \u001B[38;5;66;03m# Entfernen des Vergleichs zum gleichen Item\u001B[39;00m\n\u001B[0;32m     20\u001B[0m rated_sims \u001B[38;5;241m=\u001B[39m sims[user_ratings\u001B[38;5;241m.\u001B[39mindex\u001B[38;5;241m.\u001B[39mintersection(sims\u001B[38;5;241m.\u001B[39mindex)]  \u001B[38;5;66;03m# Nur die Items, die der User bewertet hat\u001B[39;00m\n\u001B[0;32m     21\u001B[0m top_k \u001B[38;5;241m=\u001B[39m rated_sims\u001B[38;5;241m.\u001B[39msort_values(ascending\u001B[38;5;241m=\u001B[39m\u001B[38;5;28;01mFalse\u001B[39;00m)\u001B[38;5;241m.\u001B[39mhead(k)\n",
      "File \u001B[1;32m~\\miniconda3\\envs\\GBSV\\Lib\\site-packages\\pandas\\core\\series.py:5356\u001B[0m, in \u001B[0;36mSeries.drop\u001B[1;34m(self, labels, axis, index, columns, level, inplace, errors)\u001B[0m\n\u001B[0;32m   5259\u001B[0m \u001B[38;5;28;01mdef\u001B[39;00m\u001B[38;5;250m \u001B[39m\u001B[38;5;21mdrop\u001B[39m(\n\u001B[0;32m   5260\u001B[0m     \u001B[38;5;28mself\u001B[39m,\n\u001B[0;32m   5261\u001B[0m     labels: IndexLabel \u001B[38;5;241m|\u001B[39m \u001B[38;5;28;01mNone\u001B[39;00m \u001B[38;5;241m=\u001B[39m \u001B[38;5;28;01mNone\u001B[39;00m,\n\u001B[1;32m   (...)\u001B[0m\n\u001B[0;32m   5268\u001B[0m     errors: IgnoreRaise \u001B[38;5;241m=\u001B[39m \u001B[38;5;124m\"\u001B[39m\u001B[38;5;124mraise\u001B[39m\u001B[38;5;124m\"\u001B[39m,\n\u001B[0;32m   5269\u001B[0m ) \u001B[38;5;241m-\u001B[39m\u001B[38;5;241m>\u001B[39m Series \u001B[38;5;241m|\u001B[39m \u001B[38;5;28;01mNone\u001B[39;00m:\n\u001B[0;32m   5270\u001B[0m \u001B[38;5;250m    \u001B[39m\u001B[38;5;124;03m\"\"\"\u001B[39;00m\n\u001B[0;32m   5271\u001B[0m \u001B[38;5;124;03m    Return Series with specified index labels removed.\u001B[39;00m\n\u001B[0;32m   5272\u001B[0m \n\u001B[1;32m   (...)\u001B[0m\n\u001B[0;32m   5354\u001B[0m \u001B[38;5;124;03m    dtype: float64\u001B[39;00m\n\u001B[0;32m   5355\u001B[0m \u001B[38;5;124;03m    \"\"\"\u001B[39;00m\n\u001B[1;32m-> 5356\u001B[0m     \u001B[38;5;28;01mreturn\u001B[39;00m \u001B[38;5;28;43msuper\u001B[39;49m\u001B[43m(\u001B[49m\u001B[43m)\u001B[49m\u001B[38;5;241;43m.\u001B[39;49m\u001B[43mdrop\u001B[49m\u001B[43m(\u001B[49m\n\u001B[0;32m   5357\u001B[0m \u001B[43m        \u001B[49m\u001B[43mlabels\u001B[49m\u001B[38;5;241;43m=\u001B[39;49m\u001B[43mlabels\u001B[49m\u001B[43m,\u001B[49m\n\u001B[0;32m   5358\u001B[0m \u001B[43m        \u001B[49m\u001B[43maxis\u001B[49m\u001B[38;5;241;43m=\u001B[39;49m\u001B[43maxis\u001B[49m\u001B[43m,\u001B[49m\n\u001B[0;32m   5359\u001B[0m \u001B[43m        \u001B[49m\u001B[43mindex\u001B[49m\u001B[38;5;241;43m=\u001B[39;49m\u001B[43mindex\u001B[49m\u001B[43m,\u001B[49m\n\u001B[0;32m   5360\u001B[0m \u001B[43m        \u001B[49m\u001B[43mcolumns\u001B[49m\u001B[38;5;241;43m=\u001B[39;49m\u001B[43mcolumns\u001B[49m\u001B[43m,\u001B[49m\n\u001B[0;32m   5361\u001B[0m \u001B[43m        \u001B[49m\u001B[43mlevel\u001B[49m\u001B[38;5;241;43m=\u001B[39;49m\u001B[43mlevel\u001B[49m\u001B[43m,\u001B[49m\n\u001B[0;32m   5362\u001B[0m \u001B[43m        \u001B[49m\u001B[43minplace\u001B[49m\u001B[38;5;241;43m=\u001B[39;49m\u001B[43minplace\u001B[49m\u001B[43m,\u001B[49m\n\u001B[0;32m   5363\u001B[0m \u001B[43m        \u001B[49m\u001B[43merrors\u001B[49m\u001B[38;5;241;43m=\u001B[39;49m\u001B[43merrors\u001B[49m\u001B[43m,\u001B[49m\n\u001B[0;32m   5364\u001B[0m \u001B[43m    \u001B[49m\u001B[43m)\u001B[49m\n",
      "File \u001B[1;32m~\\miniconda3\\envs\\GBSV\\Lib\\site-packages\\pandas\\core\\generic.py:4788\u001B[0m, in \u001B[0;36mNDFrame.drop\u001B[1;34m(self, labels, axis, index, columns, level, inplace, errors)\u001B[0m\n\u001B[0;32m   4786\u001B[0m \u001B[38;5;28;01mfor\u001B[39;00m axis, labels \u001B[38;5;129;01min\u001B[39;00m axes\u001B[38;5;241m.\u001B[39mitems():\n\u001B[0;32m   4787\u001B[0m     \u001B[38;5;28;01mif\u001B[39;00m labels \u001B[38;5;129;01mis\u001B[39;00m \u001B[38;5;129;01mnot\u001B[39;00m \u001B[38;5;28;01mNone\u001B[39;00m:\n\u001B[1;32m-> 4788\u001B[0m         obj \u001B[38;5;241m=\u001B[39m \u001B[43mobj\u001B[49m\u001B[38;5;241;43m.\u001B[39;49m\u001B[43m_drop_axis\u001B[49m\u001B[43m(\u001B[49m\u001B[43mlabels\u001B[49m\u001B[43m,\u001B[49m\u001B[43m \u001B[49m\u001B[43maxis\u001B[49m\u001B[43m,\u001B[49m\u001B[43m \u001B[49m\u001B[43mlevel\u001B[49m\u001B[38;5;241;43m=\u001B[39;49m\u001B[43mlevel\u001B[49m\u001B[43m,\u001B[49m\u001B[43m \u001B[49m\u001B[43merrors\u001B[49m\u001B[38;5;241;43m=\u001B[39;49m\u001B[43merrors\u001B[49m\u001B[43m)\u001B[49m\n\u001B[0;32m   4790\u001B[0m \u001B[38;5;28;01mif\u001B[39;00m inplace:\n\u001B[0;32m   4791\u001B[0m     \u001B[38;5;28mself\u001B[39m\u001B[38;5;241m.\u001B[39m_update_inplace(obj)\n",
      "File \u001B[1;32m~\\miniconda3\\envs\\GBSV\\Lib\\site-packages\\pandas\\core\\generic.py:4831\u001B[0m, in \u001B[0;36mNDFrame._drop_axis\u001B[1;34m(self, labels, axis, level, errors, only_slice)\u001B[0m\n\u001B[0;32m   4829\u001B[0m     \u001B[38;5;28;01melse\u001B[39;00m:\n\u001B[0;32m   4830\u001B[0m         new_axis \u001B[38;5;241m=\u001B[39m axis\u001B[38;5;241m.\u001B[39mdrop(labels, errors\u001B[38;5;241m=\u001B[39merrors)\n\u001B[1;32m-> 4831\u001B[0m     indexer \u001B[38;5;241m=\u001B[39m \u001B[43maxis\u001B[49m\u001B[38;5;241;43m.\u001B[39;49m\u001B[43mget_indexer\u001B[49m\u001B[43m(\u001B[49m\u001B[43mnew_axis\u001B[49m\u001B[43m)\u001B[49m\n\u001B[0;32m   4833\u001B[0m \u001B[38;5;66;03m# Case for non-unique axis\u001B[39;00m\n\u001B[0;32m   4834\u001B[0m \u001B[38;5;28;01melse\u001B[39;00m:\n\u001B[0;32m   4835\u001B[0m     is_tuple_labels \u001B[38;5;241m=\u001B[39m is_nested_list_like(labels) \u001B[38;5;129;01mor\u001B[39;00m \u001B[38;5;28misinstance\u001B[39m(labels, \u001B[38;5;28mtuple\u001B[39m)\n",
      "File \u001B[1;32m~\\miniconda3\\envs\\GBSV\\Lib\\site-packages\\pandas\\core\\indexes\\base.py:3953\u001B[0m, in \u001B[0;36mIndex.get_indexer\u001B[1;34m(self, target, method, limit, tolerance)\u001B[0m\n\u001B[0;32m   3948\u001B[0m     target \u001B[38;5;241m=\u001B[39m target\u001B[38;5;241m.\u001B[39mastype(dtype, copy\u001B[38;5;241m=\u001B[39m\u001B[38;5;28;01mFalse\u001B[39;00m)\n\u001B[0;32m   3949\u001B[0m     \u001B[38;5;28;01mreturn\u001B[39;00m this\u001B[38;5;241m.\u001B[39m_get_indexer(\n\u001B[0;32m   3950\u001B[0m         target, method\u001B[38;5;241m=\u001B[39mmethod, limit\u001B[38;5;241m=\u001B[39mlimit, tolerance\u001B[38;5;241m=\u001B[39mtolerance\n\u001B[0;32m   3951\u001B[0m     )\n\u001B[1;32m-> 3953\u001B[0m \u001B[38;5;28;01mreturn\u001B[39;00m \u001B[38;5;28;43mself\u001B[39;49m\u001B[38;5;241;43m.\u001B[39;49m\u001B[43m_get_indexer\u001B[49m\u001B[43m(\u001B[49m\u001B[43mtarget\u001B[49m\u001B[43m,\u001B[49m\u001B[43m \u001B[49m\u001B[43mmethod\u001B[49m\u001B[43m,\u001B[49m\u001B[43m \u001B[49m\u001B[43mlimit\u001B[49m\u001B[43m,\u001B[49m\u001B[43m \u001B[49m\u001B[43mtolerance\u001B[49m\u001B[43m)\u001B[49m\n",
      "File \u001B[1;32m~\\miniconda3\\envs\\GBSV\\Lib\\site-packages\\pandas\\core\\indexes\\base.py:3980\u001B[0m, in \u001B[0;36mIndex._get_indexer\u001B[1;34m(self, target, method, limit, tolerance)\u001B[0m\n\u001B[0;32m   3977\u001B[0m     \u001B[38;5;28;01melse\u001B[39;00m:\n\u001B[0;32m   3978\u001B[0m         tgt_values \u001B[38;5;241m=\u001B[39m target\u001B[38;5;241m.\u001B[39m_get_engine_target()\n\u001B[1;32m-> 3980\u001B[0m     indexer \u001B[38;5;241m=\u001B[39m \u001B[38;5;28;43mself\u001B[39;49m\u001B[38;5;241;43m.\u001B[39;49m\u001B[43m_engine\u001B[49m\u001B[38;5;241;43m.\u001B[39;49m\u001B[43mget_indexer\u001B[49m\u001B[43m(\u001B[49m\u001B[43mtgt_values\u001B[49m\u001B[43m)\u001B[49m\n\u001B[0;32m   3982\u001B[0m \u001B[38;5;28;01mreturn\u001B[39;00m ensure_platform_int(indexer)\n",
      "\u001B[1;31mKeyboardInterrupt\u001B[0m: "
     ]
    }
   ],
   "execution_count": 101
  },
  {
   "metadata": {
    "ExecuteTime": {
     "end_time": "2025-04-23T11:06:39.390849Z",
     "start_time": "2025-04-23T11:02:17.842096Z"
    }
   },
   "cell_type": "code",
   "source": [
    "# URM auf Basis von test_masked\n",
    "urm = create_urm(test_masked, \"userId\", \"movieId\", \"rating\")\n",
    "\n",
    "# Wahre Bewertungen aus test_df extrahieren\n",
    "true_ratings_df = test.set_index([\"userId\", \"movieId\"])[\"rating\"]\n",
    "\n",
    "# Beispielnutzer\n",
    "example_users = [3, 5, 7]\n",
    "\n",
    "# K-Werte\n",
    "k_values = list(range(5, 51, 5))\n",
    "\n",
    "# Platzhalter für Ergebnisse\n",
    "results = {\n",
    "    \"user_cosine\": [],\n",
    "    \"user_pearson\": [],\n",
    "    \"item_cosine\": [],\n",
    "    \"item_pearson\": []\n",
    "}\n",
    "\n",
    "# Hilfsfunktion zur RMSE-Berechnung aus einer Vorhersage- und Testmenge\n",
    "def evaluate_predictions(predicted, true_df, user_ids):\n",
    "    preds, trues = [], []\n",
    "    for uid in user_ids:\n",
    "        if uid not in predicted:\n",
    "            continue\n",
    "        for iid, pred_rating in predicted[uid].items():\n",
    "            if (uid, iid) in true_df:\n",
    "                preds.append(pred_rating)\n",
    "                trues.append(true_df[(uid, iid)])\n",
    "    return root_mean_square_error(trues, preds), preds, trues\n",
    "\n",
    "# Vorhersagen und Evaluation pro Methode und k sammeln\n",
    "from collections import defaultdict\n",
    "\n",
    "for k in k_values:\n",
    "    print(f\"Berechne für K={k}...\")\n",
    "    row = {}\n",
    "\n",
    "    # User-based Cosine\n",
    "    user_sim_cosine = cosine_similarity_users(urm)\n",
    "    pred_uc = {uid: predict_ratings_user_based_(uid, user_sim_cosine, urm, k) for uid in example_users}\n",
    "    rmse_uc, _, _ = evaluate_predictions(pred_uc, true_ratings_df, example_users)\n",
    "    results[\"user_cosine\"].append((k, rmse_uc))\n",
    "\n",
    "    # User-based Pearson\n",
    "    user_sim_pearson = pearson_similarity_users(urm)\n",
    "    pred_up = {uid: predict_ratings_user_based_(uid, user_sim_pearson, urm, k) for uid in example_users}\n",
    "    rmse_up, _, _ = evaluate_predictions(pred_up, true_ratings_df, example_users)\n",
    "    results[\"user_pearson\"].append((k, rmse_up))\n",
    "\n",
    "    # Item-based Cosine\n",
    "    item_sim_cosine = cosine_similarity_items(urm)\n",
    "    pred_ic = {uid: predict_ratings_item_based(uid, item_sim_cosine, urm, k) for uid in example_users}\n",
    "    rmse_ic, _, _ = evaluate_predictions(pred_ic, true_ratings_df, example_users)\n",
    "    results[\"item_cosine\"].append((k, rmse_ic))\n",
    "\n",
    "    # Item-based Pearson\n",
    "    item_sim_pearson = pearson_similarity_items(urm)\n",
    "    pred_ip = {uid: predict_ratings_item_based(uid, item_sim_pearson, urm, k) for uid in example_users}\n",
    "    rmse_ip, _, _ = evaluate_predictions(pred_ip, true_ratings_df, example_users)\n",
    "    results[\"item_pearson\"].append((k, rmse_ip))\n",
    "\n",
    "results"
   ],
   "outputs": [
    {
     "name": "stdout",
     "output_type": "stream",
     "text": [
      "Berechne für K=5...\n"
     ]
    },
    {
     "name": "stderr",
     "output_type": "stream",
     "text": [
      "C:\\Users\\silas\\miniconda3\\envs\\GBSV\\Lib\\site-packages\\numpy\\_core\\fromnumeric.py:3904: RuntimeWarning: Mean of empty slice.\n",
      "  return _methods._mean(a, axis=axis, dtype=dtype,\n",
      "C:\\Users\\silas\\miniconda3\\envs\\GBSV\\Lib\\site-packages\\numpy\\_core\\_methods.py:147: RuntimeWarning: invalid value encountered in scalar divide\n",
      "  ret = ret.dtype.type(ret / rcount)\n"
     ]
    },
    {
     "name": "stdout",
     "output_type": "stream",
     "text": [
      "Berechne für K=10...\n"
     ]
    },
    {
     "name": "stderr",
     "output_type": "stream",
     "text": [
      "C:\\Users\\silas\\miniconda3\\envs\\GBSV\\Lib\\site-packages\\numpy\\_core\\fromnumeric.py:3904: RuntimeWarning: Mean of empty slice.\n",
      "  return _methods._mean(a, axis=axis, dtype=dtype,\n",
      "C:\\Users\\silas\\miniconda3\\envs\\GBSV\\Lib\\site-packages\\numpy\\_core\\_methods.py:147: RuntimeWarning: invalid value encountered in scalar divide\n",
      "  ret = ret.dtype.type(ret / rcount)\n"
     ]
    },
    {
     "name": "stdout",
     "output_type": "stream",
     "text": [
      "Berechne für K=15...\n"
     ]
    },
    {
     "name": "stderr",
     "output_type": "stream",
     "text": [
      "C:\\Users\\silas\\miniconda3\\envs\\GBSV\\Lib\\site-packages\\numpy\\_core\\fromnumeric.py:3904: RuntimeWarning: Mean of empty slice.\n",
      "  return _methods._mean(a, axis=axis, dtype=dtype,\n",
      "C:\\Users\\silas\\miniconda3\\envs\\GBSV\\Lib\\site-packages\\numpy\\_core\\_methods.py:147: RuntimeWarning: invalid value encountered in scalar divide\n",
      "  ret = ret.dtype.type(ret / rcount)\n"
     ]
    },
    {
     "name": "stdout",
     "output_type": "stream",
     "text": [
      "Berechne für K=20...\n"
     ]
    },
    {
     "name": "stderr",
     "output_type": "stream",
     "text": [
      "C:\\Users\\silas\\miniconda3\\envs\\GBSV\\Lib\\site-packages\\numpy\\_core\\fromnumeric.py:3904: RuntimeWarning: Mean of empty slice.\n",
      "  return _methods._mean(a, axis=axis, dtype=dtype,\n",
      "C:\\Users\\silas\\miniconda3\\envs\\GBSV\\Lib\\site-packages\\numpy\\_core\\_methods.py:147: RuntimeWarning: invalid value encountered in scalar divide\n",
      "  ret = ret.dtype.type(ret / rcount)\n"
     ]
    },
    {
     "name": "stdout",
     "output_type": "stream",
     "text": [
      "Berechne für K=25...\n"
     ]
    },
    {
     "name": "stderr",
     "output_type": "stream",
     "text": [
      "C:\\Users\\silas\\miniconda3\\envs\\GBSV\\Lib\\site-packages\\numpy\\_core\\fromnumeric.py:3904: RuntimeWarning: Mean of empty slice.\n",
      "  return _methods._mean(a, axis=axis, dtype=dtype,\n",
      "C:\\Users\\silas\\miniconda3\\envs\\GBSV\\Lib\\site-packages\\numpy\\_core\\_methods.py:147: RuntimeWarning: invalid value encountered in scalar divide\n",
      "  ret = ret.dtype.type(ret / rcount)\n"
     ]
    },
    {
     "name": "stdout",
     "output_type": "stream",
     "text": [
      "Berechne für K=30...\n"
     ]
    },
    {
     "name": "stderr",
     "output_type": "stream",
     "text": [
      "C:\\Users\\silas\\miniconda3\\envs\\GBSV\\Lib\\site-packages\\numpy\\_core\\fromnumeric.py:3904: RuntimeWarning: Mean of empty slice.\n",
      "  return _methods._mean(a, axis=axis, dtype=dtype,\n",
      "C:\\Users\\silas\\miniconda3\\envs\\GBSV\\Lib\\site-packages\\numpy\\_core\\_methods.py:147: RuntimeWarning: invalid value encountered in scalar divide\n",
      "  ret = ret.dtype.type(ret / rcount)\n"
     ]
    },
    {
     "name": "stdout",
     "output_type": "stream",
     "text": [
      "Berechne für K=35...\n"
     ]
    },
    {
     "name": "stderr",
     "output_type": "stream",
     "text": [
      "C:\\Users\\silas\\miniconda3\\envs\\GBSV\\Lib\\site-packages\\numpy\\_core\\fromnumeric.py:3904: RuntimeWarning: Mean of empty slice.\n",
      "  return _methods._mean(a, axis=axis, dtype=dtype,\n",
      "C:\\Users\\silas\\miniconda3\\envs\\GBSV\\Lib\\site-packages\\numpy\\_core\\_methods.py:147: RuntimeWarning: invalid value encountered in scalar divide\n",
      "  ret = ret.dtype.type(ret / rcount)\n"
     ]
    },
    {
     "name": "stdout",
     "output_type": "stream",
     "text": [
      "Berechne für K=40...\n"
     ]
    },
    {
     "name": "stderr",
     "output_type": "stream",
     "text": [
      "C:\\Users\\silas\\miniconda3\\envs\\GBSV\\Lib\\site-packages\\numpy\\_core\\fromnumeric.py:3904: RuntimeWarning: Mean of empty slice.\n",
      "  return _methods._mean(a, axis=axis, dtype=dtype,\n",
      "C:\\Users\\silas\\miniconda3\\envs\\GBSV\\Lib\\site-packages\\numpy\\_core\\_methods.py:147: RuntimeWarning: invalid value encountered in scalar divide\n",
      "  ret = ret.dtype.type(ret / rcount)\n"
     ]
    },
    {
     "name": "stdout",
     "output_type": "stream",
     "text": [
      "Berechne für K=45...\n"
     ]
    },
    {
     "name": "stderr",
     "output_type": "stream",
     "text": [
      "C:\\Users\\silas\\miniconda3\\envs\\GBSV\\Lib\\site-packages\\numpy\\_core\\fromnumeric.py:3904: RuntimeWarning: Mean of empty slice.\n",
      "  return _methods._mean(a, axis=axis, dtype=dtype,\n",
      "C:\\Users\\silas\\miniconda3\\envs\\GBSV\\Lib\\site-packages\\numpy\\_core\\_methods.py:147: RuntimeWarning: invalid value encountered in scalar divide\n",
      "  ret = ret.dtype.type(ret / rcount)\n"
     ]
    },
    {
     "name": "stdout",
     "output_type": "stream",
     "text": [
      "Berechne für K=50...\n"
     ]
    },
    {
     "name": "stderr",
     "output_type": "stream",
     "text": [
      "C:\\Users\\silas\\miniconda3\\envs\\GBSV\\Lib\\site-packages\\numpy\\_core\\fromnumeric.py:3904: RuntimeWarning: Mean of empty slice.\n",
      "  return _methods._mean(a, axis=axis, dtype=dtype,\n",
      "C:\\Users\\silas\\miniconda3\\envs\\GBSV\\Lib\\site-packages\\numpy\\_core\\_methods.py:147: RuntimeWarning: invalid value encountered in scalar divide\n",
      "  ret = ret.dtype.type(ret / rcount)\n"
     ]
    },
    {
     "data": {
      "text/plain": [
       "{'user_cosine': [(5, np.float64(1.5872959452230884)),\n",
       "  (10, np.float64(1.580954124881943)),\n",
       "  (15, np.float64(1.5798181938110327)),\n",
       "  (20, np.float64(1.579789718773747)),\n",
       "  (25, np.float64(1.579789718773747)),\n",
       "  (30, np.float64(1.579789718773747)),\n",
       "  (35, np.float64(1.579789718773747)),\n",
       "  (40, np.float64(1.579789718773747)),\n",
       "  (45, np.float64(1.579789718773747)),\n",
       "  (50, np.float64(1.579789718773747))],\n",
       " 'user_pearson': [(5, np.float64(1.5872959452230884)),\n",
       "  (10, np.float64(1.580954124881943)),\n",
       "  (15, np.float64(1.5798181938110327)),\n",
       "  (20, np.float64(1.579789718773747)),\n",
       "  (25, np.float64(1.579789718773747)),\n",
       "  (30, np.float64(1.579789718773747)),\n",
       "  (35, np.float64(1.579789718773747)),\n",
       "  (40, np.float64(1.579789718773747)),\n",
       "  (45, np.float64(1.579789718773747)),\n",
       "  (50, np.float64(1.579789718773747))],\n",
       " 'item_cosine': [(5, np.float64(1.0892649629522921)),\n",
       "  (10, np.float64(4.09722654331171)),\n",
       "  (15, np.float64(4.09722654331171)),\n",
       "  (20, np.float64(4.09722654331171)),\n",
       "  (25, np.float64(4.09722654331171)),\n",
       "  (30, np.float64(4.09722654331171)),\n",
       "  (35, np.float64(4.09722654331171)),\n",
       "  (40, np.float64(4.09722654331171)),\n",
       "  (45, np.float64(4.09722654331171)),\n",
       "  (50, np.float64(4.09722654331171))],\n",
       " 'item_pearson': [(5, np.float64(nan)),\n",
       "  (10, np.float64(nan)),\n",
       "  (15, np.float64(nan)),\n",
       "  (20, np.float64(nan)),\n",
       "  (25, np.float64(nan)),\n",
       "  (30, np.float64(nan)),\n",
       "  (35, np.float64(nan)),\n",
       "  (40, np.float64(nan)),\n",
       "  (45, np.float64(nan)),\n",
       "  (50, np.float64(nan))]}"
      ]
     },
     "execution_count": 102,
     "metadata": {},
     "output_type": "execute_result"
    }
   ],
   "execution_count": 102
  },
  {
   "metadata": {
    "ExecuteTime": {
     "end_time": "2025-04-23T11:07:36.795060Z",
     "start_time": "2025-04-23T11:07:36.779411Z"
    }
   },
   "cell_type": "code",
   "source": [
    "import numpy as np\n",
    "import pandas as pd\n",
    "import matplotlib.pyplot as plt\n",
    "from sklearn.metrics import mean_squared_error\n",
    "from math import sqrt\n",
    "\n",
    "def evaluate_top_n(model, test_masked, test_original, k_values, user_col=\"userId\", item_col=\"itemId\", rating_col=\"rating\"):\n",
    "    \"\"\"\n",
    "    Evaluiert das Modell über verschiedene K-Werte (Top-K Empfehlungen)\n",
    "    Gibt RMSE, Precision@K, Recall@K für jeden K zurück\n",
    "    \"\"\"\n",
    "\n",
    "    results = {\n",
    "        \"K\": [],\n",
    "        \"RMSE\": [],\n",
    "        \"Precision\": [],\n",
    "        \"Recall\": []\n",
    "    }\n",
    "\n",
    "    users = test_original[user_col].unique()\n",
    "\n",
    "    for k in k_values:\n",
    "        y_true = []\n",
    "        y_pred = []\n",
    "\n",
    "        precisions = []\n",
    "        recalls = []\n",
    "\n",
    "        for user_id in users:\n",
    "            # Originale Bewertungen des Users (nicht maskiert)\n",
    "            original_user_data = test_original[test_original[user_col] == user_id]\n",
    "            relevant_items = set(original_user_data[item_col])\n",
    "\n",
    "            # Generiere Top-N Empfehlungen mit deinem Modell (hier ein Dummy)\n",
    "            # Du musst `model.predict_top_k(user_id, k)` selbst implementieren\n",
    "            top_n_predictions = model.predict_top_k(user_id, k)\n",
    "\n",
    "            # ---- RMSE ----\n",
    "            for item_id, predicted_rating in top_n_predictions:\n",
    "                # Falls Item in originalem Testset → hole echten Wert\n",
    "                match = original_user_data[original_user_data[item_col] == item_id]\n",
    "                if not match.empty:\n",
    "                    true_rating = match.iloc[0][rating_col]\n",
    "                    y_true.append(true_rating)\n",
    "                    y_pred.append(predicted_rating)\n",
    "\n",
    "            # ---- Precision & Recall ----\n",
    "            predicted_items = set([item_id for item_id, _ in top_n_predictions])\n",
    "            hits = predicted_items & relevant_items\n",
    "\n",
    "            if len(predicted_items) > 0:\n",
    "                precisions.append(len(hits) / len(predicted_items))\n",
    "            if len(relevant_items) > 0:\n",
    "                recalls.append(len(hits) / len(relevant_items))\n",
    "\n",
    "        # RMSE\n",
    "        if len(y_true) > 0:\n",
    "            rmse = sqrt(mean_squared_error(y_true, y_pred))\n",
    "        else:\n",
    "            rmse = np.nan\n",
    "\n",
    "        results[\"K\"].append(k)\n",
    "        results[\"RMSE\"].append(rmse)\n",
    "        results[\"Precision\"].append(np.mean(precisions) if precisions else 0)\n",
    "        results[\"Recall\"].append(np.mean(recalls) if recalls else 0)\n",
    "\n",
    "    return pd.DataFrame(results)\n",
    "\n",
    "\n",
    "def plot_metrics(df_results):\n",
    "    plt.figure(figsize=(12, 6))\n",
    "\n",
    "    plt.plot(df_results[\"K\"], df_results[\"RMSE\"], label=\"RMSE\", marker=\"o\")\n",
    "    plt.plot(df_results[\"K\"], df_results[\"Precision\"], label=\"Precision@K\", marker=\"o\")\n",
    "    plt.plot(df_results[\"K\"], df_results[\"Recall\"], label=\"Recall@K\", marker=\"o\")\n",
    "\n",
    "    plt.title(\"Evaluation Metrics vs. K\")\n",
    "    plt.xlabel(\"K (Top-N)\")\n",
    "    plt.ylabel(\"Score\")\n",
    "    plt.legend()\n",
    "    plt.grid(True)\n",
    "    plt.tight_layout()\n",
    "    plt.show()\n"
   ],
   "outputs": [
    {
     "name": "stdout",
     "output_type": "stream",
     "text": [
      "{'item_cosine': [(5, np.float64(1.0892649629522921)),\n",
      "                 (10, np.float64(4.09722654331171)),\n",
      "                 (15, np.float64(4.09722654331171)),\n",
      "                 (20, np.float64(4.09722654331171)),\n",
      "                 (25, np.float64(4.09722654331171)),\n",
      "                 (30, np.float64(4.09722654331171)),\n",
      "                 (35, np.float64(4.09722654331171)),\n",
      "                 (40, np.float64(4.09722654331171)),\n",
      "                 (45, np.float64(4.09722654331171)),\n",
      "                 (50, np.float64(4.09722654331171))],\n",
      " 'item_pearson': [(5, np.float64(nan)),\n",
      "                  (10, np.float64(nan)),\n",
      "                  (15, np.float64(nan)),\n",
      "                  (20, np.float64(nan)),\n",
      "                  (25, np.float64(nan)),\n",
      "                  (30, np.float64(nan)),\n",
      "                  (35, np.float64(nan)),\n",
      "                  (40, np.float64(nan)),\n",
      "                  (45, np.float64(nan)),\n",
      "                  (50, np.float64(nan))],\n",
      " 'user_cosine': [(5, np.float64(1.5872959452230884)),\n",
      "                 (10, np.float64(1.580954124881943)),\n",
      "                 (15, np.float64(1.5798181938110327)),\n",
      "                 (20, np.float64(1.579789718773747)),\n",
      "                 (25, np.float64(1.579789718773747)),\n",
      "                 (30, np.float64(1.579789718773747)),\n",
      "                 (35, np.float64(1.579789718773747)),\n",
      "                 (40, np.float64(1.579789718773747)),\n",
      "                 (45, np.float64(1.579789718773747)),\n",
      "                 (50, np.float64(1.579789718773747))],\n",
      " 'user_pearson': [(5, np.float64(1.5872959452230884)),\n",
      "                  (10, np.float64(1.580954124881943)),\n",
      "                  (15, np.float64(1.5798181938110327)),\n",
      "                  (20, np.float64(1.579789718773747)),\n",
      "                  (25, np.float64(1.579789718773747)),\n",
      "                  (30, np.float64(1.579789718773747)),\n",
      "                  (35, np.float64(1.579789718773747)),\n",
      "                  (40, np.float64(1.579789718773747)),\n",
      "                  (45, np.float64(1.579789718773747)),\n",
      "                  (50, np.float64(1.579789718773747))]}\n"
     ]
    }
   ],
   "execution_count": 103
  },
  {
   "cell_type": "markdown",
   "metadata": {},
   "source": [
    "### Exercise 7 - Model-based RS: SVD (10 points)\n",
    "In this exercise we will use the unsupervised method *singular value decomposition (SVD)* from the python package *surprise* (https://surpriselib.com, documentation https://surprise.readthedocs.io/en/stable/matrix_factorization.html). SVD can compress much of the information of a matrix in few components.  \n",
    "\n",
    "a)Run the SVD RS and show the results on the three example users from exercise 2. Explain how this algorithm works.\n",
    "\n",
    "Note: A very good general introduction to SVD is this youtube video series starting with https://www.youtube.com/watch?v=gXbThCXjZFM&t=337s . See *Collaborative filtering recommender systems* by Ekstrand et al. *Mining of massive datasets* by Leskovec, Kapitel 11 (2020) and, *Recommender systems: The textbook*, by Aggarwal, chapter 3\n",
    "\n",
    "b) We explore now what latent factors SVD has learned. Generate three sorted lists: Sort the items by their biggest, second biggest and third biggest singlular value component. For each list print the top and bottom 20 items. What do you observe?"
   ]
  },
  {
   "cell_type": "code",
   "metadata": {},
   "source": "",
   "outputs": [],
   "execution_count": null
  },
  {
   "metadata": {},
   "cell_type": "code",
   "source": "",
   "outputs": [],
   "execution_count": null
  },
  {
   "cell_type": "markdown",
   "metadata": {},
   "source": [
    "### Exercise 8 - Optimize hyperparameter $k$ or `n_factors` (4 points)\n",
    "Optimize the hyperparameter, representing the number of greatest SVD components used for the truncated reconstruction of the user item matrix, to minimize RMSE.\n",
    "Plot RMSE, Precision@N and Recall@N as a function of this hyperparameter. Finally output all performance metrics from exercise 3 for the optimal $k$ value."
   ]
  },
  {
   "cell_type": "markdown",
   "metadata": {},
   "source": []
  },
  {
   "cell_type": "code",
   "metadata": {},
   "source": [],
   "outputs": [],
   "execution_count": null
  },
  {
   "cell_type": "markdown",
   "metadata": {},
   "source": [
    "### Exercise 9 - Everything goes (30 points)\n",
    "In this exercise you can explore different methods of RS. You are not limited what methods you apply. You can try to improve the methods from the earlier exercises by modifiying them or generating ensemble or hybrid RS. Also you could train deep neural networks, use NLP methods, use the available links to imdb available in the dataset to further enrich the dataset or find an obscure method by someone else on Github. \n",
    "Document what your inspirations and sources are and describe the method conceptually. \n",
    "\n",
    "**Build and optimize in total *three* different methods. The last one has the additional requirement that it should increase the diversity of the recommendations in order to minimize filter bubbles.**\n",
    "\n",
    "**Important: If you use the work of someone else you must be able to explain the method conceptually during the defense MSP.** \n",
    "\n",
    "Output the performance metrics of exercise 3. "
   ]
  },
  {
   "cell_type": "code",
   "metadata": {},
   "source": [],
   "outputs": [],
   "execution_count": null
  },
  {
   "cell_type": "markdown",
   "metadata": {},
   "source": [
    "### Exercise 10 - Compare all RS that you build in this challenge (8 points)\n",
    "a) Compile a table with the performance metrics of exercise 3 for all RS from this MC (Make sure to include the baseline RS and random RS) on the test set defined in exercise 3. Also generate comparative plots. Discuss.\n",
    "\n",
    "b) Why is it important to keep a test set seperate till the end of a benchmark?"
   ]
  },
  {
   "cell_type": "code",
   "metadata": {},
   "source": "",
   "outputs": [],
   "execution_count": null
  },
  {
   "cell_type": "markdown",
   "metadata": {},
   "source": []
  },
  {
   "cell_type": "markdown",
   "metadata": {},
   "source": [
    "**Read the Guidelines for Implementation and Submission one more time.**"
   ]
  }
 ],
 "metadata": {
  "kernelspec": {
   "display_name": "RSY_FS24",
   "language": "python",
   "name": "python3"
  },
  "language_info": {
   "codemirror_mode": {
    "name": "ipython",
    "version": 3
   },
   "file_extension": ".py",
   "mimetype": "text/x-python",
   "name": "python",
   "nbconvert_exporter": "python",
   "pygments_lexer": "ipython3",
   "version": "3.10.13"
  }
 },
 "nbformat": 4,
 "nbformat_minor": 2
}
